{
 "cells": [
  {
   "cell_type": "code",
   "execution_count": null,
   "metadata": {
    "extensions": {
     "jupyter_dashboards": {
      "version": 1,
      "views": {
       "grid_default": {
        "hidden": true
       },
       "report_default": {}
      }
     }
    }
   },
   "outputs": [],
   "source": [
    "import numpy as np\n",
    "import sympy\n",
    "import qsymm\n",
    "from qsymm.kwant_integration import builder_to_model\n",
    "import kwant\n",
    "import matplotlib.pyplot as plt\n",
    "\n",
    "sympy.init_printing(print_builtin=True)\n",
    "np.set_printoptions(precision=2, suppress=True, linewidth=150)"
   ]
  },
  {
   "cell_type": "markdown",
   "metadata": {},
   "source": [
    "# 6-orbital model of bulk SnTe"
   ]
  },
  {
   "cell_type": "markdown",
   "metadata": {},
   "source": [
    "Model that includes spinful p-orbitals on both sublattices, 12 bands in total. Includes onsite SOC and $pp\\sigma$ hoppings"
   ]
  },
  {
   "cell_type": "code",
   "execution_count": null,
   "metadata": {},
   "outputs": [],
   "source": [
    "def SnTe_6orb(second_neighbor=True):\n",
    "    \"\"\"Make bulk 6-band model of SnTe from https://arxiv.org/pdf/1202.1003.pdf\n",
    "\n",
    "    second_neighbor: bool (default True)\n",
    "        Whether to include second neighbor hopping.\n",
    "    \"\"\"\n",
    "    sigmas = qsymm.groups.spin_matrices(1/2)\n",
    "    L = qsymm.groups.L_matrices(d=3, l=1)\n",
    "    L_dot_S = np.sum([np.kron(sigmas[i], L[i]) for i in range(3)], axis=0)\n",
    "\n",
    "    def onsite(site, m1, m2, lam1, lam2):\n",
    "        m = np.array([m1, m2])\n",
    "        lam = np.array([lam1, lam2])\n",
    "        # choose onsite terms based on which sublattice\n",
    "        a = np.sum(site.tag) % 2\n",
    "        os = m[a] * np.eye(6)\n",
    "        # L dot S onsite SoC\n",
    "        spinorb = lam[a] * L_dot_S\n",
    "        # x, y, z = site.pos\n",
    "        os = os + spinorb\n",
    "        return os\n",
    "\n",
    "    def hopping(site1, site2, t11, t12, t22):\n",
    "        t = np.array([[t11, t12], [t12, t22]])\n",
    "        # which sublattice\n",
    "        a = np.sum(site1.tag) % 2\n",
    "        b = np.sum(site2.tag) % 2\n",
    "        d = site1.tag - site2.tag\n",
    "        # ppsigma bonding\n",
    "        dtd = np.kron(np.eye(2), np.outer(d, d)/np.dot(d, d))\n",
    "        # Use the appropriate hopping depending on sublattices\n",
    "        hop = t[a, b] * dtd\n",
    "        return hop\n",
    "\n",
    "    # Cubic rocksalt structure with FCC symmetry\n",
    "    lat = kwant.lattice.general(np.eye(3), norbs=6)\n",
    "    # Default translation vectors of FCC structure\n",
    "    translations = kwant.lattice.TranslationalSymmetry([1, 1, 0], [1, 0, 1], [0, 1, 1])\n",
    "    syst = kwant.Builder(symmetry=translations)\n",
    "\n",
    "    # Populate the builder using the cubic lattice sites\n",
    "    # Two sublattices\n",
    "    syst[lat(0, 0, 0)] = onsite\n",
    "    syst[lat(0, 0, 1)] = onsite\n",
    "\n",
    "    # First and second neighbor hoppings\n",
    "    syst[lat.neighbors(1)] = hopping\n",
    "    if second_neighbor:\n",
    "        syst[lat.neighbors(2)] = hopping\n",
    "\n",
    "    return syst"
   ]
  },
  {
   "cell_type": "code",
   "execution_count": null,
   "metadata": {},
   "outputs": [],
   "source": [
    "syst = SnTe_6orb(second_neighbor=True)\n",
    "SnTe_model = builder_to_model(syst)"
   ]
  },
  {
   "cell_type": "markdown",
   "metadata": {},
   "source": [
    "Find symmetry group, it is full cubic $\\times$ TR"
   ]
  },
  {
   "cell_type": "code",
   "execution_count": null,
   "metadata": {},
   "outputs": [],
   "source": [
    "sg, cs = qsymm.symmetries(SnTe_model, candidates=qsymm.groups.cubic(), prettify=True)\n",
    "print(len(sg), len(cs))"
   ]
  },
  {
   "cell_type": "markdown",
   "metadata": {},
   "source": [
    "Check the symmetry without second neighbor hoppings"
   ]
  },
  {
   "cell_type": "code",
   "execution_count": null,
   "metadata": {},
   "outputs": [],
   "source": [
    "syst2 = SnTe_6orb(second_neighbor=False)\n",
    "SnTe_model2 = builder_to_model(syst2)"
   ]
  },
  {
   "cell_type": "markdown",
   "metadata": {},
   "source": [
    "We find an extra unphysical spin conservation"
   ]
  },
  {
   "cell_type": "code",
   "execution_count": null,
   "metadata": {},
   "outputs": [],
   "source": [
    "sg2, cs2 = qsymm.symmetries(SnTe_model2, candidates=qsymm.groups.cubic(), prettify=True)\n",
    "print(len(sg2), len(cs2))"
   ]
  },
  {
   "cell_type": "code",
   "execution_count": null,
   "metadata": {},
   "outputs": [],
   "source": [
    "cs2"
   ]
  },
  {
   "cell_type": "markdown",
   "metadata": {
    "extensions": {
     "jupyter_dashboards": {
      "version": 1,
      "views": {
       "grid_default": {
        "col": 8,
        "height": 4,
        "hidden": false,
        "row": 78,
        "width": 4
       },
       "report_default": {}
      }
     }
    }
   },
   "source": [
    "# Wire with chiral symmetry"
   ]
  },
  {
   "cell_type": "markdown",
   "metadata": {},
   "source": [
    "Kwant is used to generate the tight-binding model for a finite cross section wire"
   ]
  },
  {
   "cell_type": "code",
   "execution_count": null,
   "metadata": {
    "extensions": {
     "jupyter_dashboards": {
      "version": 1,
      "views": {
       "grid_default": {
        "hidden": true
       },
       "report_default": {}
      }
     }
    }
   },
   "outputs": [],
   "source": [
    "import wire.funcs as funcs"
   ]
  },
  {
   "cell_type": "markdown",
   "metadata": {},
   "source": [
    "Define symmetry candidates, in 1D the only nontrivial space-group element is inversion, besides add both TR and PH.\n",
    "\n",
    "The $\\mathbf{k\\cdot p}$ Hamiltonian is discretized with a lattice constant of $a = 10$ nm. The wire and shell diameter of $r_1 = 15$ nm, $r_2 = 30$ nm used here allow the calculation in about 30 seconds, the example shown in the paper uses $r_1 = 25$ nm, $r_2 = 40$ nm and takes about 10 minutes.\n",
    "\n",
    "The electric field is in the $z$ direction all along."
   ]
  },
  {
   "cell_type": "code",
   "execution_count": null,
   "metadata": {
    "extensions": {
     "jupyter_dashboards": {
      "version": 1,
      "views": {
       "grid_default": {
        "col": 0,
        "height": 4,
        "hidden": false,
        "row": 104,
        "width": 4
       },
       "report_default": {}
      }
     }
    }
   },
   "outputs": [],
   "source": [
    "candidates = {qsymm.PointGroupElement(np.eye(1), True, False, None),\n",
    "              qsymm.PointGroupElement(np.eye(1), False, True, None),\n",
    "              qsymm.PointGroupElement(-np.eye(1), False, False, None)\n",
    "             }\n",
    "candidates = qsymm.groups.generate_group(candidates)\n",
    "len(candidates)\n",
    "\n",
    "r1=15\n",
    "r2=30\n",
    "Vz = lambda *pos: pos[2]\n",
    "color = lambda site: ('w' if (np.dot(site.pos, site.pos)) < r1**2 else 'r')"
   ]
  },
  {
   "cell_type": "markdown",
   "metadata": {},
   "source": [
    "Make system with mirror symmetry and magnetic field in $x$ direction."
   ]
  },
  {
   "cell_type": "code",
   "execution_count": null,
   "metadata": {
    "extensions": {
     "jupyter_dashboards": {
      "version": 1,
      "views": {
       "grid_default": {
        "col": 8,
        "height": 9,
        "hidden": false,
        "row": 107,
        "width": 4
       },
       "report_default": {}
      }
     }
    }
   },
   "outputs": [],
   "source": [
    "syst_pars = dict(a=10, angle=0, coverage_angle=100, r1=r1, r2=r2, shape='circle',\n",
    "                 A_correction=True, with_shell=True, rotate_spin_orbit=False)\n",
    "\n",
    "lead = funcs.make_lead(**syst_pars)\n",
    "\n",
    "kwant.plot(lead, site_color = color);"
   ]
  },
  {
   "cell_type": "code",
   "execution_count": null,
   "metadata": {
    "extensions": {
     "jupyter_dashboards": {
      "version": 1,
      "views": {
       "grid_default": {
        "col": 0,
        "height": 4,
        "hidden": false,
        "row": 108,
        "width": 4
       },
       "report_default": {}
      }
     }
    }
   },
   "outputs": [],
   "source": [
    "params = dict(alpha=20, B_x=0.5, B_y=0, B_z=0, Delta=110, g=50,\n",
    "              orbital=True, mu_sc=100, mu_lead=10, c_tunnel=3/4,\n",
    "              V=Vz,  **funcs.constants.__dict__)\n",
    "\n",
    "model = builder_to_model(lead, params=params)"
   ]
  },
  {
   "cell_type": "markdown",
   "metadata": {},
   "source": [
    "The system has the full 8-element symmetry group."
   ]
  },
  {
   "cell_type": "code",
   "execution_count": null,
   "metadata": {
    "extensions": {
     "jupyter_dashboards": {
      "version": 1,
      "views": {
       "grid_default": {
        "hidden": true
       },
       "report_default": {}
      }
     }
    }
   },
   "outputs": [],
   "source": [
    "symset, cg = qsymm.symmetries(model, candidates, sparse_linalg=True)\n",
    "print(len(symset), len(cg))\n",
    "[(s.R, s.conjugate, s.antisymmetry) for s in symset]"
   ]
  },
  {
   "cell_type": "markdown",
   "metadata": {},
   "source": [
    "Add magnetic field in $z$ direction."
   ]
  },
  {
   "cell_type": "code",
   "execution_count": null,
   "metadata": {
    "extensions": {
     "jupyter_dashboards": {
      "version": 1,
      "views": {
       "grid_default": {
        "hidden": true
       },
       "report_default": {}
      }
     }
    }
   },
   "outputs": [],
   "source": [
    "params = dict(alpha=20, B_x=0.5, B_y=0, B_z=0.1, Delta=110, g=50,\n",
    "              orbital=True, mu_sc=100, mu_lead=10, c_tunnel=3/4,\n",
    "              V=Vz,  **funcs.constants.__dict__)\n",
    "\n",
    "model = builder_to_model(lead, params=params)"
   ]
  },
  {
   "cell_type": "markdown",
   "metadata": {},
   "source": [
    "The symmetry group still contains an effective time-reversal symmetry $M_y T$"
   ]
  },
  {
   "cell_type": "code",
   "execution_count": null,
   "metadata": {
    "extensions": {
     "jupyter_dashboards": {
      "version": 1,
      "views": {
       "grid_default": {
        "hidden": true
       },
       "report_default": {}
      }
     }
    }
   },
   "outputs": [],
   "source": [
    "%time symset, cg = qsymm.symmetries(model, candidates, sparse_linalg=True)\n",
    "print(len(symset), len(cg))\n",
    "[(s.R, s.conjugate, s.antisymmetry) for s in symset]"
   ]
  },
  {
   "cell_type": "markdown",
   "metadata": {},
   "source": [
    "Add magnetic field in $y$ direction."
   ]
  },
  {
   "cell_type": "code",
   "execution_count": null,
   "metadata": {
    "extensions": {
     "jupyter_dashboards": {
      "version": 1,
      "views": {
       "grid_default": {
        "hidden": true
       },
       "report_default": {
        "hidden": true
       }
      }
     }
    }
   },
   "outputs": [],
   "source": [
    "params = dict(alpha=20, B_x=0.5, B_y=0.1, B_z=0, Delta=110, g=50,\n",
    "              orbital=True, mu_sc=100, mu_lead=10, c_tunnel=3/4,\n",
    "              V=Vz,  **funcs.constants.__dict__)\n",
    "\n",
    "model = builder_to_model(lead, params=params)"
   ]
  },
  {
   "cell_type": "markdown",
   "metadata": {},
   "source": [
    "The symmetry group only contains $C_{2z} T$, which doesn't prevent band-tilting."
   ]
  },
  {
   "cell_type": "code",
   "execution_count": null,
   "metadata": {
    "extensions": {
     "jupyter_dashboards": {
      "version": 1,
      "views": {
       "grid_default": {
        "hidden": true
       },
       "report_default": {
        "hidden": true
       }
      }
     }
    }
   },
   "outputs": [],
   "source": [
    "symset, cg = qsymm.symmetries(model, candidates, sparse_linalg=True)\n",
    "print(len(symset), len(cg))\n",
    "[(s.R, s.conjugate, s.antisymmetry) for s in symset]"
   ]
  },
  {
   "cell_type": "markdown",
   "metadata": {},
   "source": [
    "Move shell such that it breaks $M_y$"
   ]
  },
  {
   "cell_type": "code",
   "execution_count": null,
   "metadata": {
    "extensions": {
     "jupyter_dashboards": {
      "version": 1,
      "views": {
       "grid_default": {
        "hidden": true
       },
       "report_default": {
        "hidden": true
       }
      }
     }
    }
   },
   "outputs": [],
   "source": [
    "syst_pars = dict(a=10, angle=45, coverage_angle=100, r1=r1, r2=r2, shape='circle',\n",
    "                 A_correction=True, with_shell=True, rotate_spin_orbit=False)\n",
    "\n",
    "lead = funcs.make_lead(**syst_pars)\n",
    "\n",
    "kwant.plot(lead, site_color = color);"
   ]
  },
  {
   "cell_type": "markdown",
   "metadata": {},
   "source": [
    "Field only along the wire."
   ]
  },
  {
   "cell_type": "code",
   "execution_count": null,
   "metadata": {
    "extensions": {
     "jupyter_dashboards": {
      "version": 1,
      "views": {
       "grid_default": {
        "hidden": true
       },
       "report_default": {
        "hidden": true
       }
      }
     }
    }
   },
   "outputs": [],
   "source": [
    "params = dict(alpha=20, B_x=0.5, B_y=0, B_z=0, Delta=110, g=50,\n",
    "              orbital=True, mu_sc=100, mu_lead=10, c_tunnel=3/4,\n",
    "              V=Vz,  **funcs.constants.__dict__)\n",
    "\n",
    "model = builder_to_model(lead, params=params)"
   ]
  },
  {
   "cell_type": "markdown",
   "metadata": {},
   "source": [
    "Mirror symmetry $M_x$ is preserved."
   ]
  },
  {
   "cell_type": "code",
   "execution_count": null,
   "metadata": {
    "extensions": {
     "jupyter_dashboards": {
      "version": 1,
      "views": {
       "grid_default": {
        "hidden": true
       },
       "report_default": {
        "hidden": true
       }
      }
     }
    }
   },
   "outputs": [],
   "source": [
    "symset, cg = qsymm.symmetries(model, candidates, sparse_linalg=True)\n",
    "print(len(symset), len(cg))\n",
    "[(s.R, s.conjugate, s.antisymmetry) for s in symset]"
   ]
  },
  {
   "cell_type": "markdown",
   "metadata": {},
   "source": [
    "Add field in $z$ direction."
   ]
  },
  {
   "cell_type": "code",
   "execution_count": null,
   "metadata": {
    "extensions": {
     "jupyter_dashboards": {
      "version": 1,
      "views": {
       "grid_default": {
        "hidden": true
       },
       "report_default": {
        "hidden": true
       }
      }
     }
    }
   },
   "outputs": [],
   "source": [
    "params = dict(alpha=20, B_x=0.5, B_y=0, B_z=0.1, Delta=110, g=50,\n",
    "              orbital=True, mu_sc=100, mu_lead=10, c_tunnel=3/4,\n",
    "              V=Vz,  **funcs.constants.__dict__)\n",
    "\n",
    "model = builder_to_model(lead, params=params)"
   ]
  },
  {
   "cell_type": "markdown",
   "metadata": {},
   "source": [
    "All symmetry is broken except for particle-hole."
   ]
  },
  {
   "cell_type": "code",
   "execution_count": null,
   "metadata": {
    "extensions": {
     "jupyter_dashboards": {
      "version": 1,
      "views": {
       "grid_default": {
        "hidden": true
       },
       "report_default": {
        "hidden": true
       }
      }
     }
    }
   },
   "outputs": [],
   "source": [
    "symset, cg = qsymm.symmetries(model, candidates, sparse_linalg=True)\n",
    "print(len(symset), len(cg))\n",
    "[(s.R, s.conjugate, s.antisymmetry) for s in symset]"
   ]
  }
 ],
 "metadata": {
  "extensions": {
   "jupyter_dashboards": {
    "activeView": "grid_default",
    "version": 1,
    "views": {
     "grid_default": {
      "cellMargin": 10,
      "defaultCellHeight": 20,
      "maxColumns": 12,
      "name": "grid",
      "type": "grid"
     },
     "report_default": {
      "name": "report",
      "type": "report"
     }
    }
   }
  },
  "kernelspec": {
   "display_name": "Python [conda env:kwant_master]",
   "language": "python",
   "name": "conda-env-kwant_master-py"
  },
  "language_info": {
   "codemirror_mode": {
    "name": "ipython",
    "version": 3
   },
   "file_extension": ".py",
   "mimetype": "text/x-python",
   "name": "python",
   "nbconvert_exporter": "python",
   "pygments_lexer": "ipython3",
   "version": "3.6.6"
  }
 },
 "nbformat": 4,
 "nbformat_minor": 2
}
