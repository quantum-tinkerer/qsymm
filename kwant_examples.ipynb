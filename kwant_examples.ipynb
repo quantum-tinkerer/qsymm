{
 "cells": [
  {
   "cell_type": "code",
   "execution_count": 1,
   "metadata": {
    "extensions": {
     "jupyter_dashboards": {
      "version": 1,
      "views": {
       "grid_default": {
        "hidden": true
       },
       "report_default": {}
      }
     }
    }
   },
   "outputs": [],
   "source": [
    "import numpy as np\n",
    "import sympy\n",
    "import qsymm\n",
    "import kwant\n",
    "from qsymm.kwant_integration import builder_to_model\n",
    "\n",
    "sympy.init_printing(print_builtin=True)\n",
    "np.set_printoptions(precision=2, suppress=True, linewidth=150)"
   ]
  },
  {
   "cell_type": "markdown",
   "metadata": {},
   "source": [
    "# Graphene"
   ]
  },
  {
   "cell_type": "code",
   "execution_count": 2,
   "metadata": {},
   "outputs": [
    {
     "name": "stderr",
     "output_type": "stream",
     "text": [
      "/home/tinkerer/.conda/envs/new_dev/lib/python3.6/site-packages/kwant/wraparound.py:458: RuntimeWarning: Kwant's plotting functions have\n",
      "the side effect of selecting the matplotlib backend. To avoid this warning,\n",
      "import matplotlib.pyplot, matplotlib.backends or call matplotlib.use().\n",
      "  fig_size=fig_size, ax=ax)\n"
     ]
    },
    {
     "data": {
      "text/plain": [
       "<Figure size 640x480 with 1 Axes>"
      ]
     },
     "metadata": {},
     "output_type": "display_data"
    }
   ],
   "source": [
    "lat = kwant.lattice.honeycomb(norbs=[1, 1])\n",
    "sym = kwant.TranslationalSymmetry(lat.vec((1, 0)), lat.vec((0, 1)))\n",
    "\n",
    "bulk = kwant.Builder(sym)\n",
    "bulk[ [lat.a(0, 0), lat.b(0, 0)] ] = 0\n",
    "bulk[lat.neighbors()] = 1\n",
    "wrapped = kwant.wraparound.wraparound(bulk).finalized()\n",
    "kwant.wraparound.plot_2d_bands(wrapped);"
   ]
  },
  {
   "cell_type": "code",
   "execution_count": 3,
   "metadata": {},
   "outputs": [
    {
     "data": {
      "image/png": "[encoded data removed]",
      "text/plain": [
       "<Figure size 432x288 with 1 Axes>"
      ]
     },
     "metadata": {
      "needs_background": "light"
     },
     "output_type": "display_data"
    }
   ],
   "source": [
    "kwant.plot(bulk);"
   ]
  },
  {
   "cell_type": "code",
   "execution_count": 5,
   "metadata": {},
   "outputs": [],
   "source": [
    "ham = builder_to_model(bulk)"
   ]
  },
  {
   "cell_type": "code",
   "execution_count": 10,
   "metadata": {},
   "outputs": [
    {
     "name": "stdout",
     "output_type": "stream",
     "text": [
      "48\n"
     ]
    }
   ],
   "source": [
    "hex_group_2D = qsymm.groups.hexagonal()\n",
    "print(len(hex_group_2D))"
   ]
  },
  {
   "cell_type": "code",
   "execution_count": 26,
   "metadata": {},
   "outputs": [],
   "source": [
    "sham = ham.tosympy(nsimplify=True)"
   ]
  },
  {
   "cell_type": "code",
   "execution_count": 24,
   "metadata": {},
   "outputs": [
    {
     "data": {
      "image/png": "[encoded data removed]",
      "text/latex": [
       "$$\\left[\\begin{matrix}0 & e^{\\frac{\\sqrt{3} i k_{y}}{3}} + e^{- \\frac{i k_{x}}{2} - \\frac{\\sqrt{3} i k_{y}}{6}} + e^{\\frac{i k_{x}}{2} - \\frac{\\sqrt{3} i k_{y}}{6}}\\\\e^{- \\frac{i k_{x}}{2} + \\frac{\\sqrt{3} i k_{y}}{6}} + e^{\\frac{i k_{x}}{2} + \\frac{\\sqrt{3} i k_{y}}{6}} + e^{- \\frac{\\sqrt{3} i k_{y}}{3}} & 0\\end{matrix}\\right]$$"
      ],
      "text/plain": [
       "⎡                                                      √3⋅ⅈ⋅k_y      ⅈ⋅kₓ   √3\n",
       "⎢                                                      ────────    - ──── - ──\n",
       "⎢                                                         3           2       \n",
       "⎢                         0                           e         + e           \n",
       "⎢                                                                             \n",
       "⎢   ⅈ⋅kₓ   √3⋅ⅈ⋅k_y    ⅈ⋅kₓ   √3⋅ⅈ⋅k_y    -√3⋅ⅈ⋅k_y                           \n",
       "⎢ - ──── + ────────    ──── + ────────    ──────────                          \n",
       "⎢    2        6         2        6            3                               \n",
       "⎣e                  + e                + e                                    \n",
       "\n",
       "⋅ⅈ⋅k_y    ⅈ⋅kₓ   √3⋅ⅈ⋅k_y⎤\n",
       "──────    ──── - ────────⎥\n",
       " 6         2        6    ⎥\n",
       "       + e               ⎥\n",
       "                         ⎥\n",
       "                         ⎥\n",
       "                         ⎥\n",
       "                         ⎥\n",
       "0                        ⎦"
      ]
     },
     "execution_count": 24,
     "metadata": {},
     "output_type": "execute_result"
    }
   ],
   "source": [
    "sham"
   ]
  },
  {
   "cell_type": "code",
   "execution_count": 20,
   "metadata": {},
   "outputs": [],
   "source": [
    "mham = ham.tomodel(nsimplify=True)"
   ]
  },
  {
   "cell_type": "code",
   "execution_count": 28,
   "metadata": {},
   "outputs": [
    {
     "data": {
      "image/png": "[encoded data removed]",
      "text/latex": [
       "$$\\left[\\begin{matrix}0 & e^{\\frac{\\sqrt{3} i k_{y}}{3}} + e^{- \\frac{i k_{x}}{2} - \\frac{\\sqrt{3} i k_{y}}{6}} + e^{\\frac{i k_{x}}{2} - \\frac{\\sqrt{3} i k_{y}}{6}}\\\\e^{- \\frac{i k_{x}}{2} + \\frac{\\sqrt{3} i k_{y}}{6}} + e^{\\frac{i k_{x}}{2} + \\frac{\\sqrt{3} i k_{y}}{6}} + e^{- \\frac{\\sqrt{3} i k_{y}}{3}} & 0\\end{matrix}\\right]$$"
      ],
      "text/plain": [
       "⎡                                                      √3⋅ⅈ⋅k_y      ⅈ⋅kₓ   √3\n",
       "⎢                                                      ────────    - ──── - ──\n",
       "⎢                                                         3           2       \n",
       "⎢                         0                           e         + e           \n",
       "⎢                                                                             \n",
       "⎢   ⅈ⋅kₓ   √3⋅ⅈ⋅k_y    ⅈ⋅kₓ   √3⋅ⅈ⋅k_y    -√3⋅ⅈ⋅k_y                           \n",
       "⎢ - ──── + ────────    ──── + ────────    ──────────                          \n",
       "⎢    2        6         2        6            3                               \n",
       "⎣e                  + e                + e                                    \n",
       "\n",
       "⋅ⅈ⋅k_y    ⅈ⋅kₓ   √3⋅ⅈ⋅k_y⎤\n",
       "──────    ──── - ────────⎥\n",
       " 6         2        6    ⎥\n",
       "       + e               ⎥\n",
       "                         ⎥\n",
       "                         ⎥\n",
       "                         ⎥\n",
       "                         ⎥\n",
       "0                        ⎦"
      ]
     },
     "execution_count": 28,
     "metadata": {},
     "output_type": "execute_result"
    }
   ],
   "source": [
    "sham"
   ]
  },
  {
   "cell_type": "code",
   "execution_count": 29,
   "metadata": {},
   "outputs": [
    {
     "name": "stderr",
     "output_type": "stream",
     "text": [
      "/home/tinkerer/.conda/envs/new_dev/lib/python3.6/site-packages/numpy/matrixlib/defmatrix.py:1099: PendingDeprecationWarning: the matrix subclass is not the recommended way to represent matrices or deal with linear algebra (see https://docs.scipy.org/doc/numpy/user/numpy-for-matlab-users.html). Please adjust your code to use regular ndarray.\n",
      "  return matrix(concatenate(arr_rows, axis=0))\n"
     ]
    },
    {
     "name": "stdout",
     "output_type": "stream",
     "text": [
      "48\n",
      "True\n",
      "[]\n"
     ]
    }
   ],
   "source": [
    "sg, cg = qsymm.symmetries(ham, hex_group_2D)\n",
    "print(len(sg))\n",
    "print(set(sg) == qsymm.groups.hexagonal())\n",
    "print(cg)"
   ]
  },
  {
   "cell_type": "code",
   "execution_count": 30,
   "metadata": {},
   "outputs": [
    {
     "name": "stdout",
     "output_type": "stream",
     "text": [
      "48\n",
      "True\n",
      "[]\n"
     ]
    }
   ],
   "source": [
    "sg, cg = qsymm.symmetries(mham, hex_group_2D)\n",
    "print(len(sg))\n",
    "print(set(sg) == qsymm.groups.hexagonal())\n",
    "print(cg)"
   ]
  },
  {
   "cell_type": "markdown",
   "metadata": {
    "extensions": {
     "jupyter_dashboards": {
      "version": 1,
      "views": {
       "grid_default": {
        "col": 8,
        "height": 4,
        "hidden": false,
        "row": 78,
        "width": 4
       },
       "report_default": {}
      }
     }
    }
   },
   "source": [
    "# Wire with chiral symmetry"
   ]
  },
  {
   "cell_type": "markdown",
   "metadata": {},
   "source": [
    "Kwant is used to generate the tight-binding model for a finite cross section wire"
   ]
  },
  {
   "cell_type": "code",
   "execution_count": null,
   "metadata": {
    "extensions": {
     "jupyter_dashboards": {
      "version": 1,
      "views": {
       "grid_default": {
        "hidden": true
       },
       "report_default": {}
      }
     }
    }
   },
   "outputs": [],
   "source": [
    "import kwant\n",
    "import matplotlib.pyplot as plt\n",
    "import wire.funcs as funcs"
   ]
  },
  {
   "cell_type": "markdown",
   "metadata": {},
   "source": [
    "Define symmetry candidates, in 1D the only nontrivial space-group element is inversion, besides add both TR and PH.\n",
    "\n",
    "The $\\mathbf{k\\cdot p}$ Hamiltonian is discretized with a lattice constant of $a = 10$ nm. The wire and shell diameter of $r_1 = 15$ nm, $r_2 = 30$ nm used here allow the calculation in about 30 seconds, the example shown in the paper uses $r_1 = 25$ nm, $r_2 = 40$ nm and takes about 10 minutes.\n",
    "\n",
    "The electric field is in the $z$ direction all along."
   ]
  },
  {
   "cell_type": "code",
   "execution_count": null,
   "metadata": {
    "extensions": {
     "jupyter_dashboards": {
      "version": 1,
      "views": {
       "grid_default": {
        "col": 0,
        "height": 4,
        "hidden": false,
        "row": 104,
        "width": 4
       },
       "report_default": {}
      }
     }
    }
   },
   "outputs": [],
   "source": [
    "candidates = {qsymm.PointGroupElement(np.eye(1), True, False, None),\n",
    "              qsymm.PointGroupElement(np.eye(1), False, True, None),\n",
    "              qsymm.PointGroupElement(-np.eye(1), False, False, None)\n",
    "             }\n",
    "candidates = qsymm.groups.generate_group(candidates)\n",
    "len(candidates)\n",
    "\n",
    "r1=15\n",
    "r2=30\n",
    "Vz = lambda *pos: pos[2]\n",
    "color = lambda site: ('w' if (np.dot(site.pos, site.pos)) < r1**2 else 'r')"
   ]
  },
  {
   "cell_type": "markdown",
   "metadata": {},
   "source": [
    "Make system with mirror symmetry and magnetic field in $x$ direction."
   ]
  },
  {
   "cell_type": "code",
   "execution_count": null,
   "metadata": {
    "extensions": {
     "jupyter_dashboards": {
      "version": 1,
      "views": {
       "grid_default": {
        "col": 8,
        "height": 9,
        "hidden": false,
        "row": 107,
        "width": 4
       },
       "report_default": {}
      }
     }
    }
   },
   "outputs": [],
   "source": [
    "syst_pars = dict(a=10, angle=0, coverage_angle=100, r1=r1, r2=r2, shape='circle',\n",
    "                 A_correction=True, with_shell=True, rotate_spin_orbit=False)\n",
    "\n",
    "lead = funcs.make_lead(**syst_pars)\n",
    "\n",
    "kwant.plot(lead, site_color = color);"
   ]
  },
  {
   "cell_type": "code",
   "execution_count": null,
   "metadata": {
    "extensions": {
     "jupyter_dashboards": {
      "version": 1,
      "views": {
       "grid_default": {
        "col": 0,
        "height": 4,
        "hidden": false,
        "row": 108,
        "width": 4
       },
       "report_default": {}
      }
     }
    }
   },
   "outputs": [],
   "source": [
    "params = dict(alpha=20, B_x=0.5, B_y=0, B_z=0, Delta=110, g=50,\n",
    "              orbital=True, mu_sc=100, mu_lead=10, c_tunnel=3/4,\n",
    "              V=Vz,  **funcs.constants.__dict__)\n",
    "\n",
    "model = builder_to_model(lead, params=params)"
   ]
  },
  {
   "cell_type": "markdown",
   "metadata": {},
   "source": [
    "The system has the full 8-element symmetry group."
   ]
  },
  {
   "cell_type": "code",
   "execution_count": null,
   "metadata": {
    "extensions": {
     "jupyter_dashboards": {
      "version": 1,
      "views": {
       "grid_default": {
        "hidden": true
       },
       "report_default": {}
      }
     }
    }
   },
   "outputs": [],
   "source": [
    "symset, cg = qsymm.symmetries(model, candidates, sparse_linalg=True)\n",
    "print(len(symset), len(cg))\n",
    "[(s.R, s.conjugate, s.antisymmetry) for s in symset]"
   ]
  },
  {
   "cell_type": "markdown",
   "metadata": {},
   "source": [
    "Add magnetic field in $z$ direction."
   ]
  },
  {
   "cell_type": "code",
   "execution_count": null,
   "metadata": {
    "extensions": {
     "jupyter_dashboards": {
      "version": 1,
      "views": {
       "grid_default": {
        "hidden": true
       },
       "report_default": {}
      }
     }
    }
   },
   "outputs": [],
   "source": [
    "params = dict(alpha=20, B_x=0.5, B_y=0, B_z=0.1, Delta=110, g=50,\n",
    "              orbital=True, mu_sc=100, mu_lead=10, c_tunnel=3/4,\n",
    "              V=Vz,  **funcs.constants.__dict__)\n",
    "\n",
    "model = builder_to_model(lead, params=params)"
   ]
  },
  {
   "cell_type": "markdown",
   "metadata": {},
   "source": [
    "The symmetry group still contains an effective time-reversal symmetry $M_y T$"
   ]
  },
  {
   "cell_type": "code",
   "execution_count": null,
   "metadata": {
    "extensions": {
     "jupyter_dashboards": {
      "version": 1,
      "views": {
       "grid_default": {
        "hidden": true
       },
       "report_default": {}
      }
     }
    }
   },
   "outputs": [],
   "source": [
    "%time symset, cg = qsymm.symmetries(model, candidates, sparse_linalg=True)\n",
    "print(len(symset), len(cg))\n",
    "[(s.R, s.conjugate, s.antisymmetry) for s in symset]"
   ]
  },
  {
   "cell_type": "markdown",
   "metadata": {},
   "source": [
    "Add magnetic field in $y$ direction."
   ]
  },
  {
   "cell_type": "code",
   "execution_count": null,
   "metadata": {
    "extensions": {
     "jupyter_dashboards": {
      "version": 1,
      "views": {
       "grid_default": {
        "hidden": true
       },
       "report_default": {
        "hidden": true
       }
      }
     }
    }
   },
   "outputs": [],
   "source": [
    "params = dict(alpha=20, B_x=0.5, B_y=0.1, B_z=0, Delta=110, g=50,\n",
    "              orbital=True, mu_sc=100, mu_lead=10, c_tunnel=3/4,\n",
    "              V=Vz,  **funcs.constants.__dict__)\n",
    "\n",
    "model = builder_to_model(lead, params=params)"
   ]
  },
  {
   "cell_type": "markdown",
   "metadata": {},
   "source": [
    "The symmetry group only contains $C_{2z} T$, which doesn't prevent band-tilting."
   ]
  },
  {
   "cell_type": "code",
   "execution_count": null,
   "metadata": {
    "extensions": {
     "jupyter_dashboards": {
      "version": 1,
      "views": {
       "grid_default": {
        "hidden": true
       },
       "report_default": {
        "hidden": true
       }
      }
     }
    }
   },
   "outputs": [],
   "source": [
    "symset, cg = qsymm.symmetries(model, candidates, sparse_linalg=True)\n",
    "print(len(symset), len(cg))\n",
    "[(s.R, s.conjugate, s.antisymmetry) for s in symset]"
   ]
  },
  {
   "cell_type": "markdown",
   "metadata": {},
   "source": [
    "Move shell such that it breaks $M_y$"
   ]
  },
  {
   "cell_type": "code",
   "execution_count": null,
   "metadata": {
    "extensions": {
     "jupyter_dashboards": {
      "version": 1,
      "views": {
       "grid_default": {
        "hidden": true
       },
       "report_default": {
        "hidden": true
       }
      }
     }
    }
   },
   "outputs": [],
   "source": [
    "syst_pars = dict(a=10, angle=45, coverage_angle=100, r1=r1, r2=r2, shape='circle',\n",
    "                 A_correction=True, with_shell=True, rotate_spin_orbit=False)\n",
    "\n",
    "lead = funcs.make_lead(**syst_pars)\n",
    "\n",
    "kwant.plot(lead, site_color = color);"
   ]
  },
  {
   "cell_type": "markdown",
   "metadata": {},
   "source": [
    "Field only along the wire."
   ]
  },
  {
   "cell_type": "code",
   "execution_count": null,
   "metadata": {
    "extensions": {
     "jupyter_dashboards": {
      "version": 1,
      "views": {
       "grid_default": {
        "hidden": true
       },
       "report_default": {
        "hidden": true
       }
      }
     }
    }
   },
   "outputs": [],
   "source": [
    "params = dict(alpha=20, B_x=0.5, B_y=0, B_z=0, Delta=110, g=50,\n",
    "              orbital=True, mu_sc=100, mu_lead=10, c_tunnel=3/4,\n",
    "              V=Vz,  **funcs.constants.__dict__)\n",
    "\n",
    "model = builder_to_model(lead, params=params)"
   ]
  },
  {
   "cell_type": "markdown",
   "metadata": {},
   "source": [
    "Mirror symmetry $M_x$ is preserved."
   ]
  },
  {
   "cell_type": "code",
   "execution_count": null,
   "metadata": {
    "extensions": {
     "jupyter_dashboards": {
      "version": 1,
      "views": {
       "grid_default": {
        "hidden": true
       },
       "report_default": {
        "hidden": true
       }
      }
     }
    }
   },
   "outputs": [],
   "source": [
    "symset, cg = qsymm.symmetries(model, candidates, sparse_linalg=True)\n",
    "print(len(symset), len(cg))\n",
    "[(s.R, s.conjugate, s.antisymmetry) for s in symset]"
   ]
  },
  {
   "cell_type": "markdown",
   "metadata": {},
   "source": [
    "Add field in $z$ direction."
   ]
  },
  {
   "cell_type": "code",
   "execution_count": null,
   "metadata": {
    "extensions": {
     "jupyter_dashboards": {
      "version": 1,
      "views": {
       "grid_default": {
        "hidden": true
       },
       "report_default": {
        "hidden": true
       }
      }
     }
    }
   },
   "outputs": [],
   "source": [
    "params = dict(alpha=20, B_x=0.5, B_y=0, B_z=0.1, Delta=110, g=50,\n",
    "              orbital=True, mu_sc=100, mu_lead=10, c_tunnel=3/4,\n",
    "              V=Vz,  **funcs.constants.__dict__)\n",
    "\n",
    "model = builder_to_model(lead, params=params)"
   ]
  },
  {
   "cell_type": "markdown",
   "metadata": {},
   "source": [
    "All symmetry is broken except for particle-hole."
   ]
  },
  {
   "cell_type": "code",
   "execution_count": null,
   "metadata": {
    "extensions": {
     "jupyter_dashboards": {
      "version": 1,
      "views": {
       "grid_default": {
        "hidden": true
       },
       "report_default": {
        "hidden": true
       }
      }
     }
    }
   },
   "outputs": [],
   "source": [
    "symset, cg = qsymm.symmetries(model, candidates, sparse_linalg=True)\n",
    "print(len(symset), len(cg))\n",
    "[(s.R, s.conjugate, s.antisymmetry) for s in symset]"
   ]
  }
 ],
 "metadata": {
  "extensions": {
   "jupyter_dashboards": {
    "activeView": "grid_default",
    "version": 1,
    "views": {
     "grid_default": {
      "cellMargin": 10,
      "defaultCellHeight": 20,
      "maxColumns": 12,
      "name": "grid",
      "type": "grid"
     },
     "report_default": {
      "name": "report",
      "type": "report"
     }
    }
   }
  },
  "kernelspec": {
   "display_name": "Python [conda env:kwant_master]",
   "language": "python",
   "name": "conda-env-kwant_master-py"
  },
  "language_info": {
   "codemirror_mode": {
    "name": "ipython",
    "version": 3
   },
   "file_extension": ".py",
   "mimetype": "text/x-python",
   "name": "python",
   "nbconvert_exporter": "python",
   "pygments_lexer": "ipython3",
   "version": "3.6.6"
  }
 },
 "nbformat": 4,
 "nbformat_minor": 2
}
