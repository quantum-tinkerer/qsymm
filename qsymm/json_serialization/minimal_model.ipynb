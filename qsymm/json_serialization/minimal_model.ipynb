{
 "cells": [
  {
   "cell_type": "code",
   "execution_count": 6,
   "id": "ec96970a-359f-4e6f-b2d9-529749253dab",
   "metadata": {},
   "outputs": [],
   "source": [
    "import numpy as np\n",
    "import tinyarray\n",
    "import qsymm\n",
    "import sympy\n",
    "from sympy import Matrix\n",
    "import string\n",
    "from convert_func import bloch_model_from_json, bloch_model_to_json"
   ]
  },
  {
   "cell_type": "code",
   "execution_count": 3,
   "id": "d7832d0c-1b99-47aa-9a40-00091eda980e",
   "metadata": {},
   "outputs": [
    {
     "data": {
      "text/latex": [
       "$\\displaystyle \\left[\\begin{matrix}0.5 e^{i k_{x}} - 0.5 i e^{i k_{y}} + 0.5 i e^{- i k_{y}} + 0.5 e^{- i k_{x}} & 0\\\\0 & - 0.5 e^{i k_{x}} - 0.5 i e^{i k_{y}} + 0.5 i e^{- i k_{y}} - 0.5 e^{- i k_{x}}\\end{matrix}\\right]$"
      ],
      "text/plain": [
       "Matrix([\n",
       "[0.5*e**(I*k_x) - 0.5*I*e**(I*k_y) + 0.5*I*e**(-I*k_y) + 0.5*e**(-I*k_x),                                                                        0],\n",
       "[                                                                      0, -0.5*e**(I*k_x) - 0.5*I*e**(I*k_y) + 0.5*I*e**(-I*k_y) - 0.5*e**(-I*k_x)]])"
      ]
     },
     "execution_count": 3,
     "metadata": {},
     "output_type": "execute_result"
    }
   ],
   "source": [
    "sigma_x = tinyarray.array([[0, 1], [1, 0]])\n",
    "sigma_y = tinyarray.array([[0, -1j], [1j, 0]])\n",
    "sigma_z = tinyarray.array([[1, 0], [0, -1]])\n",
    "\n",
    "#create qsymm model\n",
    "ham = \" cos(k_x) * sigma_z + sin(k_y) * eye(2) \"\n",
    "H = qsymm.Model(ham, momenta=[\"k_x\", \"k_y\"])\n",
    "H.tosympy()"
   ]
  },
  {
   "cell_type": "code",
   "execution_count": 4,
   "id": "309fb778-7db3-4a02-a163-ab6479aa7711",
   "metadata": {},
   "outputs": [
    {
     "name": "stdout",
     "output_type": "stream",
     "text": [
      "8 1\n"
     ]
    },
    {
     "data": {
      "text/latex": [
       "$\\displaystyle \\left[\\begin{matrix}d + e^{i k_{x}} i + \\frac{e^{i k_{x}}}{2} + e^{i k_{y}} m + i e^{i k_{y}} q - \\frac{i e^{i k_{y}}}{2} + e^{- i k_{y}} m - i e^{- i k_{y}} q + \\frac{i e^{- i k_{y}}}{2} + e^{- i k_{x}} i + \\frac{e^{- i k_{x}}}{2} & e^{i k_{x}} j + i e^{i k_{x}} l + e^{i k_{y}} n + i e^{i k_{y}} r + f + i h + e^{- i k_{y}} o - i e^{- i k_{y}} s + e^{- i k_{x}} j + i e^{- i k_{x}} l\\\\e^{i k_{x}} j - i e^{i k_{x}} l + e^{i k_{y}} o + i e^{i k_{y}} s + f - i h + e^{- i k_{y}} n - i e^{- i k_{y}} r + e^{- i k_{x}} j - i e^{- i k_{x}} l & e^{i k_{x}} k - \\frac{e^{i k_{x}}}{2} + e^{i k_{y}} p + i e^{i k_{y}} t - \\frac{i e^{i k_{y}}}{2} + g + e^{- i k_{y}} p - i e^{- i k_{y}} t + \\frac{i e^{- i k_{y}}}{2} + e^{- i k_{x}} k - \\frac{e^{- i k_{x}}}{2}\\end{matrix}\\right]$"
      ],
      "text/plain": [
       "Matrix([\n",
       "[d + e**(I*k_x)*i + e**(I*k_x)/2 + e**(I*k_y)*m + I*e**(I*k_y)*q - I*e**(I*k_y)/2 + e**(-I*k_y)*m - I*e**(-I*k_y)*q + I*e**(-I*k_y)/2 + e**(-I*k_x)*i + e**(-I*k_x)/2,                          e**(I*k_x)*j + I*e**(I*k_x)*l + e**(I*k_y)*n + I*e**(I*k_y)*r + f + I*h + e**(-I*k_y)*o - I*e**(-I*k_y)*s + e**(-I*k_x)*j + I*e**(-I*k_x)*l],\n",
       "[                         e**(I*k_x)*j - I*e**(I*k_x)*l + e**(I*k_y)*o + I*e**(I*k_y)*s + f - I*h + e**(-I*k_y)*n - I*e**(-I*k_y)*r + e**(-I*k_x)*j - I*e**(-I*k_x)*l, e**(I*k_x)*k - e**(I*k_x)/2 + e**(I*k_y)*p + I*e**(I*k_y)*t - I*e**(I*k_y)/2 + g + e**(-I*k_y)*p - I*e**(-I*k_y)*t + I*e**(-I*k_y)/2 + e**(-I*k_x)*k - e**(-I*k_x)/2]])"
      ]
     },
     "execution_count": 4,
     "metadata": {},
     "output_type": "execute_result"
    }
   ],
   "source": [
    "#find symmetries\n",
    "candidates = qsymm.groups.square()\n",
    "discrete_symm, continuous_symm = qsymm.symmetries(H, candidates)\n",
    "print(len(discrete_symm), len(continuous_symm))\n",
    "\n",
    "abcd_sympy = list(sympy.symbols('a:z'))\n",
    "abcd_list = list(string.ascii_lowercase)\n",
    "del abcd_sympy[4]\n",
    "del abcd_list[4]\n",
    "\n",
    "norbs = [('A', 2)]  # A atom per unit cell, 4 orbitals each\n",
    "hopping_vectors = [('A', 'A', [0, 1]), ('A', 'A', [1, 0])] \n",
    "\n",
    "#find all temrs compatible with 1 specific symmetry\n",
    "family= qsymm.bloch_family(hopping_vectors, [discrete_symm[1]], norbs)\n",
    "\n",
    "#add all the terms compatible with the symmetry\n",
    "H = (H + sum([symbol * term for symbol, term in zip(abcd_sympy[3:], family)]))\n",
    "H.tosympy(nsimplify=True)"
   ]
  },
  {
   "cell_type": "code",
   "execution_count": 5,
   "id": "387f8212-1861-4875-8fc5-798cb5d83220",
   "metadata": {},
   "outputs": [],
   "source": [
    "bloch_model_to_json(H, 'model')"
   ]
  },
  {
   "cell_type": "code",
   "execution_count": null,
   "id": "de61fbf0-f6a6-43db-b32c-300e408fcbd3",
   "metadata": {},
   "outputs": [],
   "source": []
  },
  {
   "cell_type": "code",
   "execution_count": null,
   "id": "f5cb9c98-cc14-448d-8a03-41df556ce3d2",
   "metadata": {},
   "outputs": [],
   "source": []
  }
 ],
 "metadata": {
  "kernelspec": {
   "display_name": "Python 3 (ipykernel)",
   "language": "python",
   "name": "python3"
  },
  "language_info": {
   "codemirror_mode": {
    "name": "ipython",
    "version": 3
   },
   "file_extension": ".py",
   "mimetype": "text/x-python",
   "name": "python",
   "nbconvert_exporter": "python",
   "pygments_lexer": "ipython3",
   "version": "3.9.10"
  }
 },
 "nbformat": 4,
 "nbformat_minor": 5
}
