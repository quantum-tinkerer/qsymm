{
 "cells": [
  {
   "cell_type": "code",
   "execution_count": 2,
   "metadata": {},
   "outputs": [],
   "source": [
    "import numpy as np\n",
    "import sympy\n",
    "from collections import OrderedDict"
   ]
  },
  {
   "cell_type": "code",
   "execution_count": 3,
   "metadata": {},
   "outputs": [],
   "source": [
    "import qsymm"
   ]
  },
  {
   "cell_type": "markdown",
   "metadata": {},
   "source": [
    "# Graphene"
   ]
  },
  {
   "cell_type": "markdown",
   "metadata": {},
   "source": [
    "We use the Hamiltonian generator to reproduce the spinless nearest neighbour tight binding Hamiltonian for graphene.\n",
    "\n",
    "The generators of the symmetry group are time-reversal symmetry, sublattice (or chiral) symmetry, and threefold rotation symmetry."
   ]
  },
  {
   "cell_type": "code",
   "execution_count": 4,
   "metadata": {},
   "outputs": [],
   "source": [
    "# Time reversal\n",
    "TR = qsymm.time_reversal(2, U=np.eye(2))\n",
    "\n",
    "# Chiral symmetry\n",
    "C = qsymm.chiral(2, U=np.array([[1, 0], [0, -1]]))\n",
    "\n",
    "# Atom A rotates into A, B into B, use exact sympy representation\n",
    "sphi = 2*sympy.pi/3\n",
    "RC3 = sympy.Matrix([[sympy.cos(sphi), -sympy.sin(sphi)],\n",
    "                  [sympy.sin(sphi), sympy.cos(sphi)]])\n",
    "C3 = qsymm.PointGroupElement(RC3, False, False, np.eye(2))\n",
    "\n",
    "symmetries = [C, TR, C3]"
   ]
  },
  {
   "cell_type": "markdown",
   "metadata": {},
   "source": [
    "There are two carbon atoms per unit cell (A and B) with one orbital each. The lattice is triangular, and only includes hoppings between nearest neighbour atoms. This restricts hoppings to only those between atoms of different types, such that each atom couples to three neighbouring atoms. Using the symmetrization strategy to generate the Hamiltonian, it is sufficient to specify hoppings to one such neighbour along with the symmetry generators, and we take the vector $(1, 0)$ to connect this neighbouring pair of atoms."
   ]
  },
  {
   "cell_type": "code",
   "execution_count": 5,
   "metadata": {},
   "outputs": [],
   "source": [
    "norbs = OrderedDict([('A', 1), ('B', 1)])  # A and B atom per unit cell, one orbital each\n",
    "hopping_vectors = [('A', 'B', [0, 1])] # Hopping between neighbouring A and B atoms"
   ]
  },
  {
   "cell_type": "markdown",
   "metadata": {},
   "source": [
    "Generate the Hamiltonian."
   ]
  },
  {
   "cell_type": "code",
   "execution_count": 6,
   "metadata": {},
   "outputs": [],
   "source": [
    "family = qsymm.bloch_family(hopping_vectors, symmetries, norbs)"
   ]
  },
  {
   "cell_type": "code",
   "execution_count": 7,
   "metadata": {},
   "outputs": [
    {
     "data": {
      "text/latex": [
       "$\\displaystyle \\left[\\begin{matrix}0 & e^{i k_{y}} + e^{- \\frac{i k_{y}}{2}} e^{\\frac{\\sqrt{3} i k_{x}}{2}} + e^{- \\frac{i k_{y}}{2}} e^{- \\frac{\\sqrt{3} i k_{x}}{2}}\\\\e^{\\frac{i k_{y}}{2}} e^{\\frac{\\sqrt{3} i k_{x}}{2}} + e^{\\frac{i k_{y}}{2}} e^{- \\frac{\\sqrt{3} i k_{x}}{2}} + e^{- i k_{y}} & 0\\end{matrix}\\right]$"
      ],
      "text/plain": [
       "Matrix([\n",
       "[                                                                                   0, e**(I*k_y) + e**(-I*k_y/2)*e**(sqrt(3)*I*k_x/2) + e**(-I*k_y/2)*e**(-sqrt(3)*I*k_x/2)],\n",
       "[e**(I*k_y/2)*e**(sqrt(3)*I*k_x/2) + e**(I*k_y/2)*e**(-sqrt(3)*I*k_x/2) + e**(-I*k_y),                                                                                     0]])"
      ]
     },
     "metadata": {},
     "output_type": "display_data"
    }
   ],
   "source": [
    "qsymm.display_family(family)"
   ]
  },
  {
   "cell_type": "markdown",
   "metadata": {},
   "source": [
    "Scale the bond length in terms of the graphene lattice constant, and have the function return a list of BlochModel objects. For this we can use a more convenient definition of the rotation"
   ]
  },
  {
   "cell_type": "code",
   "execution_count": 104,
   "metadata": {},
   "outputs": [],
   "source": [
    "C3 = qsymm.rotation(1/3, U=np.eye(2))\n",
    "symmetries = [C, TR, C3]"
   ]
  },
  {
   "cell_type": "code",
   "execution_count": 105,
   "metadata": {},
   "outputs": [],
   "source": [
    "norbs = OrderedDict([('A', 1), ('B', 1)])  # A and B atom per unit cell, one orbital each\n",
    "hopping_vectors = [('A', 'B', [0, 1/np.sqrt(3)])] # Hopping between neighbouring A and B atoms"
   ]
  },
  {
   "cell_type": "code",
   "execution_count": 106,
   "metadata": {},
   "outputs": [],
   "source": [
    "family = qsymm.bloch_family(hopping_vectors, symmetries, norbs, bloch_model=True)"
   ]
  },
  {
   "cell_type": "code",
   "execution_count": 107,
   "metadata": {},
   "outputs": [
    {
     "data": {
      "text/latex": [
       "$\\displaystyle \\left[\\begin{matrix}0 & e^{\\frac{i k_{x}}{2}} e^{- \\frac{\\sqrt{3} i k_{y}}{6}} + e^{\\frac{\\sqrt{3} i k_{y}}{3}} + e^{- \\frac{i k_{x}}{2}} e^{- \\frac{\\sqrt{3} i k_{y}}{6}}\\\\e^{\\frac{i k_{x}}{2}} e^{\\frac{\\sqrt{3} i k_{y}}{6}} + e^{- \\frac{\\sqrt{3} i k_{y}}{3}} + e^{- \\frac{i k_{x}}{2}} e^{\\frac{\\sqrt{3} i k_{y}}{6}} & 0\\end{matrix}\\right]$"
      ],
      "text/plain": [
       "Matrix([\n",
       "[                                                                                             0, e**(I*k_x/2)*e**(-sqrt(3)*I*k_y/6) + e**(sqrt(3)*I*k_y/3) + e**(-I*k_x/2)*e**(-sqrt(3)*I*k_y/6)],\n",
       "[e**(I*k_x/2)*e**(sqrt(3)*I*k_y/6) + e**(-sqrt(3)*I*k_y/3) + e**(-I*k_x/2)*e**(sqrt(3)*I*k_y/6),                                                                                               0]])"
      ]
     },
     "metadata": {},
     "output_type": "display_data"
    }
   ],
   "source": [
    "qsymm.display_family(family)"
   ]
  },
  {
   "cell_type": "markdown",
   "metadata": {},
   "source": [
    "# Three-orbital tight binding model for monolayer MX$_2$"
   ]
  },
  {
   "cell_type": "markdown",
   "metadata": {},
   "source": [
    "We use the Hamiltonian generator to reproduce the tight binding model for monolayer MX$_2$ published in Phys. Rev. B 88, 085433 (2013).\n",
    "\n",
    "The generators of the symmetry group of the tight binding model are time reversal symmetry, mirror symmetry and threefold rotation symmetry."
   ]
  },
  {
   "cell_type": "code",
   "execution_count": null,
   "metadata": {
    "collapsed": true,
    "jupyter": {
     "outputs_hidden": true
    }
   },
   "outputs": [],
   "source": [
    "# Time reversal\n",
    "TR = qsymm.time_reversal(2, np.eye(3))\n",
    "\n",
    "# Mirror symmetry \n",
    "Mx = qsymm.mirror([1, 0], np.diag([1, -1, 1]))\n",
    "\n",
    "# Threefold rotation on d_z^2, d_xy, d_x^2-y^2 states.\n",
    "C3U = np.array([[1, 0, 0],\n",
    "                 [0, -0.5, -np.sqrt(3)/2],\n",
    "                 [0, np.sqrt(3)/2, -0.5]])\n",
    "# Could also use the predefined representation of rotations on d-orbitals\n",
    "Ld = qsymm.groups.L_matrices(3, 2)\n",
    "C3U2 = qsymm.groups.spin_rotation(2 * np.pi * np.array([0, 0, 1/3]), Ld)\n",
    "# Restrict to d_z^2, d_xy, d_x^2-y^2 states\n",
    "mask = np.array([1, 2 ,0])\n",
    "C3U2 = C3U2[mask][:, mask]\n",
    "assert np.allclose(C3U, C3U2)\n",
    "\n",
    "C3 = qsymm.rotation(1/3, U=C3U)\n",
    "\n",
    "symmetries = [TR, Mx, C3]"
   ]
  },
  {
   "cell_type": "markdown",
   "metadata": {},
   "source": [
    "Next, we specify the hoppings to include. The tight binding model has a triangular lattice, three orbitals per M atom, and nearest neighbour hopping."
   ]
  },
  {
   "cell_type": "code",
   "execution_count": null,
   "metadata": {
    "collapsed": true,
    "jupyter": {
     "outputs_hidden": true
    }
   },
   "outputs": [],
   "source": [
    "# One site per unit cell (M atom), with three orbitals\n",
    "norbs = OrderedDict([('a', 3)])"
   ]
  },
  {
   "cell_type": "markdown",
   "metadata": {},
   "source": [
    "Each atom has six nearest neighbour atoms at a distance of one primitive lattice vector. Since we use the symmetrization strategy to generate the Hamiltonian, it is sufficient to specify a hopping to one nearest neighbour atom along with the symmetry generators. We take the primitive vector connecting the pair of atoms to be $(1, 0)$."
   ]
  },
  {
   "cell_type": "code",
   "execution_count": null,
   "metadata": {
    "collapsed": true,
    "jupyter": {
     "outputs_hidden": true
    }
   },
   "outputs": [],
   "source": [
    "# Hopping to a neighbouring atom one primitive lattice vector away\n",
    "hopping_vectors = [('a', 'a', [1, 0])]"
   ]
  },
  {
   "cell_type": "markdown",
   "metadata": {},
   "source": [
    "Generate the tight binding Hamiltonian."
   ]
  },
  {
   "cell_type": "code",
   "execution_count": null,
   "metadata": {
    "collapsed": true,
    "jupyter": {
     "outputs_hidden": true
    }
   },
   "outputs": [],
   "source": [
    "family = qsymm.bloch_family(hopping_vectors, symmetries, norbs, bloch_model=True)"
   ]
  },
  {
   "cell_type": "markdown",
   "metadata": {},
   "source": [
    "The Hamiltonian family should include 8 linearly independent components, including the onsite terms."
   ]
  },
  {
   "cell_type": "code",
   "execution_count": null,
   "metadata": {
    "collapsed": true,
    "jupyter": {
     "outputs_hidden": true
    }
   },
   "outputs": [],
   "source": [
    "len(family)"
   ]
  },
  {
   "cell_type": "code",
   "execution_count": null,
   "metadata": {
    "collapsed": true,
    "jupyter": {
     "outputs_hidden": true
    }
   },
   "outputs": [],
   "source": [
    "qsymm.display_family(family, nsimplify=True)"
   ]
  },
  {
   "cell_type": "markdown",
   "metadata": {},
   "source": [
    "# 4-site model for monolayer WTe$_2$"
   ]
  },
  {
   "cell_type": "markdown",
   "metadata": {},
   "source": [
    "We use the Hamiltonian generator to reproduce the tight binding model for monolayer WTe$_2$ published in Phys. Rev. X 6, 041069 (2016).\n",
    "\n",
    "The generators of the symmetry group of the tight binding model are time reversal symmetry, glide reflection and inversion symmetry."
   ]
  },
  {
   "cell_type": "code",
   "execution_count": null,
   "metadata": {
    "collapsed": true,
    "jupyter": {
     "outputs_hidden": true
    }
   },
   "outputs": [],
   "source": [
    "# Define 4 sites with one orbital each\n",
    "sites = ['Ad', 'Ap', 'Bd', 'Bp']\n",
    "norbs = OrderedDict([(site, 1) for site in sites])\n",
    "\n",
    "# Define symbolic coordinates for orbitals\n",
    "rAp = qsymm.sympify('[x_Ap, y_Ap]')\n",
    "rAd = qsymm.sympify('[x_Ad, y_Ad]')\n",
    "rBp = qsymm.sympify('[x_Bp, y_Bp]')\n",
    "rBd = qsymm.sympify('[x_Bd, y_Bd]')\n",
    "\n",
    "# Define hoppings to include\n",
    "hopping_vectors = [('Bd', 'Bd', np.array([1, 0])),\n",
    "                   ('Ap', 'Ap', np.array([1, 0])),\n",
    "                   ('Bd', 'Ap', rAp - rBd),\n",
    "                   ('Ap', 'Bp', rBp - rAp),\n",
    "                   ('Ad', 'Bd', rBd - rAd),                   \n",
    "                  ]"
   ]
  },
  {
   "cell_type": "code",
   "execution_count": null,
   "metadata": {
    "collapsed": true,
    "jupyter": {
     "outputs_hidden": true
    }
   },
   "outputs": [],
   "source": [
    "# Inversion\n",
    "perm_inv = {'Ad': 'Bd', 'Ap': 'Bp', 'Bd': 'Ad', 'Bp': 'Ap'}\n",
    "onsite_inv = {site: (1 if site in ['Ad', 'Bd'] else -1) * np.eye(1) for site in sites}\n",
    "inversion = qsymm.groups.symmetry_from_permutation(-np.eye(2), perm_inv, norbs, onsite_inv)\n",
    "\n",
    "# Glide\n",
    "perm_glide = {site: site for site in sites}\n",
    "onsite_glide = {site: (1 if site in ['Ad', 'Bd'] else -1) * np.eye(1) for site in sites}\n",
    "glide = qsymm.groups.symmetry_from_permutation(np.array([[-1, 0],[0, 1]]), perm_glide, norbs, onsite_glide)\n",
    "\n",
    "# TR\n",
    "time_reversal = qsymm.time_reversal(2, np.eye(4))\n",
    "\n",
    "gens = {glide, inversion, time_reversal}\n",
    "sg = qsymm.groups.generate_group(gens)\n",
    "len(sg)"
   ]
  },
  {
   "cell_type": "markdown",
   "metadata": {},
   "source": [
    "Generate the tight binding Hamiltonian."
   ]
  },
  {
   "cell_type": "code",
   "execution_count": null,
   "metadata": {
    "collapsed": true,
    "jupyter": {
     "outputs_hidden": true
    }
   },
   "outputs": [],
   "source": [
    "family = qsymm.bloch_family(hopping_vectors, gens, norbs=norbs)\n",
    "print(len(family), [len(fam) for fam in family])"
   ]
  },
  {
   "cell_type": "code",
   "execution_count": null,
   "metadata": {
    "collapsed": true,
    "jupyter": {
     "outputs_hidden": true
    }
   },
   "outputs": [],
   "source": [
    "qsymm.display_family(family)"
   ]
  },
  {
   "cell_type": "markdown",
   "metadata": {},
   "source": [
    "# Square lattice with 4 sites in the UC"
   ]
  },
  {
   "cell_type": "markdown",
   "metadata": {},
   "source": [
    "Make model with square lattice that has 4 sites in the unit cell related by 4-fold rotation. Sites have spin-1/2 and we add time reversal and particle-hole symmetry."
   ]
  },
  {
   "cell_type": "code",
   "execution_count": null,
   "metadata": {
    "collapsed": true,
    "jupyter": {
     "outputs_hidden": true
    }
   },
   "outputs": [],
   "source": [
    "hopping_vectors = [('a', 'b', np.array([1, 0])),\n",
    "                   ('b', 'a', np.array([1, 0])),\n",
    "                   ('c', 'd', np.array([1, 0])),\n",
    "                   ('d', 'c', np.array([1, 0])),\n",
    "                   ('a', 'c', np.array([0, 1])),\n",
    "                   ('c', 'a', np.array([0, 1])),\n",
    "                   ('b', 'd', np.array([0, 1])),\n",
    "                   ('d', 'b', np.array([0, 1])),                  \n",
    "                  ]\n",
    "\n",
    "# Define spin-1/2 operators\n",
    "S = qsymm.groups.spin_matrices(1/2)\n",
    "# Define real space rotation generators in 2D\n",
    "L = qsymm.groups.L_matrices(d=2)\n",
    "\n",
    "sites = ['a', 'b', 'c', 'd']\n",
    "norbs = OrderedDict([(site, 2) for site in sites])\n",
    "\n",
    "perm_C4 = {'a': 'b', 'b': 'd', 'd': 'c', 'c': 'a'}\n",
    "onsite_C4 = {site: qsymm.groups.spin_rotation(2*np.pi * np.array([0, 0, 1/4]), S) for site in sites}\n",
    "C4 = qsymm.groups.symmetry_from_permutation(\n",
    "                qsymm.groups.spin_rotation(2*np.pi * np.array([1/4]), L, roundint=True), \n",
    "                perm_C4, norbs, onsite_C4)\n",
    "\n",
    "# Fermionic TR\n",
    "time_reversal = qsymm.time_reversal(2, \n",
    "                np.kron(np.eye(4), qsymm.groups.spin_rotation(2*np.pi * np.array([0, 1/2, 0]), S)))\n",
    "\n",
    "# define strange PH symmetry\n",
    "particle_hole = qsymm.particle_hole(2, np.eye(8))\n",
    "\n",
    "gens = {C4, time_reversal, particle_hole}\n",
    "\n",
    "sg = qsymm.groups.generate_group(gens)\n",
    "len(sg)"
   ]
  },
  {
   "cell_type": "code",
   "execution_count": null,
   "metadata": {
    "collapsed": true,
    "jupyter": {
     "outputs_hidden": true
    }
   },
   "outputs": [],
   "source": [
    "family = qsymm.bloch_family(hopping_vectors, gens, norbs=norbs)\n",
    "print(len(family), [len(fam) for fam in family])\n",
    "qsymm.display_family(family)"
   ]
  },
  {
   "cell_type": "markdown",
   "metadata": {},
   "source": [
    "### C4T symmetric model"
   ]
  },
  {
   "cell_type": "code",
   "execution_count": 27,
   "metadata": {
    "collapsed": true,
    "jupyter": {
     "outputs_hidden": true
    }
   },
   "outputs": [
    {
     "data": {
      "text/plain": [
       "8"
      ]
     },
     "execution_count": 27,
     "metadata": {},
     "output_type": "execute_result"
    }
   ],
   "source": [
    "hopping_vectors = [('a', 'a', np.array([1, 0])),               \n",
    "                  ]\n",
    "\n",
    "# Define spin-1/2 operators\n",
    "S = qsymm.groups.spin_matrices(1/2)\n",
    "# Define real space rotation generators in 2D\n",
    "L = qsymm.groups.L_matrices(d=2)\n",
    "\n",
    "sites = ['a']\n",
    "norbs = OrderedDict([(site, 4) for site in sites])\n",
    "\n",
    "perm_C4 = {'a': 'a'}\n",
    "onsite_C4 = {site: np.kron(np.eye(2),\n",
    "                            qsymm.groups.spin_rotation(2*np.pi * np.array([0, 0, 1/4]), S)\n",
    "                            )\n",
    "              for site in sites}\n",
    "C4 = qsymm.groups.symmetry_from_permutation(\n",
    "                qsymm.groups.spin_rotation(2*np.pi * np.array([1/4]), L, roundint=True), \n",
    "                perm_C4, norbs, onsite_C4)\n",
    "\n",
    "# Fermionic TR\n",
    "T = qsymm.time_reversal(2, \n",
    "                np.kron(np.eye(2),\n",
    "                        qsymm.groups.spin_rotation(2*np.pi * np.array([0, 1/2, 0]), S),\n",
    "                        )\n",
    "                       )\n",
    "\n",
    "C4T = C4 * T\n",
    "\n",
    "sg = qsymm.groups.generate_group(gens)\n",
    "len(sg)"
   ]
  },
  {
   "cell_type": "code",
   "execution_count": 28,
   "metadata": {
    "collapsed": true,
    "jupyter": {
     "outputs_hidden": true
    }
   },
   "outputs": [
    {
     "data": {
      "text/plain": [
       "{1, R(π), R(π/2), R(-π/2), T, R(π) T, R(π/2) T, R(-π/2) T}"
      ]
     },
     "execution_count": 28,
     "metadata": {},
     "output_type": "execute_result"
    }
   ],
   "source": [
    "sg"
   ]
  },
  {
   "cell_type": "code",
   "execution_count": 30,
   "metadata": {
    "collapsed": true,
    "jupyter": {
     "outputs_hidden": true
    }
   },
   "outputs": [
    {
     "name": "stdout",
     "output_type": "stream",
     "text": [
      "14 [1, 1, 1, 1, 4, 4, 4, 4, 4, 4, 4, 4, 4, 4]\n"
     ]
    },
    {
     "data": {
      "text/latex": [
       "$\\displaystyle \\left[\\begin{matrix}1 & 0 & 0 & 0\\\\0 & 1 & 0 & 0\\\\0 & 0 & 0 & 0\\\\0 & 0 & 0 & 0\\end{matrix}\\right]$"
      ],
      "text/plain": [
       "Matrix([\n",
       "[1, 0, 0, 0],\n",
       "[0, 1, 0, 0],\n",
       "[0, 0, 0, 0],\n",
       "[0, 0, 0, 0]])"
      ]
     },
     "metadata": {},
     "output_type": "display_data"
    },
    {
     "data": {
      "text/latex": [
       "$\\displaystyle \\left[\\begin{matrix}0 & 0 & 1 & 0\\\\0 & 0 & 0 & 1\\\\1 & 0 & 0 & 0\\\\0 & 1 & 0 & 0\\end{matrix}\\right]$"
      ],
      "text/plain": [
       "Matrix([\n",
       "[0, 0, 1, 0],\n",
       "[0, 0, 0, 1],\n",
       "[1, 0, 0, 0],\n",
       "[0, 1, 0, 0]])"
      ]
     },
     "metadata": {},
     "output_type": "display_data"
    },
    {
     "data": {
      "text/latex": [
       "$\\displaystyle \\left[\\begin{matrix}0 & 0 & 0 & 0\\\\0 & 0 & 0 & 0\\\\0 & 0 & 1 & 0\\\\0 & 0 & 0 & 1\\end{matrix}\\right]$"
      ],
      "text/plain": [
       "Matrix([\n",
       "[0, 0, 0, 0],\n",
       "[0, 0, 0, 0],\n",
       "[0, 0, 1, 0],\n",
       "[0, 0, 0, 1]])"
      ]
     },
     "metadata": {},
     "output_type": "display_data"
    },
    {
     "data": {
      "text/latex": [
       "$\\displaystyle \\left[\\begin{matrix}0 & 0 & i & 0\\\\0 & 0 & 0 & - i\\\\- i & 0 & 0 & 0\\\\0 & i & 0 & 0\\end{matrix}\\right]$"
      ],
      "text/plain": [
       "Matrix([\n",
       "[ 0, 0, I,  0],\n",
       "[ 0, 0, 0, -I],\n",
       "[-I, 0, 0,  0],\n",
       "[ 0, I, 0,  0]])"
      ]
     },
     "metadata": {},
     "output_type": "display_data"
    },
    {
     "data": {
      "text/latex": [
       "$\\displaystyle \\left[\\begin{matrix}e^{i k_{x}} + e^{i k_{y}} + e^{- i k_{y}} + e^{- i k_{x}} & 0 & 0 & 0\\\\0 & e^{i k_{x}} + e^{i k_{y}} + e^{- i k_{y}} + e^{- i k_{x}} & 0 & 0\\\\0 & 0 & 0 & 0\\\\0 & 0 & 0 & 0\\end{matrix}\\right]$"
      ],
      "text/plain": [
       "Matrix([\n",
       "[e**(I*k_x) + e**(I*k_y) + e**(-I*k_y) + e**(-I*k_x),                                                   0, 0, 0],\n",
       "[                                                  0, e**(I*k_x) + e**(I*k_y) + e**(-I*k_y) + e**(-I*k_x), 0, 0],\n",
       "[                                                  0,                                                   0, 0, 0],\n",
       "[                                                  0,                                                   0, 0, 0]])"
      ]
     },
     "metadata": {},
     "output_type": "display_data"
    },
    {
     "data": {
      "text/latex": [
       "$\\displaystyle \\left[\\begin{matrix}0 & i e^{i k_{x}} + e^{i k_{y}} - e^{- i k_{y}} - i e^{- i k_{x}} & 0 & 0\\\\i e^{i k_{x}} - e^{i k_{y}} + e^{- i k_{y}} - i e^{- i k_{x}} & 0 & 0 & 0\\\\0 & 0 & 0 & 0\\\\0 & 0 & 0 & 0\\end{matrix}\\right]$"
      ],
      "text/plain": [
       "Matrix([\n",
       "[                                                      0, I*e**(I*k_x) + e**(I*k_y) - e**(-I*k_y) - I*e**(-I*k_x), 0, 0],\n",
       "[I*e**(I*k_x) - e**(I*k_y) + e**(-I*k_y) - I*e**(-I*k_x),                                                       0, 0, 0],\n",
       "[                                                      0,                                                       0, 0, 0],\n",
       "[                                                      0,                                                       0, 0, 0]])"
      ]
     },
     "metadata": {},
     "output_type": "display_data"
    },
    {
     "data": {
      "text/latex": [
       "$\\displaystyle \\left[\\begin{matrix}0 & 0 & e^{i k_{x}} + e^{i k_{y}} + e^{- i k_{y}} + e^{- i k_{x}} & 0\\\\0 & 0 & 0 & e^{i k_{x}} + e^{i k_{y}} + e^{- i k_{y}} + e^{- i k_{x}}\\\\e^{i k_{x}} + e^{i k_{y}} + e^{- i k_{y}} + e^{- i k_{x}} & 0 & 0 & 0\\\\0 & e^{i k_{x}} + e^{i k_{y}} + e^{- i k_{y}} + e^{- i k_{x}} & 0 & 0\\end{matrix}\\right]$"
      ],
      "text/plain": [
       "Matrix([\n",
       "[                                                  0,                                                   0, e**(I*k_x) + e**(I*k_y) + e**(-I*k_y) + e**(-I*k_x),                                                   0],\n",
       "[                                                  0,                                                   0,                                                   0, e**(I*k_x) + e**(I*k_y) + e**(-I*k_y) + e**(-I*k_x)],\n",
       "[e**(I*k_x) + e**(I*k_y) + e**(-I*k_y) + e**(-I*k_x),                                                   0,                                                   0,                                                   0],\n",
       "[                                                  0, e**(I*k_x) + e**(I*k_y) + e**(-I*k_y) + e**(-I*k_x),                                                   0,                                                   0]])"
      ]
     },
     "metadata": {},
     "output_type": "display_data"
    },
    {
     "data": {
      "text/latex": [
       "$\\displaystyle \\left[\\begin{matrix}0 & 0 & 0 & i e^{i k_{x}} + e^{i k_{y}} - e^{- i k_{y}} - i e^{- i k_{x}}\\\\0 & 0 & i e^{i k_{x}} - e^{i k_{y}} + e^{- i k_{y}} - i e^{- i k_{x}} & 0\\\\0 & i e^{i k_{x}} + e^{i k_{y}} - e^{- i k_{y}} - i e^{- i k_{x}} & 0 & 0\\\\i e^{i k_{x}} - e^{i k_{y}} + e^{- i k_{y}} - i e^{- i k_{x}} & 0 & 0 & 0\\end{matrix}\\right]$"
      ],
      "text/plain": [
       "Matrix([\n",
       "[                                                      0,                                                       0,                                                       0, I*e**(I*k_x) + e**(I*k_y) - e**(-I*k_y) - I*e**(-I*k_x)],\n",
       "[                                                      0,                                                       0, I*e**(I*k_x) - e**(I*k_y) + e**(-I*k_y) - I*e**(-I*k_x),                                                       0],\n",
       "[                                                      0, I*e**(I*k_x) + e**(I*k_y) - e**(-I*k_y) - I*e**(-I*k_x),                                                       0,                                                       0],\n",
       "[I*e**(I*k_x) - e**(I*k_y) + e**(-I*k_y) - I*e**(-I*k_x),                                                       0,                                                       0,                                                       0]])"
      ]
     },
     "metadata": {},
     "output_type": "display_data"
    },
    {
     "data": {
      "text/latex": [
       "$\\displaystyle \\left[\\begin{matrix}0 & 0 & 0 & 0\\\\0 & 0 & 0 & 0\\\\0 & 0 & e^{i k_{x}} + e^{i k_{y}} + e^{- i k_{y}} + e^{- i k_{x}} & 0\\\\0 & 0 & 0 & e^{i k_{x}} + e^{i k_{y}} + e^{- i k_{y}} + e^{- i k_{x}}\\end{matrix}\\right]$"
      ],
      "text/plain": [
       "Matrix([\n",
       "[0, 0,                                                   0,                                                   0],\n",
       "[0, 0,                                                   0,                                                   0],\n",
       "[0, 0, e**(I*k_x) + e**(I*k_y) + e**(-I*k_y) + e**(-I*k_x),                                                   0],\n",
       "[0, 0,                                                   0, e**(I*k_x) + e**(I*k_y) + e**(-I*k_y) + e**(-I*k_x)]])"
      ]
     },
     "metadata": {},
     "output_type": "display_data"
    },
    {
     "data": {
      "text/latex": [
       "$\\displaystyle \\left[\\begin{matrix}0 & 0 & 0 & 0\\\\0 & 0 & 0 & 0\\\\0 & 0 & 0 & i e^{i k_{x}} + e^{i k_{y}} - e^{- i k_{y}} - i e^{- i k_{x}}\\\\0 & 0 & i e^{i k_{x}} - e^{i k_{y}} + e^{- i k_{y}} - i e^{- i k_{x}} & 0\\end{matrix}\\right]$"
      ],
      "text/plain": [
       "Matrix([\n",
       "[0, 0,                                                       0,                                                       0],\n",
       "[0, 0,                                                       0,                                                       0],\n",
       "[0, 0,                                                       0, I*e**(I*k_x) + e**(I*k_y) - e**(-I*k_y) - I*e**(-I*k_x)],\n",
       "[0, 0, I*e**(I*k_x) - e**(I*k_y) + e**(-I*k_y) - I*e**(-I*k_x),                                                       0]])"
      ]
     },
     "metadata": {},
     "output_type": "display_data"
    },
    {
     "data": {
      "text/latex": [
       "$\\displaystyle \\left[\\begin{matrix}0 & - e^{i k_{x}} + i e^{i k_{y}} - i e^{- i k_{y}} + e^{- i k_{x}} & 0 & 0\\\\e^{i k_{x}} + i e^{i k_{y}} - i e^{- i k_{y}} - e^{- i k_{x}} & 0 & 0 & 0\\\\0 & 0 & 0 & 0\\\\0 & 0 & 0 & 0\\end{matrix}\\right]$"
      ],
      "text/plain": [
       "Matrix([\n",
       "[                                                      0, -e**(I*k_x) + I*e**(I*k_y) - I*e**(-I*k_y) + e**(-I*k_x), 0, 0],\n",
       "[e**(I*k_x) + I*e**(I*k_y) - I*e**(-I*k_y) - e**(-I*k_x),                                                        0, 0, 0],\n",
       "[                                                      0,                                                        0, 0, 0],\n",
       "[                                                      0,                                                        0, 0, 0]])"
      ]
     },
     "metadata": {},
     "output_type": "display_data"
    },
    {
     "data": {
      "text/latex": [
       "$\\displaystyle \\left[\\begin{matrix}0 & 0 & i e^{i k_{x}} + i e^{i k_{y}} + i e^{- i k_{y}} + i e^{- i k_{x}} & 0\\\\0 & 0 & 0 & - i e^{i k_{x}} - i e^{i k_{y}} - i e^{- i k_{y}} - i e^{- i k_{x}}\\\\- i e^{i k_{x}} - i e^{i k_{y}} - i e^{- i k_{y}} - i e^{- i k_{x}} & 0 & 0 & 0\\\\0 & i e^{i k_{x}} + i e^{i k_{y}} + i e^{- i k_{y}} + i e^{- i k_{x}} & 0 & 0\\end{matrix}\\right]$"
      ],
      "text/plain": [
       "Matrix([\n",
       "[                                                           0,                                                           0, I*e**(I*k_x) + I*e**(I*k_y) + I*e**(-I*k_y) + I*e**(-I*k_x),                                                            0],\n",
       "[                                                           0,                                                           0,                                                           0, -I*e**(I*k_x) - I*e**(I*k_y) - I*e**(-I*k_y) - I*e**(-I*k_x)],\n",
       "[-I*e**(I*k_x) - I*e**(I*k_y) - I*e**(-I*k_y) - I*e**(-I*k_x),                                                           0,                                                           0,                                                            0],\n",
       "[                                                           0, I*e**(I*k_x) + I*e**(I*k_y) + I*e**(-I*k_y) + I*e**(-I*k_x),                                                           0,                                                            0]])"
      ]
     },
     "metadata": {},
     "output_type": "display_data"
    },
    {
     "data": {
      "text/latex": [
       "$\\displaystyle \\left[\\begin{matrix}0 & 0 & 0 & - e^{i k_{x}} + i e^{i k_{y}} - i e^{- i k_{y}} + e^{- i k_{x}}\\\\0 & 0 & e^{i k_{x}} + i e^{i k_{y}} - i e^{- i k_{y}} - e^{- i k_{x}} & 0\\\\0 & - e^{i k_{x}} + i e^{i k_{y}} - i e^{- i k_{y}} + e^{- i k_{x}} & 0 & 0\\\\e^{i k_{x}} + i e^{i k_{y}} - i e^{- i k_{y}} - e^{- i k_{x}} & 0 & 0 & 0\\end{matrix}\\right]$"
      ],
      "text/plain": [
       "Matrix([\n",
       "[                                                      0,                                                        0,                                                       0, -e**(I*k_x) + I*e**(I*k_y) - I*e**(-I*k_y) + e**(-I*k_x)],\n",
       "[                                                      0,                                                        0, e**(I*k_x) + I*e**(I*k_y) - I*e**(-I*k_y) - e**(-I*k_x),                                                        0],\n",
       "[                                                      0, -e**(I*k_x) + I*e**(I*k_y) - I*e**(-I*k_y) + e**(-I*k_x),                                                       0,                                                        0],\n",
       "[e**(I*k_x) + I*e**(I*k_y) - I*e**(-I*k_y) - e**(-I*k_x),                                                        0,                                                       0,                                                        0]])"
      ]
     },
     "metadata": {},
     "output_type": "display_data"
    },
    {
     "data": {
      "text/latex": [
       "$\\displaystyle \\left[\\begin{matrix}0 & 0 & 0 & 0\\\\0 & 0 & 0 & 0\\\\0 & 0 & 0 & - e^{i k_{x}} + i e^{i k_{y}} - i e^{- i k_{y}} + e^{- i k_{x}}\\\\0 & 0 & e^{i k_{x}} + i e^{i k_{y}} - i e^{- i k_{y}} - e^{- i k_{x}} & 0\\end{matrix}\\right]$"
      ],
      "text/plain": [
       "Matrix([\n",
       "[0, 0,                                                       0,                                                        0],\n",
       "[0, 0,                                                       0,                                                        0],\n",
       "[0, 0,                                                       0, -e**(I*k_x) + I*e**(I*k_y) - I*e**(-I*k_y) + e**(-I*k_x)],\n",
       "[0, 0, e**(I*k_x) + I*e**(I*k_y) - I*e**(-I*k_y) - e**(-I*k_x),                                                        0]])"
      ]
     },
     "metadata": {},
     "output_type": "display_data"
    }
   ],
   "source": [
    "familyTR = qsymm.bloch_family(hopping_vectors, {T, C4}, norbs=norbs)\n",
    "print(len(familyTR), [len(fam) for fam in familyTR])\n",
    "qsymm.display_family(familyTR)"
   ]
  },
  {
   "cell_type": "code",
   "execution_count": 31,
   "metadata": {
    "collapsed": true,
    "jupyter": {
     "outputs_hidden": true
    }
   },
   "outputs": [
    {
     "name": "stdout",
     "output_type": "stream",
     "text": [
      "20 [1, 1, 1, 1, 4, 4, 4, 4, 4, 4, 4, 4, 4, 4, 4, 4, 4, 4, 4, 4]\n"
     ]
    },
    {
     "data": {
      "text/latex": [
       "$\\displaystyle \\left[\\begin{matrix}1 & 0 & 0 & 0\\\\0 & 1 & 0 & 0\\\\0 & 0 & 0 & 0\\\\0 & 0 & 0 & 0\\end{matrix}\\right]$"
      ],
      "text/plain": [
       "Matrix([\n",
       "[1, 0, 0, 0],\n",
       "[0, 1, 0, 0],\n",
       "[0, 0, 0, 0],\n",
       "[0, 0, 0, 0]])"
      ]
     },
     "metadata": {},
     "output_type": "display_data"
    },
    {
     "data": {
      "text/latex": [
       "$\\displaystyle \\left[\\begin{matrix}0 & 0 & 1 & 0\\\\0 & 0 & 0 & 1\\\\1 & 0 & 0 & 0\\\\0 & 1 & 0 & 0\\end{matrix}\\right]$"
      ],
      "text/plain": [
       "Matrix([\n",
       "[0, 0, 1, 0],\n",
       "[0, 0, 0, 1],\n",
       "[1, 0, 0, 0],\n",
       "[0, 1, 0, 0]])"
      ]
     },
     "metadata": {},
     "output_type": "display_data"
    },
    {
     "data": {
      "text/latex": [
       "$\\displaystyle \\left[\\begin{matrix}0 & 0 & 0 & 0\\\\0 & 0 & 0 & 0\\\\0 & 0 & 1 & 0\\\\0 & 0 & 0 & 1\\end{matrix}\\right]$"
      ],
      "text/plain": [
       "Matrix([\n",
       "[0, 0, 0, 0],\n",
       "[0, 0, 0, 0],\n",
       "[0, 0, 1, 0],\n",
       "[0, 0, 0, 1]])"
      ]
     },
     "metadata": {},
     "output_type": "display_data"
    },
    {
     "data": {
      "text/latex": [
       "$\\displaystyle \\left[\\begin{matrix}0 & 0 & i & 0\\\\0 & 0 & 0 & - i\\\\- i & 0 & 0 & 0\\\\0 & i & 0 & 0\\end{matrix}\\right]$"
      ],
      "text/plain": [
       "Matrix([\n",
       "[ 0, 0, I,  0],\n",
       "[ 0, 0, 0, -I],\n",
       "[-I, 0, 0,  0],\n",
       "[ 0, I, 0,  0]])"
      ]
     },
     "metadata": {},
     "output_type": "display_data"
    },
    {
     "data": {
      "text/latex": [
       "$\\displaystyle \\left[\\begin{matrix}e^{i k_{y}} + e^{- i k_{y}} & 0 & 0 & 0\\\\0 & e^{i k_{x}} + e^{- i k_{x}} & 0 & 0\\\\0 & 0 & 0 & 0\\\\0 & 0 & 0 & 0\\end{matrix}\\right]$"
      ],
      "text/plain": [
       "Matrix([\n",
       "[e**(I*k_y) + e**(-I*k_y),                        0, 0, 0],\n",
       "[                       0, e**(I*k_x) + e**(-I*k_x), 0, 0],\n",
       "[                       0,                        0, 0, 0],\n",
       "[                       0,                        0, 0, 0]])"
      ]
     },
     "metadata": {},
     "output_type": "display_data"
    },
    {
     "data": {
      "text/latex": [
       "$\\displaystyle \\left[\\begin{matrix}0 & i e^{i k_{x}} + e^{i k_{y}} - e^{- i k_{y}} - i e^{- i k_{x}} & 0 & 0\\\\i e^{i k_{x}} - e^{i k_{y}} + e^{- i k_{y}} - i e^{- i k_{x}} & 0 & 0 & 0\\\\0 & 0 & 0 & 0\\\\0 & 0 & 0 & 0\\end{matrix}\\right]$"
      ],
      "text/plain": [
       "Matrix([\n",
       "[                                                      0, I*e**(I*k_x) + e**(I*k_y) - e**(-I*k_y) - I*e**(-I*k_x), 0, 0],\n",
       "[I*e**(I*k_x) - e**(I*k_y) + e**(-I*k_y) - I*e**(-I*k_x),                                                       0, 0, 0],\n",
       "[                                                      0,                                                       0, 0, 0],\n",
       "[                                                      0,                                                       0, 0, 0]])"
      ]
     },
     "metadata": {},
     "output_type": "display_data"
    },
    {
     "data": {
      "text/latex": [
       "$\\displaystyle \\left[\\begin{matrix}0 & 0 & e^{i k_{y}} + e^{- i k_{y}} & 0\\\\0 & 0 & 0 & e^{i k_{x}} + e^{- i k_{x}}\\\\e^{i k_{y}} + e^{- i k_{y}} & 0 & 0 & 0\\\\0 & e^{i k_{x}} + e^{- i k_{x}} & 0 & 0\\end{matrix}\\right]$"
      ],
      "text/plain": [
       "Matrix([\n",
       "[                       0,                        0, e**(I*k_y) + e**(-I*k_y),                        0],\n",
       "[                       0,                        0,                        0, e**(I*k_x) + e**(-I*k_x)],\n",
       "[e**(I*k_y) + e**(-I*k_y),                        0,                        0,                        0],\n",
       "[                       0, e**(I*k_x) + e**(-I*k_x),                        0,                        0]])"
      ]
     },
     "metadata": {},
     "output_type": "display_data"
    },
    {
     "data": {
      "text/latex": [
       "$\\displaystyle \\left[\\begin{matrix}0 & 0 & 0 & e^{i k_{y}} - e^{- i k_{y}}\\\\0 & 0 & i e^{i k_{x}} - i e^{- i k_{x}} & 0\\\\0 & i e^{i k_{x}} - i e^{- i k_{x}} & 0 & 0\\\\- e^{i k_{y}} + e^{- i k_{y}} & 0 & 0 & 0\\end{matrix}\\right]$"
      ],
      "text/plain": [
       "Matrix([\n",
       "[                        0,                            0,                            0, e**(I*k_y) - e**(-I*k_y)],\n",
       "[                        0,                            0, I*e**(I*k_x) - I*e**(-I*k_x),                        0],\n",
       "[                        0, I*e**(I*k_x) - I*e**(-I*k_x),                            0,                        0],\n",
       "[-e**(I*k_y) + e**(-I*k_y),                            0,                            0,                        0]])"
      ]
     },
     "metadata": {},
     "output_type": "display_data"
    },
    {
     "data": {
      "text/latex": [
       "$\\displaystyle \\left[\\begin{matrix}e^{i k_{x}} + e^{- i k_{x}} & 0 & 0 & 0\\\\0 & e^{i k_{y}} + e^{- i k_{y}} & 0 & 0\\\\0 & 0 & 0 & 0\\\\0 & 0 & 0 & 0\\end{matrix}\\right]$"
      ],
      "text/plain": [
       "Matrix([\n",
       "[e**(I*k_x) + e**(-I*k_x),                        0, 0, 0],\n",
       "[                       0, e**(I*k_y) + e**(-I*k_y), 0, 0],\n",
       "[                       0,                        0, 0, 0],\n",
       "[                       0,                        0, 0, 0]])"
      ]
     },
     "metadata": {},
     "output_type": "display_data"
    },
    {
     "data": {
      "text/latex": [
       "$\\displaystyle \\left[\\begin{matrix}0 & 0 & 0 & - i e^{i k_{x}} + i e^{- i k_{x}}\\\\0 & 0 & e^{i k_{y}} - e^{- i k_{y}} & 0\\\\0 & - e^{i k_{y}} + e^{- i k_{y}} & 0 & 0\\\\- i e^{i k_{x}} + i e^{- i k_{x}} & 0 & 0 & 0\\end{matrix}\\right]$"
      ],
      "text/plain": [
       "Matrix([\n",
       "[                            0,                         0,                        0, -I*e**(I*k_x) + I*e**(-I*k_x)],\n",
       "[                            0,                         0, e**(I*k_y) - e**(-I*k_y),                             0],\n",
       "[                            0, -e**(I*k_y) + e**(-I*k_y),                        0,                             0],\n",
       "[-I*e**(I*k_x) + I*e**(-I*k_x),                         0,                        0,                             0]])"
      ]
     },
     "metadata": {},
     "output_type": "display_data"
    },
    {
     "data": {
      "text/latex": [
       "$\\displaystyle \\left[\\begin{matrix}0 & 0 & e^{i k_{x}} + e^{- i k_{x}} & 0\\\\0 & 0 & 0 & e^{i k_{y}} + e^{- i k_{y}}\\\\e^{i k_{x}} + e^{- i k_{x}} & 0 & 0 & 0\\\\0 & e^{i k_{y}} + e^{- i k_{y}} & 0 & 0\\end{matrix}\\right]$"
      ],
      "text/plain": [
       "Matrix([\n",
       "[                       0,                        0, e**(I*k_x) + e**(-I*k_x),                        0],\n",
       "[                       0,                        0,                        0, e**(I*k_y) + e**(-I*k_y)],\n",
       "[e**(I*k_x) + e**(-I*k_x),                        0,                        0,                        0],\n",
       "[                       0, e**(I*k_y) + e**(-I*k_y),                        0,                        0]])"
      ]
     },
     "metadata": {},
     "output_type": "display_data"
    },
    {
     "data": {
      "text/latex": [
       "$\\displaystyle \\left[\\begin{matrix}0 & 0 & 0 & 0\\\\0 & 0 & 0 & 0\\\\0 & 0 & e^{i k_{y}} + e^{- i k_{y}} & 0\\\\0 & 0 & 0 & e^{i k_{x}} + e^{- i k_{x}}\\end{matrix}\\right]$"
      ],
      "text/plain": [
       "Matrix([\n",
       "[0, 0,                        0,                        0],\n",
       "[0, 0,                        0,                        0],\n",
       "[0, 0, e**(I*k_y) + e**(-I*k_y),                        0],\n",
       "[0, 0,                        0, e**(I*k_x) + e**(-I*k_x)]])"
      ]
     },
     "metadata": {},
     "output_type": "display_data"
    },
    {
     "data": {
      "text/latex": [
       "$\\displaystyle \\left[\\begin{matrix}0 & 0 & 0 & 0\\\\0 & 0 & 0 & 0\\\\0 & 0 & 0 & i e^{i k_{x}} + e^{i k_{y}} - e^{- i k_{y}} - i e^{- i k_{x}}\\\\0 & 0 & i e^{i k_{x}} - e^{i k_{y}} + e^{- i k_{y}} - i e^{- i k_{x}} & 0\\end{matrix}\\right]$"
      ],
      "text/plain": [
       "Matrix([\n",
       "[0, 0,                                                       0,                                                       0],\n",
       "[0, 0,                                                       0,                                                       0],\n",
       "[0, 0,                                                       0, I*e**(I*k_x) + e**(I*k_y) - e**(-I*k_y) - I*e**(-I*k_x)],\n",
       "[0, 0, I*e**(I*k_x) - e**(I*k_y) + e**(-I*k_y) - I*e**(-I*k_x),                                                       0]])"
      ]
     },
     "metadata": {},
     "output_type": "display_data"
    },
    {
     "data": {
      "text/latex": [
       "$\\displaystyle \\left[\\begin{matrix}0 & 0 & 0 & 0\\\\0 & 0 & 0 & 0\\\\0 & 0 & e^{i k_{x}} + e^{- i k_{x}} & 0\\\\0 & 0 & 0 & e^{i k_{y}} + e^{- i k_{y}}\\end{matrix}\\right]$"
      ],
      "text/plain": [
       "Matrix([\n",
       "[0, 0,                        0,                        0],\n",
       "[0, 0,                        0,                        0],\n",
       "[0, 0, e**(I*k_x) + e**(-I*k_x),                        0],\n",
       "[0, 0,                        0, e**(I*k_y) + e**(-I*k_y)]])"
      ]
     },
     "metadata": {},
     "output_type": "display_data"
    },
    {
     "data": {
      "text/latex": [
       "$\\displaystyle \\left[\\begin{matrix}0 & - e^{i k_{x}} + i e^{i k_{y}} - i e^{- i k_{y}} + e^{- i k_{x}} & 0 & 0\\\\e^{i k_{x}} + i e^{i k_{y}} - i e^{- i k_{y}} - e^{- i k_{x}} & 0 & 0 & 0\\\\0 & 0 & 0 & 0\\\\0 & 0 & 0 & 0\\end{matrix}\\right]$"
      ],
      "text/plain": [
       "Matrix([\n",
       "[                                                      0, -e**(I*k_x) + I*e**(I*k_y) - I*e**(-I*k_y) + e**(-I*k_x), 0, 0],\n",
       "[e**(I*k_x) + I*e**(I*k_y) - I*e**(-I*k_y) - e**(-I*k_x),                                                        0, 0, 0],\n",
       "[                                                      0,                                                        0, 0, 0],\n",
       "[                                                      0,                                                        0, 0, 0]])"
      ]
     },
     "metadata": {},
     "output_type": "display_data"
    },
    {
     "data": {
      "text/latex": [
       "$\\displaystyle \\left[\\begin{matrix}0 & 0 & i e^{i k_{y}} + i e^{- i k_{y}} & 0\\\\0 & 0 & 0 & - i e^{i k_{x}} - i e^{- i k_{x}}\\\\- i e^{i k_{y}} - i e^{- i k_{y}} & 0 & 0 & 0\\\\0 & i e^{i k_{x}} + i e^{- i k_{x}} & 0 & 0\\end{matrix}\\right]$"
      ],
      "text/plain": [
       "Matrix([\n",
       "[                            0,                            0, I*e**(I*k_y) + I*e**(-I*k_y),                             0],\n",
       "[                            0,                            0,                            0, -I*e**(I*k_x) - I*e**(-I*k_x)],\n",
       "[-I*e**(I*k_y) - I*e**(-I*k_y),                            0,                            0,                             0],\n",
       "[                            0, I*e**(I*k_x) + I*e**(-I*k_x),                            0,                             0]])"
      ]
     },
     "metadata": {},
     "output_type": "display_data"
    },
    {
     "data": {
      "text/latex": [
       "$\\displaystyle \\left[\\begin{matrix}0 & 0 & 0 & i e^{i k_{y}} - i e^{- i k_{y}}\\\\0 & 0 & e^{i k_{x}} - e^{- i k_{x}} & 0\\\\0 & - e^{i k_{x}} + e^{- i k_{x}} & 0 & 0\\\\i e^{i k_{y}} - i e^{- i k_{y}} & 0 & 0 & 0\\end{matrix}\\right]$"
      ],
      "text/plain": [
       "Matrix([\n",
       "[                           0,                         0,                        0, I*e**(I*k_y) - I*e**(-I*k_y)],\n",
       "[                           0,                         0, e**(I*k_x) - e**(-I*k_x),                            0],\n",
       "[                           0, -e**(I*k_x) + e**(-I*k_x),                        0,                            0],\n",
       "[I*e**(I*k_y) - I*e**(-I*k_y),                         0,                        0,                            0]])"
      ]
     },
     "metadata": {},
     "output_type": "display_data"
    },
    {
     "data": {
      "text/latex": [
       "$\\displaystyle \\left[\\begin{matrix}0 & 0 & 0 & - e^{i k_{x}} + e^{- i k_{x}}\\\\0 & 0 & i e^{i k_{y}} - i e^{- i k_{y}} & 0\\\\0 & i e^{i k_{y}} - i e^{- i k_{y}} & 0 & 0\\\\e^{i k_{x}} - e^{- i k_{x}} & 0 & 0 & 0\\end{matrix}\\right]$"
      ],
      "text/plain": [
       "Matrix([\n",
       "[                       0,                            0,                            0, -e**(I*k_x) + e**(-I*k_x)],\n",
       "[                       0,                            0, I*e**(I*k_y) - I*e**(-I*k_y),                         0],\n",
       "[                       0, I*e**(I*k_y) - I*e**(-I*k_y),                            0,                         0],\n",
       "[e**(I*k_x) - e**(-I*k_x),                            0,                            0,                         0]])"
      ]
     },
     "metadata": {},
     "output_type": "display_data"
    },
    {
     "data": {
      "text/latex": [
       "$\\displaystyle \\left[\\begin{matrix}0 & 0 & - i e^{i k_{x}} - i e^{- i k_{x}} & 0\\\\0 & 0 & 0 & i e^{i k_{y}} + i e^{- i k_{y}}\\\\i e^{i k_{x}} + i e^{- i k_{x}} & 0 & 0 & 0\\\\0 & - i e^{i k_{y}} - i e^{- i k_{y}} & 0 & 0\\end{matrix}\\right]$"
      ],
      "text/plain": [
       "Matrix([\n",
       "[                           0,                             0, -I*e**(I*k_x) - I*e**(-I*k_x),                            0],\n",
       "[                           0,                             0,                             0, I*e**(I*k_y) + I*e**(-I*k_y)],\n",
       "[I*e**(I*k_x) + I*e**(-I*k_x),                             0,                             0,                            0],\n",
       "[                           0, -I*e**(I*k_y) - I*e**(-I*k_y),                             0,                            0]])"
      ]
     },
     "metadata": {},
     "output_type": "display_data"
    },
    {
     "data": {
      "text/latex": [
       "$\\displaystyle \\left[\\begin{matrix}0 & 0 & 0 & 0\\\\0 & 0 & 0 & 0\\\\0 & 0 & 0 & - e^{i k_{x}} + i e^{i k_{y}} - i e^{- i k_{y}} + e^{- i k_{x}}\\\\0 & 0 & e^{i k_{x}} + i e^{i k_{y}} - i e^{- i k_{y}} - e^{- i k_{x}} & 0\\end{matrix}\\right]$"
      ],
      "text/plain": [
       "Matrix([\n",
       "[0, 0,                                                       0,                                                        0],\n",
       "[0, 0,                                                       0,                                                        0],\n",
       "[0, 0,                                                       0, -e**(I*k_x) + I*e**(I*k_y) - I*e**(-I*k_y) + e**(-I*k_x)],\n",
       "[0, 0, e**(I*k_x) + I*e**(I*k_y) - I*e**(-I*k_y) - e**(-I*k_x),                                                        0]])"
      ]
     },
     "metadata": {},
     "output_type": "display_data"
    }
   ],
   "source": [
    "familyC4T = qsymm.bloch_family(hopping_vectors, {C4T}, norbs=norbs)\n",
    "print(len(familyC4T), [len(fam) for fam in familyC4T])\n",
    "qsymm.display_family(familyC4T)"
   ]
  },
  {
   "cell_type": "code",
   "execution_count": 32,
   "metadata": {
    "collapsed": true,
    "jupyter": {
     "outputs_hidden": true
    }
   },
   "outputs": [
    {
     "name": "stdout",
     "output_type": "stream",
     "text": [
      "6 [4, 4, 4, 4, 4, 4]\n"
     ]
    },
    {
     "data": {
      "text/latex": [
       "$\\displaystyle \\left[\\begin{matrix}- e^{i k_{x}} + e^{i k_{y}} + e^{- i k_{y}} - e^{- i k_{x}} & 0 & 0 & 0\\\\0 & e^{i k_{x}} - e^{i k_{y}} - e^{- i k_{y}} + e^{- i k_{x}} & 0 & 0\\\\0 & 0 & 0 & 0\\\\0 & 0 & 0 & 0\\end{matrix}\\right]$"
      ],
      "text/plain": [
       "Matrix([\n",
       "[-e**(I*k_x) + e**(I*k_y) + e**(-I*k_y) - e**(-I*k_x),                                                   0, 0, 0],\n",
       "[                                                   0, e**(I*k_x) - e**(I*k_y) - e**(-I*k_y) + e**(-I*k_x), 0, 0],\n",
       "[                                                   0,                                                   0, 0, 0],\n",
       "[                                                   0,                                                   0, 0, 0]])"
      ]
     },
     "metadata": {},
     "output_type": "display_data"
    },
    {
     "data": {
      "text/latex": [
       "$\\displaystyle \\left[\\begin{matrix}0 & 0 & - e^{i k_{x}} + e^{i k_{y}} + e^{- i k_{y}} - e^{- i k_{x}} & 0\\\\0 & 0 & 0 & e^{i k_{x}} - e^{i k_{y}} - e^{- i k_{y}} + e^{- i k_{x}}\\\\- e^{i k_{x}} + e^{i k_{y}} + e^{- i k_{y}} - e^{- i k_{x}} & 0 & 0 & 0\\\\0 & e^{i k_{x}} - e^{i k_{y}} - e^{- i k_{y}} + e^{- i k_{x}} & 0 & 0\\end{matrix}\\right]$"
      ],
      "text/plain": [
       "Matrix([\n",
       "[                                                   0,                                                   0, -e**(I*k_x) + e**(I*k_y) + e**(-I*k_y) - e**(-I*k_x),                                                   0],\n",
       "[                                                   0,                                                   0,                                                    0, e**(I*k_x) - e**(I*k_y) - e**(-I*k_y) + e**(-I*k_x)],\n",
       "[-e**(I*k_x) + e**(I*k_y) + e**(-I*k_y) - e**(-I*k_x),                                                   0,                                                    0,                                                   0],\n",
       "[                                                   0, e**(I*k_x) - e**(I*k_y) - e**(-I*k_y) + e**(-I*k_x),                                                    0,                                                   0]])"
      ]
     },
     "metadata": {},
     "output_type": "display_data"
    },
    {
     "data": {
      "text/latex": [
       "$\\displaystyle \\left[\\begin{matrix}0 & 0 & 0 & - i e^{i k_{x}} + e^{i k_{y}} - e^{- i k_{y}} + i e^{- i k_{x}}\\\\0 & 0 & i e^{i k_{x}} + e^{i k_{y}} - e^{- i k_{y}} - i e^{- i k_{x}} & 0\\\\0 & i e^{i k_{x}} - e^{i k_{y}} + e^{- i k_{y}} - i e^{- i k_{x}} & 0 & 0\\\\- i e^{i k_{x}} - e^{i k_{y}} + e^{- i k_{y}} + i e^{- i k_{x}} & 0 & 0 & 0\\end{matrix}\\right]$"
      ],
      "text/plain": [
       "Matrix([\n",
       "[                                                       0,                                                       0,                                                       0, -I*e**(I*k_x) + e**(I*k_y) - e**(-I*k_y) + I*e**(-I*k_x)],\n",
       "[                                                       0,                                                       0, I*e**(I*k_x) + e**(I*k_y) - e**(-I*k_y) - I*e**(-I*k_x),                                                        0],\n",
       "[                                                       0, I*e**(I*k_x) - e**(I*k_y) + e**(-I*k_y) - I*e**(-I*k_x),                                                       0,                                                        0],\n",
       "[-I*e**(I*k_x) - e**(I*k_y) + e**(-I*k_y) + I*e**(-I*k_x),                                                       0,                                                       0,                                                        0]])"
      ]
     },
     "metadata": {},
     "output_type": "display_data"
    },
    {
     "data": {
      "text/latex": [
       "$\\displaystyle \\left[\\begin{matrix}0 & 0 & 0 & 0\\\\0 & 0 & 0 & 0\\\\0 & 0 & - e^{i k_{x}} + e^{i k_{y}} + e^{- i k_{y}} - e^{- i k_{x}} & 0\\\\0 & 0 & 0 & e^{i k_{x}} - e^{i k_{y}} - e^{- i k_{y}} + e^{- i k_{x}}\\end{matrix}\\right]$"
      ],
      "text/plain": [
       "Matrix([\n",
       "[0, 0,                                                    0,                                                   0],\n",
       "[0, 0,                                                    0,                                                   0],\n",
       "[0, 0, -e**(I*k_x) + e**(I*k_y) + e**(-I*k_y) - e**(-I*k_x),                                                   0],\n",
       "[0, 0,                                                    0, e**(I*k_x) - e**(I*k_y) - e**(-I*k_y) + e**(-I*k_x)]])"
      ]
     },
     "metadata": {},
     "output_type": "display_data"
    },
    {
     "data": {
      "text/latex": [
       "$\\displaystyle \\left[\\begin{matrix}0 & 0 & - i e^{i k_{x}} + i e^{i k_{y}} + i e^{- i k_{y}} - i e^{- i k_{x}} & 0\\\\0 & 0 & 0 & - i e^{i k_{x}} + i e^{i k_{y}} + i e^{- i k_{y}} - i e^{- i k_{x}}\\\\i e^{i k_{x}} - i e^{i k_{y}} - i e^{- i k_{y}} + i e^{- i k_{x}} & 0 & 0 & 0\\\\0 & i e^{i k_{x}} - i e^{i k_{y}} - i e^{- i k_{y}} + i e^{- i k_{x}} & 0 & 0\\end{matrix}\\right]$"
      ],
      "text/plain": [
       "Matrix([\n",
       "[                                                          0,                                                           0, -I*e**(I*k_x) + I*e**(I*k_y) + I*e**(-I*k_y) - I*e**(-I*k_x),                                                            0],\n",
       "[                                                          0,                                                           0,                                                            0, -I*e**(I*k_x) + I*e**(I*k_y) + I*e**(-I*k_y) - I*e**(-I*k_x)],\n",
       "[I*e**(I*k_x) - I*e**(I*k_y) - I*e**(-I*k_y) + I*e**(-I*k_x),                                                           0,                                                            0,                                                            0],\n",
       "[                                                          0, I*e**(I*k_x) - I*e**(I*k_y) - I*e**(-I*k_y) + I*e**(-I*k_x),                                                            0,                                                            0]])"
      ]
     },
     "metadata": {},
     "output_type": "display_data"
    },
    {
     "data": {
      "text/latex": [
       "$\\displaystyle \\left[\\begin{matrix}0 & 0 & 0 & e^{i k_{x}} + i e^{i k_{y}} - i e^{- i k_{y}} - e^{- i k_{x}}\\\\0 & 0 & e^{i k_{x}} - i e^{i k_{y}} + i e^{- i k_{y}} - e^{- i k_{x}} & 0\\\\0 & - e^{i k_{x}} - i e^{i k_{y}} + i e^{- i k_{y}} + e^{- i k_{x}} & 0 & 0\\\\- e^{i k_{x}} + i e^{i k_{y}} - i e^{- i k_{y}} + e^{- i k_{x}} & 0 & 0 & 0\\end{matrix}\\right]$"
      ],
      "text/plain": [
       "Matrix([\n",
       "[                                                       0,                                                        0,                                                       0, e**(I*k_x) + I*e**(I*k_y) - I*e**(-I*k_y) - e**(-I*k_x)],\n",
       "[                                                       0,                                                        0, e**(I*k_x) - I*e**(I*k_y) + I*e**(-I*k_y) - e**(-I*k_x),                                                       0],\n",
       "[                                                       0, -e**(I*k_x) - I*e**(I*k_y) + I*e**(-I*k_y) + e**(-I*k_x),                                                       0,                                                       0],\n",
       "[-e**(I*k_x) + I*e**(I*k_y) - I*e**(-I*k_y) + e**(-I*k_x),                                                        0,                                                       0,                                                       0]])"
      ]
     },
     "metadata": {},
     "output_type": "display_data"
    }
   ],
   "source": [
    "family_new = qsymm.hamiltonian_generator.subtract_family(familyC4T, familyTR, prettify=True)\n",
    "print(len(family_new), [len(fam) for fam in family_new])\n",
    "qsymm.display_family(family_new)"
   ]
  },
  {
   "cell_type": "code",
   "execution_count": 37,
   "metadata": {
    "collapsed": true,
    "jupyter": {
     "outputs_hidden": true
    }
   },
   "outputs": [
    {
     "data": {
      "text/plain": [
       "(1-0j)"
      ]
     },
     "execution_count": 37,
     "metadata": {},
     "output_type": "execute_result"
    }
   ],
   "source": [
    "from scipy import linalg as la\n",
    "la.det(np.kron(np.eye(4), 2 * S[1]))"
   ]
  },
  {
   "cell_type": "markdown",
   "metadata": {},
   "source": [
    "### Find periods from BlochModel"
   ]
  },
  {
   "cell_type": "code",
   "execution_count": 108,
   "metadata": {},
   "outputs": [],
   "source": [
    "ham = qsymm.hamiltonian_generator.hamiltonian_from_family(family, tosympy=False)"
   ]
  },
  {
   "cell_type": "code",
   "execution_count": 109,
   "metadata": {},
   "outputs": [
    {
     "data": {
      "text/plain": [
       "{(array([0.5       , 0.28867513]), c0):\n",
       "[[0.+0.j 0.+0.j]\n",
       " [1.+0.j 0.+0.j]],\n",
       "\n",
       "(array([ 0.5       , -0.28867513]), c0):\n",
       "[[0.+0.j 1.+0.j]\n",
       " [0.+0.j 0.+0.j]],\n",
       "\n",
       "(array([-0.5       , -0.28867513]), c0):\n",
       "[[0.+0.j 1.+0.j]\n",
       " [0.+0.j 0.+0.j]],\n",
       "\n",
       "(array([-0.        ,  0.57735027]), c0):\n",
       "[[0.+0.j 1.+0.j]\n",
       " [0.+0.j 0.+0.j]],\n",
       "\n",
       "(array([-0.5       ,  0.28867513]), c0):\n",
       "[[0.+0.j 0.+0.j]\n",
       " [1.+0.j 0.+0.j]],\n",
       "\n",
       "(array([-0.        , -0.57735027]), c0):\n",
       "[[0.+0.j 0.+0.j]\n",
       " [1.+0.j 0.+0.j]],\n",
       "\n",
       "}"
      ]
     },
     "execution_count": 109,
     "metadata": {},
     "output_type": "execute_result"
    }
   ],
   "source": [
    "ham = qsymm.BlochModel(ham)\n",
    "ham"
   ]
  },
  {
   "cell_type": "code",
   "execution_count": 148,
   "metadata": {},
   "outputs": [],
   "source": [
    "from collections import defaultdict\n",
    "from qsymm.model import BlochModel, BlochCoeff\n",
    "from qsymm.kwant_linalg_lll import lll\n",
    "from itertools import product\n",
    "from functools import reduce\n",
    "from math import gcd\n",
    "# from https://github.com/lan496/hsnf\n",
    "from hsnf import smith_normal_form, row_style_hermite_normal_form\n",
    "\n",
    "one = sympy.sympify(1)\n",
    "\n",
    "def model_periods(model):\n",
    "    \"\"\"Find the periods and positions of orbitals\n",
    "    for the lattice model where it is is periodic.\n",
    "    It needs to be a bloch Hamiltonian written in the\n",
    "    real space convention (i.e. hopping phases correspond\n",
    "    to the real space sepatarion of orbitals)\"\"\"\n",
    "    # convert to BlochModel\n",
    "    model = BlochModel(model)\n",
    "    n = model.shape[0]\n",
    "    d = len(model.momenta)\n",
    "\n",
    "    # dictionary of relative positions for each pair of\n",
    "    # orbitals, allow multiple relative positions\n",
    "    rel_pos_nn = defaultdict(lambda: set())\n",
    "    # populate it with all the hoppings in the model\n",
    "    for (hop, _), val in model.items():\n",
    "        for a, b in zip(*np.nonzero(val)):\n",
    "            rel_pos_nn[a, b].add(BlochCoeff(hop, one))\n",
    "\n",
    "    # Keep adding further neighbor relative positions up to n steps,\n",
    "    # this guarantees we find all linearly independent (over integers)\n",
    "    # lattice vectors.\n",
    "    # This may take long if there are many orbitals, perhaps there is\n",
    "    # a better stopping condition.\n",
    "    rel_pos = defaultdict(lambda: set(), {ind: set.copy() for ind, set in rel_pos_nn.items()})\n",
    "    for _ in range(n-1):\n",
    "        for ((a1, b1), hops1), ((a2, b2), hops2) in product(rel_pos.items(), rel_pos_nn.items()):\n",
    "            if b1 == a2:\n",
    "                for (hop1, hop2) in product(hops1, hops2):\n",
    "                    rel_pos[a1, b2].add(hop1 * hop2)\n",
    "\n",
    "    # Lattice vectors are those connecting the same site type\n",
    "    vecs = np.array([vec for ((a, b), hops) in rel_pos.items() if a == b\n",
    "                         for vec, _ in hops])\n",
    "    # Find primitive vectors\n",
    "    prim_vecs = primitive_lattice_vecs(vecs)\n",
    "    return prim_vecs\n",
    "\n",
    "\n",
    "def make_int(R):\n",
    "    # If close to an integer array convert to integer array, else\n",
    "    # return None\n",
    "    R_int = np.array(np.round(R), int)\n",
    "    if qsymm.linalg.allclose(R, R_int):\n",
    "        return R_int\n",
    "    else:\n",
    "        return None\n",
    "\n",
    "\n",
    "def primitive_lattice_vecs(vecs, method='hnf'):\n",
    "    \"\"\"Find a set of primitive lattice vectors spanning the\n",
    "    same lattice as vecs.\"\"\"\n",
    "    vecs = np.asarray(vecs)\n",
    "    d = vecs.shape[1]\n",
    "    # pick out a set of small linearly independent vectors\n",
    "    ### TODO this likely works even if vecs don't span the full space\n",
    "    norms = np.linalg.norm(vecs, axis=1)\n",
    "    vecs = vecs[np.argsort(norms)]\n",
    "    bas = []\n",
    "    for v in vecs:\n",
    "        new_bas = bas + [v]\n",
    "        rank = np.linalg.matrix_rank(new_bas)\n",
    "        if rank == len(new_bas):\n",
    "            bas = new_bas\n",
    "        if rank == d:\n",
    "            break\n",
    "    else:\n",
    "        raise ValueError('The vectors do not span the full space.')\n",
    "    bas = np.vstack(bas)\n",
    "    # rewrite all vectors in this new basis\n",
    "    vecs = np.linalg.solve(bas.T, vecs.T).T\n",
    "    # find the common denominator to make all integer\n",
    "    denom = lcd(vecs)\n",
    "    vecs = make_int(vecs * denom)\n",
    "    bas = bas / denom\n",
    "    # find primitive lattice vectors\n",
    "    if method == 'snf':\n",
    "        D, L, R = smith_normal_form(vecs)\n",
    "        prim_vecs = D @ np.linalg.inv(R)\n",
    "    elif method == 'hnf':\n",
    "        prim_vecs, U = row_style_hermite_normal_form(vecs)\n",
    "    else:\n",
    "        raise ValueError(\"Method must be either 'hnf' or 'snf'.\")\n",
    "    prim_vecs = prim_vecs[:d]\n",
    "    # convert back to original basis\n",
    "    prim_vecs = prim_vecs @ bas\n",
    "    return lll(prim_vecs)[0]\n",
    "\n",
    "\n",
    "def lcd(a, tol=1e-9):\n",
    "    \"\"\"Calculate approximate least common denominator for\n",
    "    the entries of floating point array `a`.\"\"\"\n",
    "    a = np.asarray(a).flatten()\n",
    "    a = a % 1\n",
    "    ### This would be nice to vectorize\n",
    "    denoms = np.array([farey(x)[1] for x in a])\n",
    "    return reduce(lambda a, b: a * b // gcd(a, b), denoms, 1)\n",
    "    \n",
    "\n",
    "def farey(x, tol=1e-9):\n",
    "    \"\"\"Farey sequence rational approximation of `0 <= x <= 1`\n",
    "    with tolerance `tol`. Adapted from\n",
    "    https://www.johndcook.com/blog/2010/10/20/best-rational-approximation/\n",
    "    \"\"\"\n",
    "    N = int(tol**(-1/2) / np.sqrt(5))\n",
    "    a, b = 0, 1\n",
    "    c, d = 1, 1\n",
    "    while (b <= N and d <= N):\n",
    "        # Add these checks to avoid additional loops\n",
    "        if abs(x - a/b) <= tol:\n",
    "            return a, b\n",
    "        elif abs(x - c/d) <= tol:\n",
    "            return c, d\n",
    "        mediant = (a+c)/(b+d)\n",
    "        if abs(x - mediant) <= tol:\n",
    "            return a+c, b+d\n",
    "        elif x > mediant:\n",
    "            a, b = a+c, b+d\n",
    "        else:\n",
    "            c, d = a+c, b+d\n",
    "\n",
    "    if (b > N):\n",
    "        return c, d\n",
    "    else:\n",
    "        return a, b"
   ]
  },
  {
   "cell_type": "code",
   "execution_count": 149,
   "metadata": {},
   "outputs": [
    {
     "name": "stdout",
     "output_type": "stream",
     "text": [
      "55.8 ms ± 4.06 ms per loop (mean ± std. dev. of 7 runs, 10 loops each)\n"
     ]
    },
    {
     "data": {
      "text/plain": [
       "array([[ 1.00000000e+00, -2.77555756e-16],\n",
       "       [ 5.00000000e-01,  8.66025404e-01]])"
      ]
     },
     "execution_count": 149,
     "metadata": {},
     "output_type": "execute_result"
    }
   ],
   "source": [
    "# %%time\n",
    "%timeit lat_vecs = model_periods(ham)\n",
    "lat_vecs"
   ]
  },
  {
   "cell_type": "code",
   "execution_count": 114,
   "metadata": {},
   "outputs": [],
   "source": [
    "%load_ext line_profiler"
   ]
  },
  {
   "cell_type": "code",
   "execution_count": 150,
   "metadata": {},
   "outputs": [
    {
     "data": {
      "text/plain": [
       "Timer unit: 1e-06 s\n",
       "\n",
       "Total time: 0.000181 s\n",
       "File: <ipython-input-148-82fb982a8674>\n",
       "Function: farey at line 111\n",
       "\n",
       "Line #      Hits         Time  Per Hit   % Time  Line Contents\n",
       "==============================================================\n",
       "   111                                           def farey(x, tol=1e-9):\n",
       "   112                                               \"\"\"Farey sequence rational approximation of `0 <= x <= 1`\n",
       "   113                                               with tolerance `tol`. Adapted from\n",
       "   114                                               https://www.johndcook.com/blog/2010/10/20/best-rational-approximation/\n",
       "   115                                               \"\"\"\n",
       "   116        28         81.0      2.9     44.8      N = int(tol**(-1/2) / np.sqrt(5))\n",
       "   117        28         13.0      0.5      7.2      a, b = 0, 1\n",
       "   118        28         11.0      0.4      6.1      c, d = 1, 1\n",
       "   119        28         13.0      0.5      7.2      while (b <= N and d <= N):\n",
       "   120                                                   # Add these checks to avoid additional loops\n",
       "   121        28         40.0      1.4     22.1          if abs(x - a/b) < tol:\n",
       "   122        24         16.0      0.7      8.8              return a, b\n",
       "   123         4          4.0      1.0      2.2          elif abs(x - c/d) < tol:\n",
       "   124         4          3.0      0.8      1.7              return c, d\n",
       "   125                                                   mediant = (a+c)/(b+d)\n",
       "   126                                                   if x == mediant:\n",
       "   127                                                       return a+c, b+d\n",
       "   128                                                   elif x > mediant:\n",
       "   129                                                       a, b = a+c, b+d\n",
       "   130                                                   else:\n",
       "   131                                                       c, d = a+c, b+d\n",
       "   132                                           \n",
       "   133                                               if (b > N):\n",
       "   134                                                   return c, d\n",
       "   135                                               else:\n",
       "   136                                                   return a, b"
      ]
     },
     "metadata": {},
     "output_type": "display_data"
    }
   ],
   "source": [
    "%lprun -f farey model_periods(ham)"
   ]
  },
  {
   "cell_type": "code",
   "execution_count": 88,
   "metadata": {},
   "outputs": [
    {
     "name": "stdout",
     "output_type": "stream",
     "text": [
      "CPU times: user 142 ms, sys: 24 µs, total: 142 ms\n",
      "Wall time: 138 ms\n"
     ]
    },
    {
     "data": {
      "text/plain": [
       "array([[1., 0.],\n",
       "       [0., 1.]])"
      ]
     },
     "execution_count": 88,
     "metadata": {},
     "output_type": "execute_result"
    }
   ],
   "source": [
    "%%time\n",
    "primitive_lattice_vecs([[11, 1], [1, 0], [0, 0]], method='hnf')"
   ]
  },
  {
   "cell_type": "code",
   "execution_count": null,
   "metadata": {},
   "outputs": [],
   "source": []
  }
 ],
 "metadata": {
  "kernelspec": {
   "display_name": "Python [conda env:.conda-kwant_conda]",
   "language": "python",
   "name": "conda-env-.conda-kwant_conda-py"
  },
  "language_info": {
   "codemirror_mode": {
    "name": "ipython",
    "version": 3
   },
   "file_extension": ".py",
   "mimetype": "text/x-python",
   "name": "python",
   "nbconvert_exporter": "python",
   "pygments_lexer": "ipython3",
   "version": "3.7.8"
  }
 },
 "nbformat": 4,
 "nbformat_minor": 4
}
