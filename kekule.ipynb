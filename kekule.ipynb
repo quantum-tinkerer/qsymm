{
 "cells": [
  {
   "cell_type": "code",
   "execution_count": null,
   "metadata": {},
   "outputs": [],
   "source": [
    "import numpy as np\n",
    "import scipy.linalg as la\n",
    "import sympy as sympy\n",
    "from collections import OrderedDict\n",
    "from kwant.continuum import sympify as sympify\n",
    "\n",
    "# qsymm\n",
    "import qsymm\n",
    "\n",
    "sympy.init_printing(print_builtin=True)\n",
    "np.set_printoptions(precision=2, suppress=True, linewidth=150)"
   ]
  },
  {
   "cell_type": "markdown",
   "metadata": {},
   "source": [
    "# Find symmetries of Kekule-Y continuum model"
   ]
  },
  {
   "cell_type": "markdown",
   "metadata": {},
   "source": [
    "## Kekule-Y"
   ]
  },
  {
   "cell_type": "markdown",
   "metadata": {},
   "source": [
    "Find symmetries of Kekule-Y effective model, starting from the full hexagonal symmetry group with time reversal and particle-hole symmetry."
   ]
  },
  {
   "cell_type": "code",
   "execution_count": null,
   "metadata": {},
   "outputs": [],
   "source": [
    "# KEK-Y\n",
    "hamkeky = 'vs * kron((k_x * sigma_x + k_y * sigma_y), eye(2)) + vt * kron(eye(2), (k_x * sigma_x + k_y * sigma_y))' \n",
    "display(sympify(hamkeky))\n",
    "Hkeky = qsymm.Model(hamkeky, momenta=[0, 1])\n",
    "candidates = qsymm.groups.hexagonal()\n",
    "sgy, cg = qsymm.symmetries(Hkeky, candidates)\n",
    "print(len(sgy))\n",
    "display(sorted(sgy))\n",
    "display(cg)"
   ]
  },
  {
   "cell_type": "markdown",
   "metadata": {},
   "source": [
    "Enumerate subgroups that protect double Dirac cone"
   ]
  },
  {
   "cell_type": "code",
   "execution_count": null,
   "metadata": {},
   "outputs": [],
   "source": [
    "all_subgroups = qsymm.groups.generate_subgroups(sgy)"
   ]
  },
  {
   "cell_type": "code",
   "execution_count": null,
   "metadata": {},
   "outputs": [],
   "source": [
    "# Terms proportional to the identity matrix don't open a gap.\n",
    "identity_terms = [qsymm.Model({qsymm.sympify(1): np.eye(4)})]\n",
    "\n",
    "dd_sg = []\n",
    "for subgroup, gens in all_subgroups.items():\n",
    "    # print(len(subgroup))\n",
    "    family = qsymm.continuum_hamiltonian(gens, 2, 0)\n",
    "    family = qsymm.hamiltonian_generator.subtract_family(family, identity_terms)\n",
    "    if family == []:\n",
    "        dd_sg.append(subgroup)\n",
    "\n",
    "dd_sg.sort(key=len)"
   ]
  },
  {
   "cell_type": "code",
   "execution_count": null,
   "metadata": {},
   "outputs": [],
   "source": [
    "[len(sg) for sg in dd_sg]"
   ]
  },
  {
   "cell_type": "code",
   "execution_count": null,
   "metadata": {},
   "outputs": [],
   "source": [
    "dd_sg[0]"
   ]
  },
  {
   "cell_type": "markdown",
   "metadata": {},
   "source": [
    "Twofold rotation combined with sublattice symmetry is enough. However 2-fold rotation is not a physical symmetry of the lattice model. Let's get rid of 2-fold rotations"
   ]
  },
  {
   "cell_type": "code",
   "execution_count": null,
   "metadata": {},
   "outputs": [],
   "source": [
    "rdd_sg = []\n",
    "for subgroup, gens in all_subgroups.items():\n",
    "    # print(len(subgroup),'  ',  end='\\r')\n",
    "    invs = {qsymm.inversion(2) * g for g in [qsymm.identity(2),\n",
    "                                             qsymm.time_reversal(2),\n",
    "                                             qsymm.particle_hole(2),\n",
    "                                             qsymm.chiral(2)]}\n",
    "    # Skip subgroups that have inversion\n",
    "    if subgroup & invs:\n",
    "        continue\n",
    "    family = qsymm.continuum_hamiltonian(gens, 2, 0)\n",
    "    family = qsymm.hamiltonian_generator.subtract_family(family, identity_terms)\n",
    "    if family == []:\n",
    "        rdd_sg.append(subgroup)\n",
    "\n",
    "rdd_sg.sort(key=len)"
   ]
  },
  {
   "cell_type": "code",
   "execution_count": null,
   "metadata": {},
   "outputs": [],
   "source": [
    "[len(sg) for sg in rdd_sg]"
   ]
  },
  {
   "cell_type": "code",
   "execution_count": null,
   "metadata": {},
   "outputs": [],
   "source": [
    "rdd_sg[0]"
   ]
  },
  {
   "cell_type": "markdown",
   "metadata": {},
   "source": [
    "Sublattice symmetry with 3-fold rotations is the minimal symmetry group required. Let's test if any of the solutions has no sublattice symmetry."
   ]
  },
  {
   "cell_type": "code",
   "execution_count": null,
   "metadata": {},
   "outputs": [],
   "source": [
    "[sg for sg in rdd_sg if not [g for g in sg if g.antisymmetry == True]]"
   ]
  },
  {
   "cell_type": "markdown",
   "metadata": {},
   "source": [
    "Sublattice symmetry is required for the protection of the double Dirac cone."
   ]
  },
  {
   "cell_type": "markdown",
   "metadata": {},
   "source": [
    "# Continuous rotation symmetries of continuum models"
   ]
  },
  {
   "cell_type": "markdown",
   "metadata": {},
   "source": [
    "## Kekule-Y"
   ]
  },
  {
   "cell_type": "code",
   "execution_count": null,
   "metadata": {},
   "outputs": [],
   "source": [
    "qsymm.symmetries(Hkeky, candidates=[], continuous_rotations=True, prettify=True)"
   ]
  },
  {
   "cell_type": "markdown",
   "metadata": {},
   "source": [
    "## Kekule-O"
   ]
  },
  {
   "cell_type": "code",
   "execution_count": null,
   "metadata": {},
   "outputs": [],
   "source": [
    "# KEK-O\n",
    "hamkeko = 'vs * (k_x * kron(eye(2), sigma_x) + k_y * kron(sigma_z, sigma_y)) + Delta * kron(sigma_y, sigma_y)'\n",
    "display(sympify(hamkeko))\n",
    "Hkeko = qsymm.Model(hamkeko, momenta=[0, 1])\n",
    "qsymm.symmetries(Hkeko, candidates=[], continuous_rotations=True, prettify=True)"
   ]
  },
  {
   "cell_type": "markdown",
   "metadata": {},
   "source": [
    "The rotation generators are different in the two cases"
   ]
  },
  {
   "cell_type": "markdown",
   "metadata": {},
   "source": [
    "# Lattice Models"
   ]
  },
  {
   "cell_type": "markdown",
   "metadata": {},
   "source": [
    "## Generate Kekule-O model"
   ]
  },
  {
   "cell_type": "markdown",
   "metadata": {},
   "source": [
    "6 sites (3 A and 3 B) per unit cell, spinless orbitals. Time-reversal, sublattice and 6-fold rotation and mirror symmetry."
   ]
  },
  {
   "cell_type": "code",
   "execution_count": null,
   "metadata": {},
   "outputs": [],
   "source": [
    "sites = ['A1', 'B1', 'A2', 'B2', 'A3', 'B3']\n",
    "norbs = OrderedDict([(site, 1) for site in sites])\n",
    "\n",
    "# Time reversal\n",
    "TR = qsymm.PointGroupElement(sympy.eye(2), True, False, np.eye(6))\n",
    "\n",
    "# Chiral symmetry\n",
    "C = qsymm.PointGroupElement(sympy.eye(2), False, True, np.kron(np.eye(3), ([[1, 0], [0, -1]])))\n",
    "\n",
    "# Atom A rotates into B, B into A.\n",
    "sphi = 2*sympy.pi/6\n",
    "RC6 = sympy.Matrix([[sympy.cos(sphi), -sympy.sin(sphi)],\n",
    "                  [sympy.sin(sphi), sympy.cos(sphi)]])\n",
    "permC6 = {'A1': 'B1', 'B1': 'A2', 'A2': 'B2', 'B2': 'A3', 'A3': 'B3', 'B3': 'A1'}\n",
    "C6 = qsymm.groups.symmetry_from_permutation(RC6, permC6, norbs)\n",
    "\n",
    "RMx = sympy.Matrix([[-1, 0],\n",
    "                    [0, 1]])\n",
    "permMx = {'A1': 'A3', 'B1': 'B2', 'A2': 'A2', 'B2': 'B1', 'A3': 'A1', 'B3': 'B3'}\n",
    "Mx = qsymm.groups.symmetry_from_permutation(RMx, permMx, norbs)\n",
    "\n",
    "symmetries = [C, TR, C6, Mx]"
   ]
  },
  {
   "cell_type": "code",
   "execution_count": null,
   "metadata": {},
   "outputs": [],
   "source": [
    "# Only need the unique hoppings, one weak and one strong\n",
    "hopping_vectors = [('A1', 'B1', np.array([0, -1])), # around ring\n",
    "                   ('A2', 'B3', np.array([0, -1])), # next UC\n",
    "                  ]"
   ]
  },
  {
   "cell_type": "code",
   "execution_count": null,
   "metadata": {},
   "outputs": [],
   "source": [
    "# construct Hamiltonian terms to symmetry-allowed terms\n",
    "family = qsymm.bloch_family(hopping_vectors, symmetries, norbs=norbs)\n",
    "print(len(family), [len(fam) for fam in family])\n",
    "qsymm.display_family(family)"
   ]
  },
  {
   "cell_type": "markdown",
   "metadata": {},
   "source": [
    "Make terms at k=0 and check degeneracy for some linear combination."
   ]
  },
  {
   "cell_type": "code",
   "execution_count": null,
   "metadata": {},
   "outputs": [],
   "source": [
    "Gamma_terms = [term.subs(dict(k_x = 0, k_y = 0)) for term in family]\n",
    "evals, evecs = la.eigh(np.sum([list(term.values())[0] * coeff for term, coeff\n",
    "                in zip(Gamma_terms, [1, 2])], axis=0))\n",
    "evals"
   ]
  },
  {
   "cell_type": "markdown",
   "metadata": {},
   "source": [
    "Find symmetry representation in the low energy subspace"
   ]
  },
  {
   "cell_type": "code",
   "execution_count": null,
   "metadata": {},
   "outputs": [],
   "source": [
    "# projector to low energy subspace\n",
    "proj = evecs[:, 1:5]\n",
    "UC3 = (C6 * C6).U\n",
    "# projected symmetry operator\n",
    "pC3 = proj.T.conj() @ UC3 @ proj\n",
    "print(pC3)\n",
    "assert np.allclose(pC3 @ pC3.T.conj(), np.eye(4))\n",
    "evals2, evecs2 = la.eig(pC3)\n",
    "# Check angles of the eigenvalues\n",
    "np.angle(evals2) / (2 * np.pi)"
   ]
  },
  {
   "cell_type": "markdown",
   "metadata": {},
   "source": [
    "## Generate Kekule-Y model"
   ]
  },
  {
   "cell_type": "markdown",
   "metadata": {},
   "source": [
    "6 sites (3 A and 3 B) per unit cell, spinless orbitals. Time-reversal, sublattice and 3-fold rotation and mirror symmetry."
   ]
  },
  {
   "cell_type": "code",
   "execution_count": null,
   "metadata": {},
   "outputs": [],
   "source": [
    "sites = ['A1', 'B1', 'A2', 'B2', 'A3', 'B3']\n",
    "norbs = OrderedDict([(site, 1) for site in sites])\n",
    "\n",
    "# Time reversal\n",
    "TR = qsymm.time_reversal(2, U=np.eye(6))\n",
    "\n",
    "# Chiral symmetry\n",
    "C = qsymm.chiral(2, U=np.kron(np.eye(3), ([[1, 0], [0, -1]])))\n",
    "\n",
    "# Atom A rotates into B, B into A.\n",
    "sphi = 2*sympy.pi/3\n",
    "RC3 = sympy.Matrix([[sympy.cos(sphi), -sympy.sin(sphi)],\n",
    "                  [sympy.sin(sphi), sympy.cos(sphi)]])\n",
    "permC3 = {'A1': 'A1', 'B1': 'B3', 'A2': 'A2', 'B2': 'B1', 'A3': 'A3', 'B3': 'B2'}\n",
    "C3 = qsymm.groups.symmetry_from_permutation(RC3, permC3, norbs)\n",
    "\n",
    "RMx = sympy.Matrix([[-1, 0],\n",
    "                    [0, 1]])\n",
    "permMx = {'A1': 'A1', 'B1': 'B1', 'A2': 'A3', 'B2': 'B3', 'A3': 'A2', 'B3': 'B2'}\n",
    "Mx = qsymm.groups.symmetry_from_permutation(RMx, permMx, norbs)\n",
    "\n",
    "symmetries = [C, TR, C3, Mx]"
   ]
  },
  {
   "cell_type": "code",
   "execution_count": null,
   "metadata": {},
   "outputs": [],
   "source": [
    "# Only need the unique hoppings, one weak and one strong\n",
    "hopping_vectors = [('A1', 'B1', np.array([0, -1])), # Y\n",
    "                   ('A2', 'B3', np.array([0, -1])), # other\n",
    "                  ]"
   ]
  },
  {
   "cell_type": "code",
   "execution_count": null,
   "metadata": {},
   "outputs": [],
   "source": [
    "# construct Hamiltonian terms to symmetry-allowed terms\n",
    "family = qsymm.bloch_family(hopping_vectors, symmetries, norbs=norbs)\n",
    "print(len(family), [len(fam) for fam in family])\n",
    "qsymm.display_family(family)"
   ]
  },
  {
   "cell_type": "markdown",
   "metadata": {},
   "source": [
    "Make terms at k=0 and check degeneracy for some linear combination."
   ]
  },
  {
   "cell_type": "code",
   "execution_count": null,
   "metadata": {},
   "outputs": [],
   "source": [
    "Gamma_terms = [term.subs(dict(k_x = 0, k_y = 0)) for term in family]\n",
    "evals, evecs = la.eigh(np.sum([list(term.values())[0] * coeff for term, coeff\n",
    "                in zip(Gamma_terms, [1, 2])], axis=0))\n",
    "evals"
   ]
  },
  {
   "cell_type": "markdown",
   "metadata": {},
   "source": [
    "Find symmetry representation of 3-fold rotations in the low energy subspace"
   ]
  },
  {
   "cell_type": "code",
   "execution_count": null,
   "metadata": {},
   "outputs": [],
   "source": [
    "# projector to low energy subspace\n",
    "proj = evecs[:, 1:5]\n",
    "UC3 = C3.U\n",
    "# projected symmetry operator\n",
    "pC3 = proj.T.conj() @ UC3 @ proj\n",
    "print(pC3)\n",
    "assert np.allclose(pC3 @ pC3.T.conj(), np.eye(4))\n",
    "evals2, evecs2 = la.eig(pC3)\n",
    "# Check angles of the eigenvalues\n",
    "np.angle(evals2) / (2 * np.pi)"
   ]
  },
  {
   "cell_type": "markdown",
   "metadata": {},
   "source": [
    "The symmetry representation in the low energy subspace near the Gamma point is different in the two cases"
   ]
  }
 ],
 "metadata": {
  "kernelspec": {
   "display_name": "Python 3",
   "language": "python",
   "name": "python3"
  },
  "language_info": {
   "codemirror_mode": {
    "name": "ipython",
    "version": 3
   },
   "file_extension": ".py",
   "mimetype": "text/x-python",
   "name": "python",
   "nbconvert_exporter": "python",
   "pygments_lexer": "ipython3",
   "version": "3.7.1"
  }
 },
 "nbformat": 4,
 "nbformat_minor": 2
}
