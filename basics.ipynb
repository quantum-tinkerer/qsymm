{
 "cells": [
  {
   "cell_type": "code",
   "execution_count": null,
   "metadata": {
    "extensions": {
     "jupyter_dashboards": {
      "version": 1,
      "views": {
       "grid_default": {
        "hidden": true
       },
       "report_default": {}
      }
     }
    }
   },
   "outputs": [],
   "source": [
    "import numpy as np\n",
    "import sympy\n",
    "sympy.init_printing(print_builtin=True)"
   ]
  },
  {
   "cell_type": "markdown",
   "metadata": {},
   "source": [
    "Import the package."
   ]
  },
  {
   "cell_type": "code",
   "execution_count": null,
   "metadata": {},
   "outputs": [],
   "source": [
    "import qsymm"
   ]
  },
  {
   "cell_type": "markdown",
   "metadata": {
    "extensions": {
     "jupyter_dashboards": {
      "version": 1,
      "views": {
       "grid_default": {
        "col": 0,
        "height": 4,
        "hidden": false,
        "row": 0,
        "width": 4
       },
       "report_default": {}
      }
     }
    }
   },
   "source": [
    "# Model class"
   ]
  },
  {
   "cell_type": "markdown",
   "metadata": {},
   "source": [
    "`Model` is an efficient way to store symbolic Hamiltonians. It supports initialization through `LaTeX`-like interface. Internally it stores the data as a dictionary of `{key: array}` where `key` is a `sympy` symbolic expression and `array` is a `numpy.ndarray`. It supports arythmetic operations with numbers, `sympy` expressions, `numpy.ndarrays` and other `Model` objects, among other useful functions."
   ]
  },
  {
   "cell_type": "markdown",
   "metadata": {},
   "source": [
    "Define 3D Rashba-Hamiltonian using a string."
   ]
  },
  {
   "cell_type": "code",
   "execution_count": null,
   "metadata": {
    "extensions": {
     "jupyter_dashboards": {
      "version": 1,
      "views": {
       "grid_default": {
        "col": 4,
        "height": 12,
        "hidden": false,
        "row": 0,
        "width": 4
       },
       "report_default": {}
      }
     }
    }
   },
   "outputs": [],
   "source": [
    "ham = (\"hbar^2 / (2 * m) * (k_x**2 + k_y**2 + k_z**2) * eye(2) +\" +\n",
    "        \"alpha * sigma_x * k_x + alpha * sigma_y * k_y + alpha * sigma_z * k_z\")"
   ]
  },
  {
   "cell_type": "markdown",
   "metadata": {},
   "source": [
    "Internally `qsymm.sympify` is used to parse the input."
   ]
  },
  {
   "cell_type": "code",
   "execution_count": null,
   "metadata": {},
   "outputs": [],
   "source": [
    "qsymm.sympify(ham)"
   ]
  },
  {
   "cell_type": "markdown",
   "metadata": {},
   "source": [
    "Define `Model` object."
   ]
  },
  {
   "cell_type": "code",
   "execution_count": null,
   "metadata": {},
   "outputs": [],
   "source": [
    "H = qsymm.Model(ham)"
   ]
  },
  {
   "cell_type": "markdown",
   "metadata": {},
   "source": [
    "We can inspect the content dictionary."
   ]
  },
  {
   "cell_type": "code",
   "execution_count": null,
   "metadata": {},
   "outputs": [],
   "source": [
    "H"
   ]
  },
  {
   "cell_type": "markdown",
   "metadata": {},
   "source": [
    "Transform `Model` to `sympy` representation."
   ]
  },
  {
   "cell_type": "code",
   "execution_count": null,
   "metadata": {},
   "outputs": [],
   "source": [
    "H.tosympy(nsimplify=True)"
   ]
  },
  {
   "cell_type": "markdown",
   "metadata": {},
   "source": [
    "`Model` has a `momenta` attribute, specifying which symbols are considered the momentum variables."
   ]
  },
  {
   "cell_type": "code",
   "execution_count": null,
   "metadata": {},
   "outputs": [],
   "source": [
    "H.momenta"
   ]
  },
  {
   "cell_type": "markdown",
   "metadata": {},
   "source": [
    "By default 3-dimensional space is assumed, to define 2-dimensional system with only `k_x` and `k_z` momentum variables, use:"
   ]
  },
  {
   "cell_type": "code",
   "execution_count": null,
   "metadata": {},
   "outputs": [],
   "source": [
    "ham2D = (\"hbar^2 / (2 * m) * (k_x**2 + k_z**2) * eye(2) +\" +\n",
    "        \"alpha * sigma_x * k_x + alpha * sigma_y * k_z\")\n",
    "H2D = qsymm.Model(ham2D, momenta=[0, 2])\n",
    "H2D.momenta"
   ]
  },
  {
   "cell_type": "markdown",
   "metadata": {
    "extensions": {
     "jupyter_dashboards": {
      "version": 1,
      "views": {
       "grid_default": {
        "col": 8,
        "height": 4,
        "hidden": false,
        "row": 0,
        "width": 4
       },
       "report_default": {}
      }
     }
    }
   },
   "source": [
    "# PointGroupElement class"
   ]
  },
  {
   "cell_type": "markdown",
   "metadata": {},
   "source": [
    "`PointGroupElement` is a class to store discrete symmetry operators. \n",
    "\n",
    "+ The first attribure `R` is the real space rotation action of the symmetry as an orthogonal matrix. As exact arithmetic is assumed, it must be provided either as an integer array or a `sympy` matrix.\n",
    "+ The second and third attributes are booleans, specifying whether the operator is antiunitary (such as time reversal or particle-hole) and whether it is an antisymmetry (such as particle-hole or chiral) respectively.\n",
    "+ The fourth attribute is optional, it defines the unitary action of the symmetry operator on the Hilbert-space. If not provided, it is treated unknown for symmetry finding purposes.\n",
    "\n",
    "It supports group multiplication, inversion and can be applied to `Model` objects to carry out the transformation."
   ]
  },
  {
   "cell_type": "markdown",
   "metadata": {},
   "source": [
    "As an example, define cubic point group by its generators (the unitary action is left unspecified)."
   ]
  },
  {
   "cell_type": "code",
   "execution_count": null,
   "metadata": {
    "extensions": {
     "jupyter_dashboards": {
      "version": 1,
      "views": {
       "grid_default": {
        "col": 0,
        "height": 4,
        "hidden": false,
        "row": 4,
        "width": 4
       },
       "report_default": {}
      }
     }
    }
   },
   "outputs": [],
   "source": [
    "# Identity\n",
    "E = qsymm.groups.identity(3)\n",
    "# Inversion\n",
    "I = qsymm.PointGroupElement(-np.eye(3))\n",
    "# 4-fold rotation\n",
    "C4 = qsymm.PointGroupElement(np.array([[1, 0, 0],\n",
    "                                       [0, 0, 1],\n",
    "                                       [0, -1, 0]]))\n",
    "# 3-fold rotation\n",
    "C3 = qsymm.PointGroupElement(np.array([[0, 0, 1],\n",
    "                                       [1, 0, 0],\n",
    "                                       [0, 1, 0]]))\n",
    "# Time reversal\n",
    "TR = qsymm.PointGroupElement(np.eye(3), conjugate=True)\n",
    "# Particle-hole\n",
    "PH = qsymm.PointGroupElement(np.eye(3), conjugate=True, antisymmetry=True)\n",
    "\n",
    "cubic_gens = {I, C4, C3, TR, PH}"
   ]
  },
  {
   "cell_type": "markdown",
   "metadata": {},
   "source": [
    "`qsymm.groups` offers a variety of methods to interact with sets of `PointGroupElement` objects. Here we use `generate_group` to generate the full group from the generators."
   ]
  },
  {
   "cell_type": "code",
   "execution_count": null,
   "metadata": {},
   "outputs": [],
   "source": [
    "cubic_group = qsymm.groups.generate_group(cubic_gens)\n",
    "print(len(cubic_group))"
   ]
  },
  {
   "cell_type": "markdown",
   "metadata": {},
   "source": [
    "Can also get the cubic group directly."
   ]
  },
  {
   "cell_type": "code",
   "execution_count": null,
   "metadata": {
    "extensions": {
     "jupyter_dashboards": {
      "version": 1,
      "views": {
       "grid_default": {
        "hidden": true
       },
       "report_default": {}
      }
     }
    }
   },
   "outputs": [],
   "source": [
    "cubic_group = qsymm.groups.cubic()"
   ]
  },
  {
   "cell_type": "markdown",
   "metadata": {},
   "source": [
    "PointGroupElements can be multiplied, inverted and be applied to Models"
   ]
  },
  {
   "cell_type": "code",
   "execution_count": null,
   "metadata": {
    "extensions": {
     "jupyter_dashboards": {
      "version": 1,
      "views": {
       "grid_default": {
        "col": 8,
        "height": 6,
        "hidden": false,
        "row": 4,
        "width": 4
       },
       "report_default": {}
      }
     }
    }
   },
   "outputs": [],
   "source": [
    "C3 * C4"
   ]
  },
  {
   "cell_type": "code",
   "execution_count": null,
   "metadata": {
    "extensions": {
     "jupyter_dashboards": {
      "version": 1,
      "views": {
       "grid_default": {
        "col": 0,
        "height": 6,
        "hidden": false,
        "row": 8,
        "width": 4
       },
       "report_default": {}
      }
     }
    }
   },
   "outputs": [],
   "source": [
    "C3**-1"
   ]
  },
  {
   "cell_type": "code",
   "execution_count": null,
   "metadata": {
    "extensions": {
     "jupyter_dashboards": {
      "version": 1,
      "views": {
       "grid_default": {
        "col": 8,
        "height": 15,
        "hidden": false,
        "row": 10,
        "width": 4
       },
       "report_default": {}
      }
     }
    }
   },
   "outputs": [],
   "source": [
    "TR.apply(H)"
   ]
  },
  {
   "cell_type": "markdown",
   "metadata": {
    "extensions": {
     "jupyter_dashboards": {
      "version": 1,
      "views": {
       "grid_default": {
        "col": 8,
        "height": 4,
        "hidden": false,
        "row": 0,
        "width": 4
       },
       "report_default": {}
      }
     }
    }
   },
   "source": [
    "# ContinuousGroupGenerator class"
   ]
  },
  {
   "cell_type": "markdown",
   "metadata": {},
   "source": [
    "`ContinuousGroupGenerator` is a class to store continuous symmetry generators, such as local conserved quantities or continuous spatial rotations.\n",
    "\n",
    "+ The first attribure `R` is the real space rotation generator of the symmetry as an antisymmetric imaginary matrix. Default is zero.\n",
    "+ The second attribute the generator of the unitary action of the symmetry operator on the Hilbert-space as a Hermitian matrix. Default is zero."
   ]
  },
  {
   "cell_type": "markdown",
   "metadata": {},
   "source": [
    "As an example, let us define spin-z conservation:"
   ]
  },
  {
   "cell_type": "code",
   "execution_count": null,
   "metadata": {},
   "outputs": [],
   "source": [
    "sz = qsymm.ContinuousGroupGenerator(None, np.array([[1, 0], [0, -1]]))\n",
    "sz"
   ]
  },
  {
   "cell_type": "markdown",
   "metadata": {},
   "source": [
    "Applying it to a `Model` calculates the commutator. Spin-z is not conserved in `H`, as the commutator is nonzero."
   ]
  },
  {
   "cell_type": "code",
   "execution_count": null,
   "metadata": {},
   "outputs": [],
   "source": [
    "sz.apply(H)"
   ]
  },
  {
   "cell_type": "markdown",
   "metadata": {},
   "source": [
    "# Symmetry finder"
   ]
  },
  {
   "cell_type": "markdown",
   "metadata": {},
   "source": [
    "The symmetry finding routines can be accessed through `qsymm.symmetries`. For example let us find out whether the 3D Rashba Hamiltonian defined earlier has cubic group symmetry."
   ]
  },
  {
   "cell_type": "code",
   "execution_count": null,
   "metadata": {},
   "outputs": [],
   "source": [
    "discrete_symm, continuous_symm = qsymm.symmetries(H, cubic_group)\n",
    "print(len(discrete_symm), len(continuous_symm))"
   ]
  },
  {
   "cell_type": "markdown",
   "metadata": {},
   "source": [
    "It has 48 discrete symmetries (cubic group without inversion and time-reversal) and no conserved quantities.\n",
    "\n",
    "For more detailed examples see [`symmetry_finder.ipynb`](symmetry_finder.ipynb) and [`kekule.ipynb`](kekule.ipynb)."
   ]
  },
  {
   "cell_type": "code",
   "execution_count": null,
   "metadata": {},
   "outputs": [],
   "source": [
    "discrete_symm[:5]"
   ]
  },
  {
   "cell_type": "markdown",
   "metadata": {},
   "source": [
    "# Hamiltonian generator"
   ]
  },
  {
   "cell_type": "markdown",
   "metadata": {},
   "source": [
    "The hamiltonian generator algorithms can be accessed through `qsymm.continuum_hamiltonian` and `qsymm.bloch_family`.\n",
    "\n",
    "For example let us generate all 2-band k.p Hamiltonians with the previously found group."
   ]
  },
  {
   "cell_type": "code",
   "execution_count": null,
   "metadata": {},
   "outputs": [],
   "source": [
    "family = qsymm.continuum_hamiltonian(discrete_symm, dim=3, total_power=2, prettify=True)\n",
    "qsymm.display_family(family)"
   ]
  },
  {
   "cell_type": "markdown",
   "metadata": {},
   "source": [
    "It is exactly the Hamiltonian family we started with.\n",
    "\n",
    "For more detailed examples see [`kdotp_generator.ipynb`](kdotp_generator.ipynb), [`bloch_generator.ipynb`](bloch_generator.ipynb) and [`kekule.ipynb`](kekule.ipynb)."
   ]
  }
 ],
 "metadata": {
  "extensions": {
   "jupyter_dashboards": {
    "activeView": "grid_default",
    "version": 1,
    "views": {
     "grid_default": {
      "cellMargin": 10,
      "defaultCellHeight": 20,
      "maxColumns": 12,
      "name": "grid",
      "type": "grid"
     },
     "report_default": {
      "name": "report",
      "type": "report"
     }
    }
   }
  },
  "kernelspec": {
   "display_name": "Python 3",
   "language": "python",
   "name": "python3"
  },
  "language_info": {
   "codemirror_mode": {
    "name": "ipython",
    "version": 3
   },
   "file_extension": ".py",
   "mimetype": "text/x-python",
   "name": "python",
   "nbconvert_exporter": "python",
   "pygments_lexer": "ipython3",
   "version": "3.6.6"
  }
 },
 "nbformat": 4,
 "nbformat_minor": 2
}
