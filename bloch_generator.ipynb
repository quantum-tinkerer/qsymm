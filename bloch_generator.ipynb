{
 "cells": [
  {
   "cell_type": "code",
   "execution_count": 1,
   "metadata": {},
   "outputs": [],
   "source": [
    "import numpy as np\n",
    "import sympy\n",
    "from collections import OrderedDict\n",
    "\n",
    "sympy.init_printing(print_builtin=True)"
   ]
  },
  {
   "cell_type": "code",
   "execution_count": 2,
   "metadata": {},
   "outputs": [],
   "source": [
    "import qsymm"
   ]
  },
  {
   "cell_type": "markdown",
   "metadata": {},
   "source": [
    "# Graphene"
   ]
  },
  {
   "cell_type": "markdown",
   "metadata": {},
   "source": [
    "We use the Hamiltonian generator to reproduce the spinless nearest neighbour tight binding Hamiltonian for graphene.\n",
    "\n",
    "The generators of the symmetry group are time-reversal symmetry, sublattice (or chiral) symmetry, and threefold rotation symmetry."
   ]
  },
  {
   "cell_type": "code",
   "execution_count": 3,
   "metadata": {},
   "outputs": [],
   "source": [
    "# Time reversal\n",
    "TR = qsymm.PointGroupElement(sympy.eye(2), True, False, np.eye(2))\n",
    "\n",
    "# Chiral symmetry\n",
    "C = qsymm.PointGroupElement(sympy.eye(2), False, True, np.array([[1, 0], [0, -1]]))\n",
    "\n",
    "# Atom A rotates into A, B into B.\n",
    "sphi = 2*sympy.pi/3\n",
    "RC3 = sympy.Matrix([[sympy.cos(sphi), -sympy.sin(sphi)],\n",
    "                  [sympy.sin(sphi), sympy.cos(sphi)]])\n",
    "C3 = qsymm.PointGroupElement(RC3, False, False, np.eye(2))\n",
    "\n",
    "symmetries = [C, TR, C3]"
   ]
  },
  {
   "cell_type": "markdown",
   "metadata": {},
   "source": [
    "There are two carbon atoms per unit cell (A and B) with one orbital each. The lattice is triangular, and only includes hoppings between nearest neighbour atoms. This restricts hoppings to only those between atoms of different types, such that each atom couples to three neighbouring atoms. Using the symmetrization strategy to generate the Hamiltonian, it is sufficient to specify hoppings to one such neighbour along with the symmetry generators, and we take the vector $(1, 0)$ to connect this neighbouring pair of atoms."
   ]
  },
  {
   "cell_type": "code",
   "execution_count": 42,
   "metadata": {},
   "outputs": [],
   "source": [
    "norbs = OrderedDict({'A': 1, 'B': 1})  # A and B atom per unit cell, one orbital each\n",
    "hopping_vectors = [('A', 'B', [0, 1])] # Hopping between neighbouring A and B atoms"
   ]
  },
  {
   "cell_type": "markdown",
   "metadata": {},
   "source": [
    "Generate the Hamiltonian."
   ]
  },
  {
   "cell_type": "code",
   "execution_count": 43,
   "metadata": {},
   "outputs": [],
   "source": [
    "family = qsymm.bloch_family(hopping_vectors, symmetries, norbs)"
   ]
  },
  {
   "cell_type": "code",
   "execution_count": 44,
   "metadata": {},
   "outputs": [
    {
     "data": {
      "image/png": "[encoded data removed]",
      "text/latex": [
       "$$\\left[\\begin{matrix}0 & e^{i k_{y}} + e^{- \\frac{\\sqrt{3} i k_{x}}{2} - \\frac{i k_{y}}{2}} + e^{\\frac{\\sqrt{3} i k_{x}}{2} - \\frac{i k_{y}}{2}}\\\\e^{- \\frac{\\sqrt{3} i k_{x}}{2} + \\frac{i k_{y}}{2}} + e^{\\frac{\\sqrt{3} i k_{x}}{2} + \\frac{i k_{y}}{2}} + e^{- i k_{y}} & 0\\end{matrix}\\right]$$"
      ],
      "text/plain": [
       "⎡                                                             √3⋅ⅈ⋅kₓ   ⅈ⋅k_y \n",
       "⎢                                                           - ─────── - ───── \n",
       "⎢                                                  ⅈ⋅k_y         2        2   \n",
       "⎢                       0                         e      + e                  \n",
       "⎢                                                                             \n",
       "⎢   √3⋅ⅈ⋅kₓ   ⅈ⋅k_y    √3⋅ⅈ⋅kₓ   ⅈ⋅k_y                                        \n",
       "⎢ - ─────── + ─────    ─────── + ─────                                        \n",
       "⎢      2        2         2        2      -ⅈ⋅k_y                              \n",
       "⎣e                  + e                + e                              0     \n",
       "\n",
       "   √3⋅ⅈ⋅kₓ   ⅈ⋅k_y⎤\n",
       "   ─────── - ─────⎥\n",
       "      2        2  ⎥\n",
       "+ e               ⎥\n",
       "                  ⎥\n",
       "                  ⎥\n",
       "                  ⎥\n",
       "                  ⎥\n",
       "                  ⎦"
      ]
     },
     "metadata": {},
     "output_type": "display_data"
    }
   ],
   "source": [
    "qsymm.display_family(family)"
   ]
  },
  {
   "cell_type": "markdown",
   "metadata": {},
   "source": [
    "Scale the bond length in terms of the graphene lattice constant, and have the function return a list of BlochModel objects."
   ]
  },
  {
   "cell_type": "code",
   "execution_count": 48,
   "metadata": {},
   "outputs": [],
   "source": [
    "hopping_vectors = [('A', 'B', [0, 1/np.sqrt(3)])] # Hopping between neighbouring A and B atoms"
   ]
  },
  {
   "cell_type": "code",
   "execution_count": 49,
   "metadata": {},
   "outputs": [],
   "source": [
    "family = qsymm.bloch_family(hopping_vectors, symmetries, norbs, bloch_model=True)"
   ]
  },
  {
   "cell_type": "code",
   "execution_count": 50,
   "metadata": {},
   "outputs": [
    {
     "data": {
      "image/png": "[encoded data removed]",
      "text/latex": [
       "$$\\left[\\begin{matrix}0 & e^{\\frac{\\sqrt{3} i k_{y}}{3}} + e^{- \\frac{i k_{x}}{2} - \\frac{\\sqrt{3} i k_{y}}{6}} + e^{\\frac{i k_{x}}{2} - \\frac{\\sqrt{3} i k_{y}}{6}}\\\\e^{- \\frac{i k_{x}}{2} + \\frac{\\sqrt{3} i k_{y}}{6}} + e^{\\frac{i k_{x}}{2} + \\frac{\\sqrt{3} i k_{y}}{6}} + e^{- \\frac{\\sqrt{3} i k_{y}}{3}} & 0\\end{matrix}\\right]$$"
      ],
      "text/plain": [
       "⎡                                                      √3⋅ⅈ⋅k_y      ⅈ⋅kₓ   √3\n",
       "⎢                                                      ────────    - ──── - ──\n",
       "⎢                                                         3           2       \n",
       "⎢                         0                           e         + e           \n",
       "⎢                                                                             \n",
       "⎢   ⅈ⋅kₓ   √3⋅ⅈ⋅k_y    ⅈ⋅kₓ   √3⋅ⅈ⋅k_y    -√3⋅ⅈ⋅k_y                           \n",
       "⎢ - ──── + ────────    ──── + ────────    ──────────                          \n",
       "⎢    2        6         2        6            3                               \n",
       "⎣e                  + e                + e                                    \n",
       "\n",
       "⋅ⅈ⋅k_y    ⅈ⋅kₓ   √3⋅ⅈ⋅k_y⎤\n",
       "──────    ──── - ────────⎥\n",
       " 6         2        6    ⎥\n",
       "       + e               ⎥\n",
       "                         ⎥\n",
       "                         ⎥\n",
       "                         ⎥\n",
       "                         ⎥\n",
       "0                        ⎦"
      ]
     },
     "metadata": {},
     "output_type": "display_data"
    }
   ],
   "source": [
    "qsymm.display_family(family)"
   ]
  },
  {
   "cell_type": "markdown",
   "metadata": {},
   "source": [
    "# Three-orbital tight binding model for monolayer MX$_2$"
   ]
  },
  {
   "cell_type": "markdown",
   "metadata": {},
   "source": [
    "We use the Hamiltonian generator to reproduce the tight binding model for monolayer MX$_2$ published in Phys. Rev. B 88, 085433 (2013).\n",
    "\n",
    "The generators of the symmetry group of the tight binding model are time reversal symmetry, mirror symmetry and threefold rotation symmetry."
   ]
  },
  {
   "cell_type": "code",
   "execution_count": 51,
   "metadata": {},
   "outputs": [],
   "source": [
    "# Time reversal\n",
    "TR = qsymm.PointGroupElement(sympy.eye(2), True, False, np.eye(3))\n",
    "\n",
    "# Mirror symmetry \n",
    "Mx = qsymm.PointGroupElement(sympy.Matrix([[-1, 0], [0, 1]]), False, False, np.diag([1, -1, 1]))\n",
    "\n",
    "# Threefold rotation on d_z^2, d_xy, d_x^2-y^2 states.\n",
    "C3U = np.array([[1, 0, 0],\n",
    "                 [0, -0.5, -np.sqrt(3)/2],\n",
    "                 [0, np.sqrt(3)/2, -0.5]])\n",
    "# Could also use the predefined representation of rotations on d-orbitals\n",
    "Ld = qsymm.groups.L_matrices(3, 2)\n",
    "C3U2 = qsymm.groups.spin_rotation(2 * np.pi * np.array([0, 0, 1/3]), Ld)\n",
    "# Restrict to d_z^2, d_xy, d_x^2-y^2 states\n",
    "mask = np.array([1, 2 ,0])\n",
    "C3U2 = C3U2[mask][:, mask]\n",
    "assert np.allclose(C3U, C3U2)\n",
    "\n",
    "# The spatial part of the symmetry must be provided as a symbolic matrix\n",
    "# or an integer array\n",
    "sphi = 2*sympy.pi/3\n",
    "C3R = sympy.Matrix([[sympy.cos(sphi), -sympy.sin(sphi)],\n",
    "                     [sympy.sin(sphi), sympy.cos(sphi)]])\n",
    "C3 = qsymm.PointGroupElement(C3R, False, False, C3U)\n",
    "\n",
    "symmetries = [TR, Mx, C3]"
   ]
  },
  {
   "cell_type": "markdown",
   "metadata": {},
   "source": [
    "Next, we specify the hoppings to include. The tight binding model has a triangular lattice, three orbitals per M atom, and nearest neighbour hopping."
   ]
  },
  {
   "cell_type": "code",
   "execution_count": 52,
   "metadata": {},
   "outputs": [],
   "source": [
    "# One site per unit cell (M atom), with three orbitals\n",
    "norbs = OrderedDict({'a': 3})"
   ]
  },
  {
   "cell_type": "markdown",
   "metadata": {},
   "source": [
    "Each atom has six nearest neighbour atoms at a distance of one primitive lattice vector. Since we use the symmetrization strategy to generate the Hamiltonian, it is sufficient to specify a hopping to one nearest neighbour atom along with the symmetry generators. We take the primitive vector connecting the pair of atoms to be $(1, 0)$."
   ]
  },
  {
   "cell_type": "code",
   "execution_count": 65,
   "metadata": {},
   "outputs": [],
   "source": [
    "# Hopping to a neighbouring atom one primitive lattice vector away\n",
    "hopping_vectors = [('a', 'a', [1, 0])]"
   ]
  },
  {
   "cell_type": "markdown",
   "metadata": {},
   "source": [
    "Generate the tight binding Hamiltonian."
   ]
  },
  {
   "cell_type": "code",
   "execution_count": 66,
   "metadata": {},
   "outputs": [],
   "source": [
    "family = qsymm.bloch_family(hopping_vectors, symmetries, norbs)"
   ]
  },
  {
   "cell_type": "markdown",
   "metadata": {},
   "source": [
    "The Hamiltonian family should include 8 linearly independent components, including the onsite terms."
   ]
  },
  {
   "cell_type": "code",
   "execution_count": 67,
   "metadata": {},
   "outputs": [
    {
     "data": {
      "image/png": "[encoded data removed]",
      "text/latex": [
       "$$8$$"
      ],
      "text/plain": [
       "8"
      ]
     },
     "execution_count": 67,
     "metadata": {},
     "output_type": "execute_result"
    }
   ],
   "source": [
    "len(family)"
   ]
  },
  {
   "cell_type": "code",
   "execution_count": 68,
   "metadata": {
    "scrolled": false
   },
   "outputs": [
    {
     "data": {
      "image/png": "[encoded data removed]",
      "text/latex": [
       "$$\\left[\\begin{matrix}1 & 0 & 0\\\\0 & 0 & 0\\\\0 & 0 & 0\\end{matrix}\\right]$$"
      ],
      "text/plain": [
       "⎡1  0  0⎤\n",
       "⎢       ⎥\n",
       "⎢0  0  0⎥\n",
       "⎢       ⎥\n",
       "⎣0  0  0⎦"
      ]
     },
     "metadata": {},
     "output_type": "display_data"
    },
    {
     "data": {
      "image/png": "[encoded data removed]",
      "text/latex": [
       "$$\\left[\\begin{matrix}0 & 0 & 0\\\\0 & 1 & 0\\\\0 & 0 & 1\\end{matrix}\\right]$$"
      ],
      "text/plain": [
       "⎡0  0  0⎤\n",
       "⎢       ⎥\n",
       "⎢0  1  0⎥\n",
       "⎢       ⎥\n",
       "⎣0  0  1⎦"
      ]
     },
     "metadata": {},
     "output_type": "display_data"
    },
    {
     "data": {
      "image/png": "[encoded data removed]",
      "text/latex": [
       "$$\\left[\\begin{matrix}e^{i k_{x}} + e^{- \\frac{i k_{x}}{2} - \\frac{\\sqrt{3} i k_{y}}{2}} + e^{- \\frac{i k_{x}}{2} + \\frac{\\sqrt{3} i k_{y}}{2}} + e^{\\frac{i k_{x}}{2} - \\frac{\\sqrt{3} i k_{y}}{2}} + e^{\\frac{i k_{x}}{2} + \\frac{\\sqrt{3} i k_{y}}{2}} + e^{- i k_{x}} & 0 & 0\\\\0 & 0 & 0\\\\0 & 0 & 0\\end{matrix}\\right]$$"
      ],
      "text/plain": [
       "⎡           ⅈ⋅kₓ   √3⋅ⅈ⋅k_y      ⅈ⋅kₓ   √3⋅ⅈ⋅k_y    ⅈ⋅kₓ   √3⋅ⅈ⋅k_y    ⅈ⋅kₓ   \n",
       "⎢         - ──── - ────────    - ──── + ────────    ──── - ────────    ──── + \n",
       "⎢ ⅈ⋅kₓ       2        2           2        2         2        2         2     \n",
       "⎢e     + e                  + e                  + e                + e       \n",
       "⎢                                                                             \n",
       "⎢                                              0                              \n",
       "⎢                                                                             \n",
       "⎣                                              0                              \n",
       "\n",
       "√3⋅ⅈ⋅k_y               ⎤\n",
       "────────               ⎥\n",
       "   2        -ⅈ⋅kₓ      ⎥\n",
       "         + e       0  0⎥\n",
       "                       ⎥\n",
       "                   0  0⎥\n",
       "                       ⎥\n",
       "                   0  0⎦"
      ]
     },
     "metadata": {},
     "output_type": "display_data"
    },
    {
     "data": {
      "image/png": "[encoded data removed]",
      "text/latex": [
       "$$\\left[\\begin{matrix}0 & - \\frac{e^{i k_{x}}}{2} - \\frac{e^{- \\frac{i k_{x}}{2} - \\frac{\\sqrt{3} i k_{y}}{2}}}{2} + e^{- \\frac{i k_{x}}{2} + \\frac{\\sqrt{3} i k_{y}}{2}} + \\frac{e^{\\frac{i k_{x}}{2} - \\frac{\\sqrt{3} i k_{y}}{2}}}{2} - e^{\\frac{i k_{x}}{2} + \\frac{\\sqrt{3} i k_{y}}{2}} + \\frac{e^{- i k_{x}}}{2} & - \\frac{\\sqrt{3} e^{i k_{x}}}{2} + \\frac{\\sqrt{3} e^{- \\frac{i k_{x}}{2} - \\frac{\\sqrt{3} i k_{y}}{2}}}{2} + \\frac{\\sqrt{3} e^{\\frac{i k_{x}}{2} - \\frac{\\sqrt{3} i k_{y}}{2}}}{2} - \\frac{\\sqrt{3} e^{- i k_{x}}}{2}\\\\\\frac{e^{i k_{x}}}{2} - e^{- \\frac{i k_{x}}{2} - \\frac{\\sqrt{3} i k_{y}}{2}} + \\frac{e^{- \\frac{i k_{x}}{2} + \\frac{\\sqrt{3} i k_{y}}{2}}}{2} + e^{\\frac{i k_{x}}{2} - \\frac{\\sqrt{3} i k_{y}}{2}} - \\frac{e^{\\frac{i k_{x}}{2} + \\frac{\\sqrt{3} i k_{y}}{2}}}{2} - \\frac{e^{- i k_{x}}}{2} & 0 & 0\\\\- \\frac{\\sqrt{3} e^{i k_{x}}}{2} + \\frac{\\sqrt{3} e^{- \\frac{i k_{x}}{2} + \\frac{\\sqrt{3} i k_{y}}{2}}}{2} + \\frac{\\sqrt{3} e^{\\frac{i k_{x}}{2} + \\frac{\\sqrt{3} i k_{y}}{2}}}{2} - \\frac{\\sqrt{3} e^{- i k_{x}}}{2} & 0 & 0\\end{matrix}\\right]$$"
      ],
      "text/plain": [
       "⎡                                                                             \n",
       "⎢                                                                             \n",
       "⎢                                                                             \n",
       "⎢                                                                             \n",
       "⎢                                              0                              \n",
       "⎢                                                                             \n",
       "⎢                                                                             \n",
       "⎢                                ⅈ⋅kₓ   √3⋅ⅈ⋅k_y                       ⅈ⋅kₓ   \n",
       "⎢           ⅈ⋅kₓ   √3⋅ⅈ⋅k_y    - ──── + ────────    ⅈ⋅kₓ   √3⋅ⅈ⋅k_y    ──── + \n",
       "⎢ ⅈ⋅kₓ    - ──── - ────────       2        2        ──── - ────────     2     \n",
       "⎢e           2        2       e                      2        2       e       \n",
       "⎢───── - e                  + ────────────────── + e                - ────────\n",
       "⎢  2                                  2                                      2\n",
       "⎢                                                                             \n",
       "⎢                                ⅈ⋅kₓ   √3⋅ⅈ⋅k_y       ⅈ⋅kₓ   √3⋅ⅈ⋅k_y        \n",
       "⎢                              - ──── + ────────       ──── + ────────        \n",
       "⎢                   ⅈ⋅kₓ          2        2            2        2           -\n",
       "⎢               √3⋅e       √3⋅e                    √3⋅e                  √3⋅e \n",
       "⎢             - ──────── + ───────────────────── + ─────────────────── - ─────\n",
       "⎣                  2                 2                      2                2\n",
       "\n",
       "                                ⅈ⋅kₓ   √3⋅ⅈ⋅k_y                         ⅈ⋅kₓ  \n",
       "                              - ──── - ────────      ⅈ⋅kₓ   √3⋅ⅈ⋅k_y    ──── -\n",
       "                      ⅈ⋅kₓ       2        2        - ──── + ────────     2    \n",
       "                     e       e                        2        2       e      \n",
       "                   - ───── - ────────────────── + e                  + ───────\n",
       "                       2             2                                        \n",
       "                                                                              \n",
       "√3⋅ⅈ⋅k_y                                                                      \n",
       "────────                                                                      \n",
       "   2        -ⅈ⋅kₓ                                                             \n",
       "           e                                                                  \n",
       "──────── - ──────                                                 0           \n",
       "             2                                                                \n",
       "                                                                              \n",
       "                                                                              \n",
       "                                                                              \n",
       "ⅈ⋅kₓ                                                                          \n",
       "                                                                              \n",
       "────                                                              0           \n",
       "                                                                              \n",
       "\n",
       " √3⋅ⅈ⋅k_y                                                 ⅈ⋅kₓ   √3⋅ⅈ⋅k_y     \n",
       " ────────    ⅈ⋅kₓ   √3⋅ⅈ⋅k_y                            - ──── - ────────     \n",
       "    2        ──── + ────────    -ⅈ⋅kₓ        ⅈ⋅kₓ          2        2         \n",
       "              2        2       e         √3⋅e       √3⋅e                    √3\n",
       "───────── - e                + ──────  - ──────── + ───────────────────── + ──\n",
       "2                                2          2                 2               \n",
       "                                                                              \n",
       "                                                                              \n",
       "                                                                              \n",
       "                                                                              \n",
       "                                                                              \n",
       "                                                                        0     \n",
       "                                                                              \n",
       "                                                                              \n",
       "                                                                              \n",
       "                                                                              \n",
       "                                                                              \n",
       "                                                                              \n",
       "                                                                        0     \n",
       "                                                                              \n",
       "\n",
       "  ⅈ⋅kₓ   √3⋅ⅈ⋅k_y            ⎤\n",
       "  ──── - ────────            ⎥\n",
       "   2        2           -ⅈ⋅kₓ⎥\n",
       "⋅e                  √3⋅e     ⎥\n",
       "───────────────── - ─────────⎥\n",
       "       2                2    ⎥\n",
       "                             ⎥\n",
       "                             ⎥\n",
       "                             ⎥\n",
       "                             ⎥\n",
       "                             ⎥\n",
       "                             ⎥\n",
       "                             ⎥\n",
       "                             ⎥\n",
       "                             ⎥\n",
       "                             ⎥\n",
       "                             ⎥\n",
       "                             ⎥\n",
       "                             ⎥\n",
       "                             ⎦"
      ]
     },
     "metadata": {},
     "output_type": "display_data"
    },
    {
     "data": {
      "image/png": "[encoded data removed]",
      "text/latex": [
       "$$\\left[\\begin{matrix}0 & \\frac{\\sqrt{3} e^{i k_{x}}}{2} - \\frac{\\sqrt{3} e^{- \\frac{i k_{x}}{2} - \\frac{\\sqrt{3} i k_{y}}{2}}}{2} + \\frac{\\sqrt{3} e^{\\frac{i k_{x}}{2} - \\frac{\\sqrt{3} i k_{y}}{2}}}{2} - \\frac{\\sqrt{3} e^{- i k_{x}}}{2} & - \\frac{e^{i k_{x}}}{2} - \\frac{e^{- \\frac{i k_{x}}{2} - \\frac{\\sqrt{3} i k_{y}}{2}}}{2} + e^{- \\frac{i k_{x}}{2} + \\frac{\\sqrt{3} i k_{y}}{2}} - \\frac{e^{\\frac{i k_{x}}{2} - \\frac{\\sqrt{3} i k_{y}}{2}}}{2} + e^{\\frac{i k_{x}}{2} + \\frac{\\sqrt{3} i k_{y}}{2}} - \\frac{e^{- i k_{x}}}{2}\\\\- \\frac{\\sqrt{3} e^{i k_{x}}}{2} + \\frac{\\sqrt{3} e^{- \\frac{i k_{x}}{2} + \\frac{\\sqrt{3} i k_{y}}{2}}}{2} - \\frac{\\sqrt{3} e^{\\frac{i k_{x}}{2} + \\frac{\\sqrt{3} i k_{y}}{2}}}{2} + \\frac{\\sqrt{3} e^{- i k_{x}}}{2} & 0 & 0\\\\- \\frac{e^{i k_{x}}}{2} + e^{- \\frac{i k_{x}}{2} - \\frac{\\sqrt{3} i k_{y}}{2}} - \\frac{e^{- \\frac{i k_{x}}{2} + \\frac{\\sqrt{3} i k_{y}}{2}}}{2} + e^{\\frac{i k_{x}}{2} - \\frac{\\sqrt{3} i k_{y}}{2}} - \\frac{e^{\\frac{i k_{x}}{2} + \\frac{\\sqrt{3} i k_{y}}{2}}}{2} - \\frac{e^{- i k_{x}}}{2} & 0 & 0\\end{matrix}\\right]$$"
      ],
      "text/plain": [
       "⎡                                                                             \n",
       "⎢                                                                             \n",
       "⎢                                                                             \n",
       "⎢                                                                             \n",
       "⎢                                               0                             \n",
       "⎢                                                                             \n",
       "⎢                                                                             \n",
       "⎢                                 ⅈ⋅kₓ   √3⋅ⅈ⋅k_y       ⅈ⋅kₓ   √3⋅ⅈ⋅k_y       \n",
       "⎢                               - ──── + ────────       ──── + ────────       \n",
       "⎢                    ⅈ⋅kₓ          2        2            2        2           \n",
       "⎢                √3⋅e       √3⋅e                    √3⋅e                  √3⋅e\n",
       "⎢              - ──────── + ───────────────────── - ─────────────────── + ────\n",
       "⎢                   2                 2                      2                \n",
       "⎢                                                                             \n",
       "⎢                                  ⅈ⋅kₓ   √3⋅ⅈ⋅k_y                       ⅈ⋅kₓ \n",
       "⎢             ⅈ⋅kₓ   √3⋅ⅈ⋅k_y    - ──── + ────────    ⅈ⋅kₓ   √3⋅ⅈ⋅k_y    ──── \n",
       "⎢   ⅈ⋅kₓ    - ──── - ────────       2        2        ──── - ────────     2   \n",
       "⎢  e           2        2       e                      2        2       e     \n",
       "⎢- ───── + e                  - ────────────────── + e                - ──────\n",
       "⎣    2                                  2                                     \n",
       "\n",
       "                                      ⅈ⋅kₓ   √3⋅ⅈ⋅k_y       ⅈ⋅kₓ   √3⋅ⅈ⋅k_y   \n",
       "                                    - ──── - ────────       ──── - ────────   \n",
       "                         ⅈ⋅kₓ          2        2            2        2       \n",
       "                     √3⋅e       √3⋅e                    √3⋅e                  \n",
       "                     ──────── - ───────────────────── + ─────────────────── - \n",
       "                        2                 2                      2            \n",
       "                                                                              \n",
       "                                                                              \n",
       "                                                                              \n",
       "-ⅈ⋅kₓ                                                                         \n",
       "                                                                              \n",
       "─────                                                0                        \n",
       "2                                                                             \n",
       "                                                                              \n",
       "  √3⋅ⅈ⋅k_y                                                                    \n",
       "+ ────────                                                                    \n",
       "     2        -ⅈ⋅kₓ                                                           \n",
       "             e                                                                \n",
       "────────── - ──────                                  0                        \n",
       " 2             2                                                              \n",
       "\n",
       "                        ⅈ⋅kₓ   √3⋅ⅈ⋅k_y                         ⅈ⋅kₓ   √3⋅ⅈ⋅k_\n",
       "                      - ──── - ────────      ⅈ⋅kₓ   √3⋅ⅈ⋅k_y    ──── - ───────\n",
       "    -ⅈ⋅kₓ     ⅈ⋅kₓ       2        2        - ──── + ────────     2        2   \n",
       "√3⋅e         e       e                        2        2       e              \n",
       "─────────  - ───── - ────────────────── + e                  - ───────────────\n",
       "    2          2             2                                        2       \n",
       "                                                                              \n",
       "                                                                              \n",
       "                                                                              \n",
       "                                                                              \n",
       "                                                                              \n",
       "                                                          0                   \n",
       "                                                                              \n",
       "                                                                              \n",
       "                                                                              \n",
       "                                                                              \n",
       "                                                                              \n",
       "                                                                              \n",
       "                                                          0                   \n",
       "                                                                              \n",
       "\n",
       "y                            ⎤\n",
       "─    ⅈ⋅kₓ   √3⋅ⅈ⋅k_y         ⎥\n",
       "     ──── + ────────    -ⅈ⋅kₓ⎥\n",
       "      2        2       e     ⎥\n",
       "─ + e                - ──────⎥\n",
       "                         2   ⎥\n",
       "                             ⎥\n",
       "                             ⎥\n",
       "                             ⎥\n",
       "                             ⎥\n",
       "                             ⎥\n",
       "                             ⎥\n",
       "                             ⎥\n",
       "                             ⎥\n",
       "                             ⎥\n",
       "                             ⎥\n",
       "                             ⎥\n",
       "                             ⎥\n",
       "                             ⎥\n",
       "                             ⎦"
      ]
     },
     "metadata": {},
     "output_type": "display_data"
    },
    {
     "data": {
      "image/png": "[encoded data removed]",
      "text/latex": [
       "$$\\left[\\begin{matrix}0 & 0 & 0\\\\0 & e^{i k_{x}} + e^{- \\frac{i k_{x}}{2} - \\frac{\\sqrt{3} i k_{y}}{2}} + e^{- \\frac{i k_{x}}{2} + \\frac{\\sqrt{3} i k_{y}}{2}} + e^{\\frac{i k_{x}}{2} - \\frac{\\sqrt{3} i k_{y}}{2}} + e^{\\frac{i k_{x}}{2} + \\frac{\\sqrt{3} i k_{y}}{2}} + e^{- i k_{x}} & 0\\\\0 & 0 & e^{i k_{x}} + e^{- \\frac{i k_{x}}{2} - \\frac{\\sqrt{3} i k_{y}}{2}} + e^{- \\frac{i k_{x}}{2} + \\frac{\\sqrt{3} i k_{y}}{2}} + e^{\\frac{i k_{x}}{2} - \\frac{\\sqrt{3} i k_{y}}{2}} + e^{\\frac{i k_{x}}{2} + \\frac{\\sqrt{3} i k_{y}}{2}} + e^{- i k_{x}}\\end{matrix}\\right]$$"
      ],
      "text/plain": [
       "⎡0                                                0                           \n",
       "⎢                                                                             \n",
       "⎢              ⅈ⋅kₓ   √3⋅ⅈ⋅k_y      ⅈ⋅kₓ   √3⋅ⅈ⋅k_y    ⅈ⋅kₓ   √3⋅ⅈ⋅k_y    ⅈ⋅kₓ\n",
       "⎢            - ──── - ────────    - ──── + ────────    ──── - ────────    ────\n",
       "⎢    ⅈ⋅kₓ       2        2           2        2         2        2         2  \n",
       "⎢0  e     + e                  + e                  + e                + e    \n",
       "⎢                                                                             \n",
       "⎢                                                                             \n",
       "⎢                                                                             \n",
       "⎢                                                                             \n",
       "⎣0                                                0                           \n",
       "\n",
       "                                                                    0         \n",
       "                                                                              \n",
       "   √3⋅ⅈ⋅k_y                                                                   \n",
       " + ────────                                                                   \n",
       "      2        -ⅈ⋅kₓ                                                          \n",
       "            + e                                                     0         \n",
       "                                                                              \n",
       "                                 ⅈ⋅kₓ   √3⋅ⅈ⋅k_y      ⅈ⋅kₓ   √3⋅ⅈ⋅k_y    ⅈ⋅kₓ \n",
       "                               - ──── - ────────    - ──── + ────────    ──── \n",
       "                       ⅈ⋅kₓ       2        2           2        2         2   \n",
       "                      e     + e                  + e                  + e     \n",
       "\n",
       "                                      ⎤\n",
       "                                      ⎥\n",
       "                                      ⎥\n",
       "                                      ⎥\n",
       "                                      ⎥\n",
       "                                      ⎥\n",
       "                                      ⎥\n",
       "  √3⋅ⅈ⋅k_y    ⅈ⋅kₓ   √3⋅ⅈ⋅k_y         ⎥\n",
       "- ────────    ──── + ────────         ⎥\n",
       "     2         2        2        -ⅈ⋅kₓ⎥\n",
       "           + e                + e     ⎦"
      ]
     },
     "metadata": {},
     "output_type": "display_data"
    },
    {
     "data": {
      "image/png": "[encoded data removed]",
      "text/latex": [
       "$$\\left[\\begin{matrix}0 & 0 & 0\\\\0 & - \\frac{\\sqrt{3} e^{i k_{x}}}{2} - \\frac{\\sqrt{3} e^{- i k_{x}}}{2} & \\frac{e^{i k_{x}}}{2} + e^{- \\frac{i k_{x}}{2} + \\frac{\\sqrt{3} i k_{y}}{2}} - e^{\\frac{i k_{x}}{2} + \\frac{\\sqrt{3} i k_{y}}{2}} - \\frac{e^{- i k_{x}}}{2}\\\\0 & - \\frac{e^{i k_{x}}}{2} - e^{- \\frac{i k_{x}}{2} - \\frac{\\sqrt{3} i k_{y}}{2}} + e^{\\frac{i k_{x}}{2} - \\frac{\\sqrt{3} i k_{y}}{2}} + \\frac{e^{- i k_{x}}}{2} & \\frac{\\sqrt{3} e^{i k_{x}}}{6} - \\frac{\\sqrt{3} e^{- \\frac{i k_{x}}{2} - \\frac{\\sqrt{3} i k_{y}}{2}}}{3} - \\frac{\\sqrt{3} e^{- \\frac{i k_{x}}{2} + \\frac{\\sqrt{3} i k_{y}}{2}}}{3} - \\frac{\\sqrt{3} e^{\\frac{i k_{x}}{2} - \\frac{\\sqrt{3} i k_{y}}{2}}}{3} - \\frac{\\sqrt{3} e^{\\frac{i k_{x}}{2} + \\frac{\\sqrt{3} i k_{y}}{2}}}{3} + \\frac{\\sqrt{3} e^{- i k_{x}}}{6}\\end{matrix}\\right]$$"
      ],
      "text/plain": [
       "⎡0                             0                                              \n",
       "⎢                                                                             \n",
       "⎢                                                                             \n",
       "⎢                          ⅈ⋅kₓ       -ⅈ⋅kₓ                                   \n",
       "⎢                      √3⋅e       √3⋅e                                        \n",
       "⎢0                   - ──────── - ─────────                                   \n",
       "⎢                         2           2                                       \n",
       "⎢                                                                             \n",
       "⎢                                                                             \n",
       "⎢                ⅈ⋅kₓ   √3⋅ⅈ⋅k_y    ⅈ⋅kₓ   √3⋅ⅈ⋅k_y                          -\n",
       "⎢      ⅈ⋅kₓ    - ──── - ────────    ──── - ────────    -ⅈ⋅kₓ      ⅈ⋅kₓ        \n",
       "⎢     e           2        2         2        2       e       √3⋅e       √3⋅e \n",
       "⎢0  - ───── - e                  + e                + ──────  ──────── - ─────\n",
       "⎣       2                                               2        6            \n",
       "\n",
       "                                       0                                      \n",
       "                                                                              \n",
       "                        ⅈ⋅kₓ   √3⋅ⅈ⋅k_y    ⅈ⋅kₓ   √3⋅ⅈ⋅k_y                    \n",
       "              ⅈ⋅kₓ    - ──── + ────────    ──── + ────────    -ⅈ⋅kₓ           \n",
       "             e           2        2         2        2       e                \n",
       "             ───── + e                  - e                - ──────           \n",
       "               2                                               2              \n",
       "                                                                              \n",
       " ⅈ⋅kₓ   √3⋅ⅈ⋅k_y         ⅈ⋅kₓ   √3⋅ⅈ⋅k_y       ⅈ⋅kₓ   √3⋅ⅈ⋅k_y       ⅈ⋅kₓ   √3\n",
       " ──── - ────────       - ──── + ────────       ──── - ────────       ──── + ──\n",
       "  2        2              2        2            2        2            2       \n",
       "                   √3⋅e                    √3⋅e                  √3⋅e         \n",
       "──────────────── - ───────────────────── - ─────────────────── - ─────────────\n",
       "     3                       3                      3                     3   \n",
       "\n",
       "                  ⎤\n",
       "                  ⎥\n",
       "                  ⎥\n",
       "                  ⎥\n",
       "                  ⎥\n",
       "                  ⎥\n",
       "                  ⎥\n",
       "                  ⎥\n",
       "⋅ⅈ⋅k_y            ⎥\n",
       "──────            ⎥\n",
       " 2           -ⅈ⋅kₓ⎥\n",
       "         √3⋅e     ⎥\n",
       "────── + ─────────⎥\n",
       "             6    ⎦"
      ]
     },
     "metadata": {},
     "output_type": "display_data"
    },
    {
     "data": {
      "image/png": "[encoded data removed]",
      "text/latex": [
       "$$\\left[\\begin{matrix}0 & 0 & 0\\\\0 & - \\frac{\\sqrt{3} e^{i k_{x}}}{2} - \\frac{\\sqrt{3} e^{- i k_{x}}}{2} & - \\frac{e^{i k_{x}}}{2} - e^{- \\frac{i k_{x}}{2} - \\frac{\\sqrt{3} i k_{y}}{2}} + e^{\\frac{i k_{x}}{2} - \\frac{\\sqrt{3} i k_{y}}{2}} + \\frac{e^{- i k_{x}}}{2}\\\\0 & \\frac{e^{i k_{x}}}{2} + e^{- \\frac{i k_{x}}{2} + \\frac{\\sqrt{3} i k_{y}}{2}} - e^{\\frac{i k_{x}}{2} + \\frac{\\sqrt{3} i k_{y}}{2}} - \\frac{e^{- i k_{x}}}{2} & \\frac{\\sqrt{3} e^{i k_{x}}}{6} - \\frac{\\sqrt{3} e^{- \\frac{i k_{x}}{2} - \\frac{\\sqrt{3} i k_{y}}{2}}}{3} - \\frac{\\sqrt{3} e^{- \\frac{i k_{x}}{2} + \\frac{\\sqrt{3} i k_{y}}{2}}}{3} - \\frac{\\sqrt{3} e^{\\frac{i k_{x}}{2} - \\frac{\\sqrt{3} i k_{y}}{2}}}{3} - \\frac{\\sqrt{3} e^{\\frac{i k_{x}}{2} + \\frac{\\sqrt{3} i k_{y}}{2}}}{3} + \\frac{\\sqrt{3} e^{- i k_{x}}}{6}\\end{matrix}\\right]$$"
      ],
      "text/plain": [
       "⎡0                            0                                               \n",
       "⎢                                                                             \n",
       "⎢                                                                             \n",
       "⎢                         ⅈ⋅kₓ       -ⅈ⋅kₓ                                    \n",
       "⎢                     √3⋅e       √3⋅e                                         \n",
       "⎢0                  - ──────── - ─────────                                    \n",
       "⎢                        2           2                                        \n",
       "⎢                                                                             \n",
       "⎢                                                                            ⅈ\n",
       "⎢              ⅈ⋅kₓ   √3⋅ⅈ⋅k_y    ⅈ⋅kₓ   √3⋅ⅈ⋅k_y                          - ─\n",
       "⎢    ⅈ⋅kₓ    - ──── + ────────    ──── + ────────    -ⅈ⋅kₓ      ⅈ⋅kₓ          \n",
       "⎢   e           2        2         2        2       e       √3⋅e       √3⋅e   \n",
       "⎢0  ───── + e                  - e                - ──────  ──────── - ───────\n",
       "⎣     2                                               2        6              \n",
       "\n",
       "                                     0                                        \n",
       "                                                                              \n",
       "                       ⅈ⋅kₓ   √3⋅ⅈ⋅k_y    ⅈ⋅kₓ   √3⋅ⅈ⋅k_y                     \n",
       "             ⅈ⋅kₓ    - ──── - ────────    ──── - ────────    -ⅈ⋅kₓ            \n",
       "            e           2        2         2        2       e                 \n",
       "          - ───── - e                  + e                + ──────            \n",
       "              2                                               2               \n",
       "                                                                              \n",
       "⋅kₓ   √3⋅ⅈ⋅k_y         ⅈ⋅kₓ   √3⋅ⅈ⋅k_y       ⅈ⋅kₓ   √3⋅ⅈ⋅k_y       ⅈ⋅kₓ   √3⋅ⅈ\n",
       "─── - ────────       - ──── + ────────       ──── - ────────       ──── + ────\n",
       "2        2              2        2            2        2            2        2\n",
       "                 √3⋅e                    √3⋅e                  √3⋅e           \n",
       "────────────── - ───────────────────── - ─────────────────── - ───────────────\n",
       "   3                       3                      3                     3     \n",
       "\n",
       "                ⎤\n",
       "                ⎥\n",
       "                ⎥\n",
       "                ⎥\n",
       "                ⎥\n",
       "                ⎥\n",
       "                ⎥\n",
       "                ⎥\n",
       "⋅k_y            ⎥\n",
       "────            ⎥\n",
       "           -ⅈ⋅kₓ⎥\n",
       "       √3⋅e     ⎥\n",
       "──── + ─────────⎥\n",
       "           6    ⎦"
      ]
     },
     "metadata": {},
     "output_type": "display_data"
    }
   ],
   "source": [
    "qsymm.display_family(family, nsimplify=True)"
   ]
  },
  {
   "cell_type": "markdown",
   "metadata": {},
   "source": [
    "# 4-site model for monolayer WTe$_2$"
   ]
  },
  {
   "cell_type": "markdown",
   "metadata": {},
   "source": [
    "We use the Hamiltonian generator to reproduce the tight binding model for monolayer WTe$_2$ published in Phys. Rev. X 6, 041069 (2016).\n",
    "\n",
    "The generators of the symmetry group of the tight binding model are time reversal symmetry, glide reflection and inversion symmetry."
   ]
  },
  {
   "cell_type": "code",
   "execution_count": 69,
   "metadata": {},
   "outputs": [],
   "source": [
    "# Define 4 sites with one orbital each\n",
    "sites = ['Ad', 'Ap', 'Bd', 'Bp']\n",
    "norbs = OrderedDict({site: 1 for site in sites})\n",
    "\n",
    "# Define symbolic coordinates for orbitals\n",
    "rAp = qsymm.sympify('[x_Ap, y_Ap]')\n",
    "rAd = qsymm.sympify('[x_Ad, y_Ad]')\n",
    "rBp = qsymm.sympify('[x_Bp, y_Bp]')\n",
    "rBd = qsymm.sympify('[x_Bd, y_Bd]')\n",
    "\n",
    "# Define hoppings to include\n",
    "hopping_vectors = [('Bd', 'Bd', np.array([1, 0])),\n",
    "                   ('Ap', 'Ap', np.array([1, 0])),\n",
    "                   ('Bd', 'Ap', rAp - rBd),\n",
    "                   ('Ap', 'Bp', rBp - rAp),\n",
    "                   ('Ad', 'Bd', rBd - rAd),                   \n",
    "                  ]"
   ]
  },
  {
   "cell_type": "code",
   "execution_count": 70,
   "metadata": {},
   "outputs": [
    {
     "data": {
      "image/png": "[encoded data removed]",
      "text/latex": [
       "$$8$$"
      ],
      "text/plain": [
       "8"
      ]
     },
     "execution_count": 70,
     "metadata": {},
     "output_type": "execute_result"
    }
   ],
   "source": [
    "# Inversion\n",
    "perm_inv = {'Ad': 'Bd', 'Ap': 'Bp', 'Bd': 'Ad', 'Bp': 'Ap'}\n",
    "onsite_inv = {site: (1 if site in ['Ad', 'Bd'] else -1) * np.eye(1) for site in sites}\n",
    "inversion = qsymm.groups.symmetry_from_permutation(-np.eye(2), perm_inv, norbs, onsite_inv)\n",
    "\n",
    "# Glide\n",
    "perm_glide = {site: site for site in sites}\n",
    "onsite_glide = {site: (1 if site in ['Ad', 'Bd'] else -1) * np.eye(1) for site in sites}\n",
    "glide = qsymm.groups.symmetry_from_permutation(np.array([[-1, 0],[0, 1]]), perm_glide, norbs, onsite_glide)\n",
    "\n",
    "# TR\n",
    "time_reversal = qsymm.PointGroupElement(np.eye(2), True, False, np.eye(4))\n",
    "\n",
    "gens = {glide, inversion, time_reversal}\n",
    "sg = qsymm.groups.generate_group(gens)\n",
    "len(sg)"
   ]
  },
  {
   "cell_type": "markdown",
   "metadata": {},
   "source": [
    "Generate the tight binding Hamiltonian."
   ]
  },
  {
   "cell_type": "code",
   "execution_count": 71,
   "metadata": {},
   "outputs": [
    {
     "name": "stdout",
     "output_type": "stream",
     "text": [
      "7 [1, 1, 4, 4, 2, 2, 4]\n"
     ]
    }
   ],
   "source": [
    "family = qsymm.bloch_family(hopping_vectors, gens, norbs=norbs)\n",
    "print(len(family), [len(fam) for fam in family])"
   ]
  },
  {
   "cell_type": "code",
   "execution_count": 72,
   "metadata": {},
   "outputs": [
    {
     "data": {
      "image/png": "[encoded data removed]",
      "text/latex": [
       "$$\\left[\\begin{matrix}1 & 0 & 0 & 0\\\\0 & 0 & 0 & 0\\\\0 & 0 & 1 & 0\\\\0 & 0 & 0 & 0\\end{matrix}\\right]$$"
      ],
      "text/plain": [
       "⎡1  0  0  0⎤\n",
       "⎢          ⎥\n",
       "⎢0  0  0  0⎥\n",
       "⎢          ⎥\n",
       "⎢0  0  1  0⎥\n",
       "⎢          ⎥\n",
       "⎣0  0  0  0⎦"
      ]
     },
     "metadata": {},
     "output_type": "display_data"
    },
    {
     "data": {
      "image/png": "[encoded data removed]",
      "text/latex": [
       "$$\\left[\\begin{matrix}0 & 0 & 0 & 0\\\\0 & 1 & 0 & 0\\\\0 & 0 & 0 & 0\\\\0 & 0 & 0 & 1\\end{matrix}\\right]$$"
      ],
      "text/plain": [
       "⎡0  0  0  0⎤\n",
       "⎢          ⎥\n",
       "⎢0  1  0  0⎥\n",
       "⎢          ⎥\n",
       "⎢0  0  0  0⎥\n",
       "⎢          ⎥\n",
       "⎣0  0  0  1⎦"
      ]
     },
     "metadata": {},
     "output_type": "display_data"
    },
    {
     "data": {
      "image/png": "[encoded data removed]",
      "text/latex": [
       "$$\\left[\\begin{matrix}0 & 0 & e^{- i k_{x} x_{Ad} + i k_{x} x_{Bd} - i k_{y} y_{Ad} + i k_{y} y_{Bd}} + e^{i k_{x} x_{Ad} - i k_{x} x_{Bd} - i k_{y} y_{Ad} + i k_{y} y_{Bd}} & 0\\\\0 & 0 & 0 & 0\\\\e^{- i k_{x} x_{Ad} + i k_{x} x_{Bd} + i k_{y} y_{Ad} - i k_{y} y_{Bd}} + e^{i k_{x} x_{Ad} - i k_{x} x_{Bd} + i k_{y} y_{Ad} - i k_{y} y_{Bd}} & 0 & 0 & 0\\\\0 & 0 & 0 & 0\\end{matrix}\\right]$$"
      ],
      "text/plain": [
       "⎡                                                                             \n",
       "⎢                                                 0                           \n",
       "⎢                                                                             \n",
       "⎢                                                 0                           \n",
       "⎢                                                                             \n",
       "⎢ -ⅈ⋅kₓ⋅x_Ad + ⅈ⋅kₓ⋅x_Bd + ⅈ⋅k_y⋅y_Ad - ⅈ⋅k_y⋅y_Bd    ⅈ⋅kₓ⋅x_Ad - ⅈ⋅kₓ⋅x_Bd + \n",
       "⎢e                                                 + e                        \n",
       "⎢                                                                             \n",
       "⎣                                                 0                           \n",
       "\n",
       "                             -ⅈ⋅kₓ⋅x_Ad + ⅈ⋅kₓ⋅x_Bd - ⅈ⋅k_y⋅y_Ad + ⅈ⋅k_y⋅y_Bd \n",
       "                         0  e                                                 \n",
       "                                                                              \n",
       "                         0                                                   0\n",
       "                                                                              \n",
       "ⅈ⋅k_y⋅y_Ad - ⅈ⋅k_y⋅y_Bd                                                       \n",
       "                         0                                                   0\n",
       "                                                                              \n",
       "                         0                                                   0\n",
       "\n",
       "   ⅈ⋅kₓ⋅x_Ad - ⅈ⋅kₓ⋅x_Bd - ⅈ⋅k_y⋅y_Ad + ⅈ⋅k_y⋅y_Bd   ⎤\n",
       "+ e                                                 0⎥\n",
       "                                                     ⎥\n",
       "                                                    0⎥\n",
       "                                                     ⎥\n",
       "                                                     ⎥\n",
       "                                                    0⎥\n",
       "                                                     ⎥\n",
       "                                                    0⎦"
      ]
     },
     "metadata": {},
     "output_type": "display_data"
    },
    {
     "data": {
      "image/png": "[encoded data removed]",
      "text/latex": [
       "$$\\left[\\begin{matrix}0 & 0 & 0 & 0\\\\0 & 0 & 0 & e^{- i k_{x} x_{Ap} + i k_{x} x_{Bp} - i k_{y} y_{Ap} + i k_{y} y_{Bp}} + e^{i k_{x} x_{Ap} - i k_{x} x_{Bp} - i k_{y} y_{Ap} + i k_{y} y_{Bp}}\\\\0 & 0 & 0 & 0\\\\0 & e^{- i k_{x} x_{Ap} + i k_{x} x_{Bp} + i k_{y} y_{Ap} - i k_{y} y_{Bp}} + e^{i k_{x} x_{Ap} - i k_{x} x_{Bp} + i k_{y} y_{Ap} - i k_{y} y_{Bp}} & 0 & 0\\end{matrix}\\right]$$"
      ],
      "text/plain": [
       "⎡0                                                   0                        \n",
       "⎢                                                                             \n",
       "⎢                                                                             \n",
       "⎢0                                                   0                        \n",
       "⎢                                                                             \n",
       "⎢0                                                   0                        \n",
       "⎢                                                                             \n",
       "⎢    -ⅈ⋅kₓ⋅x_Ap + ⅈ⋅kₓ⋅x_Bp + ⅈ⋅k_y⋅y_Ap - ⅈ⋅k_y⋅y_Bp    ⅈ⋅kₓ⋅x_Ap - ⅈ⋅kₓ⋅x_Bp\n",
       "⎣0  e                                                 + e                     \n",
       "\n",
       "                            0                                                 \n",
       "                                                                              \n",
       "                                -ⅈ⋅kₓ⋅x_Ap + ⅈ⋅kₓ⋅x_Bp - ⅈ⋅k_y⋅y_Ap + ⅈ⋅k_y⋅y_\n",
       "                            0  e                                              \n",
       "                                                                              \n",
       "                            0                                                 \n",
       "                                                                              \n",
       " + ⅈ⋅k_y⋅y_Ap - ⅈ⋅k_y⋅y_Bp                                                    \n",
       "                            0                                                 \n",
       "\n",
       "  0                                                  ⎤\n",
       "                                                     ⎥\n",
       "Bp    ⅈ⋅kₓ⋅x_Ap - ⅈ⋅kₓ⋅x_Bp - ⅈ⋅k_y⋅y_Ap + ⅈ⋅k_y⋅y_Bp⎥\n",
       "   + e                                               ⎥\n",
       "                                                     ⎥\n",
       "  0                                                  ⎥\n",
       "                                                     ⎥\n",
       "                                                     ⎥\n",
       "  0                                                  ⎦"
      ]
     },
     "metadata": {},
     "output_type": "display_data"
    },
    {
     "data": {
      "image/png": "[encoded data removed]",
      "text/latex": [
       "$$\\left[\\begin{matrix}e^{i k_{x}} + e^{- i k_{x}} & 0 & 0 & 0\\\\0 & 0 & 0 & 0\\\\0 & 0 & e^{i k_{x}} + e^{- i k_{x}} & 0\\\\0 & 0 & 0 & 0\\end{matrix}\\right]$$"
      ],
      "text/plain": [
       "⎡ ⅈ⋅kₓ    -ⅈ⋅kₓ                      ⎤\n",
       "⎢e     + e       0        0         0⎥\n",
       "⎢                                    ⎥\n",
       "⎢      0         0        0         0⎥\n",
       "⎢                                    ⎥\n",
       "⎢                    ⅈ⋅kₓ    -ⅈ⋅kₓ   ⎥\n",
       "⎢      0         0  e     + e       0⎥\n",
       "⎢                                    ⎥\n",
       "⎣      0         0        0         0⎦"
      ]
     },
     "metadata": {},
     "output_type": "display_data"
    },
    {
     "data": {
      "image/png": "[encoded data removed]",
      "text/latex": [
       "$$\\left[\\begin{matrix}0 & 0 & 0 & 0\\\\0 & e^{i k_{x}} + e^{- i k_{x}} & 0 & 0\\\\0 & 0 & 0 & 0\\\\0 & 0 & 0 & e^{i k_{x}} + e^{- i k_{x}}\\end{matrix}\\right]$$"
      ],
      "text/plain": [
       "⎡0        0         0        0       ⎤\n",
       "⎢                                    ⎥\n",
       "⎢    ⅈ⋅kₓ    -ⅈ⋅kₓ                   ⎥\n",
       "⎢0  e     + e       0        0       ⎥\n",
       "⎢                                    ⎥\n",
       "⎢0        0         0        0       ⎥\n",
       "⎢                                    ⎥\n",
       "⎢                       ⅈ⋅kₓ    -ⅈ⋅kₓ⎥\n",
       "⎣0        0         0  e     + e     ⎦"
      ]
     },
     "metadata": {},
     "output_type": "display_data"
    },
    {
     "data": {
      "image/png": "[encoded data removed]",
      "text/latex": [
       "$$\\left[\\begin{matrix}0 & 0 & 0 & - e^{- i k_{x} x_{Ap} + i k_{x} x_{Bd} - i k_{y} y_{Ap} + i k_{y} y_{Bd}} + e^{i k_{x} x_{Ap} - i k_{x} x_{Bd} - i k_{y} y_{Ap} + i k_{y} y_{Bd}}\\\\0 & 0 & e^{- i k_{x} x_{Ap} + i k_{x} x_{Bd} - i k_{y} y_{Ap} + i k_{y} y_{Bd}} - e^{i k_{x} x_{Ap} - i k_{x} x_{Bd} - i k_{y} y_{Ap} + i k_{y} y_{Bd}} & 0\\\\0 & - e^{- i k_{x} x_{Ap} + i k_{x} x_{Bd} + i k_{y} y_{Ap} - i k_{y} y_{Bd}} + e^{i k_{x} x_{Ap} - i k_{x} x_{Bd} + i k_{y} y_{Ap} - i k_{y} y_{Bd}} & 0 & 0\\\\e^{- i k_{x} x_{Ap} + i k_{x} x_{Bd} + i k_{y} y_{Ap} - i k_{y} y_{Bd}} - e^{i k_{x} x_{Ap} - i k_{x} x_{Bd} + i k_{y} y_{Ap} - i k_{y} y_{Bd}} & 0 & 0 & 0\\end{matrix}\\right]$$"
      ],
      "text/plain": [
       "⎡                                                                             \n",
       "⎢                                                 0                           \n",
       "⎢                                                                             \n",
       "⎢                                                                             \n",
       "⎢                                                 0                           \n",
       "⎢                                                                             \n",
       "⎢                                                                             \n",
       "⎢                                                 0                           \n",
       "⎢                                                                             \n",
       "⎢ -ⅈ⋅kₓ⋅x_Ap + ⅈ⋅kₓ⋅x_Bd + ⅈ⋅k_y⋅y_Ap - ⅈ⋅k_y⋅y_Bd    ⅈ⋅kₓ⋅x_Ap - ⅈ⋅kₓ⋅x_Bd + \n",
       "⎣e                                                 - e                        \n",
       "\n",
       "                                                                              \n",
       "                                                                           0  \n",
       "                                                                              \n",
       "                                                                              \n",
       "                                                                           0  \n",
       "                                                                              \n",
       "                            -ⅈ⋅kₓ⋅x_Ap + ⅈ⋅kₓ⋅x_Bd + ⅈ⋅k_y⋅y_Ap - ⅈ⋅k_y⋅y_Bd  \n",
       "                         - e                                                 +\n",
       "                                                                              \n",
       "ⅈ⋅k_y⋅y_Ap - ⅈ⋅k_y⋅y_Bd                                                       \n",
       "                                                                           0  \n",
       "\n",
       "                                                                              \n",
       "                                                                              \n",
       "                                                                              \n",
       "                                                    -ⅈ⋅kₓ⋅x_Ap + ⅈ⋅kₓ⋅x_Bd - ⅈ\n",
       "                                                   e                          \n",
       "                                                                              \n",
       "  ⅈ⋅kₓ⋅x_Ap - ⅈ⋅kₓ⋅x_Bd + ⅈ⋅k_y⋅y_Ap - ⅈ⋅k_y⋅y_Bd                             \n",
       " e                                                                            \n",
       "                                                                              \n",
       "                                                                              \n",
       "                                                                              \n",
       "\n",
       "                                                                              \n",
       "                      0                                                    - e\n",
       "                                                                              \n",
       "⋅k_y⋅y_Ap + ⅈ⋅k_y⋅y_Bd    ⅈ⋅kₓ⋅x_Ap - ⅈ⋅kₓ⋅x_Bd - ⅈ⋅k_y⋅y_Ap + ⅈ⋅k_y⋅y_Bd     \n",
       "                       - e                                                    \n",
       "                                                                              \n",
       "                                                                              \n",
       "                      0                                                       \n",
       "                                                                              \n",
       "                                                                              \n",
       "                      0                                                       \n",
       "\n",
       "-ⅈ⋅kₓ⋅x_Ap + ⅈ⋅kₓ⋅x_Bd - ⅈ⋅k_y⋅y_Ap + ⅈ⋅k_y⋅y_Bd    ⅈ⋅kₓ⋅x_Ap - ⅈ⋅kₓ⋅x_Bd - ⅈ⋅\n",
       "                                                 + e                          \n",
       "                                                                              \n",
       "                                                                              \n",
       "                                               0                              \n",
       "                                                                              \n",
       "                                                                              \n",
       "                                               0                              \n",
       "                                                                              \n",
       "                                                                              \n",
       "                                               0                              \n",
       "\n",
       "k_y⋅y_Ap + ⅈ⋅k_y⋅y_Bd⎤\n",
       "                     ⎥\n",
       "                     ⎥\n",
       "                     ⎥\n",
       "                     ⎥\n",
       "                     ⎥\n",
       "                     ⎥\n",
       "                     ⎥\n",
       "                     ⎥\n",
       "                     ⎥\n",
       "                     ⎦"
      ]
     },
     "metadata": {},
     "output_type": "display_data"
    }
   ],
   "source": [
    "qsymm.display_family(family)"
   ]
  },
  {
   "cell_type": "markdown",
   "metadata": {},
   "source": [
    "# Square lattice with 4 sites in the UC"
   ]
  },
  {
   "cell_type": "markdown",
   "metadata": {},
   "source": [
    "Make model with square lattice that has 4 sites in the unit cell related by 4-fold rotation. Sites have spin-1/2 and we add time reversal and particle-hole symmetry."
   ]
  },
  {
   "cell_type": "code",
   "execution_count": 73,
   "metadata": {},
   "outputs": [
    {
     "data": {
      "image/png": "[encoded data removed]",
      "text/latex": [
       "$$16$$"
      ],
      "text/plain": [
       "16"
      ]
     },
     "execution_count": 73,
     "metadata": {},
     "output_type": "execute_result"
    }
   ],
   "source": [
    "hopping_vectors = [('a', 'b', np.array([1, 0])),\n",
    "                   ('b', 'a', np.array([1, 0])),\n",
    "                   ('c', 'd', np.array([1, 0])),\n",
    "                   ('d', 'c', np.array([1, 0])),\n",
    "                   ('a', 'c', np.array([0, 1])),\n",
    "                   ('c', 'a', np.array([0, 1])),\n",
    "                   ('b', 'd', np.array([0, 1])),\n",
    "                   ('d', 'b', np.array([0, 1])),                  \n",
    "                  ]\n",
    "\n",
    "# Define spin-1/2 operators\n",
    "S = qsymm.groups.spin_matrices(1/2)\n",
    "# Define real space rotation generators in 2D\n",
    "L = qsymm.groups.L_matrices(d=2)\n",
    "\n",
    "sites = ['a', 'b', 'c', 'd']\n",
    "norbs = OrderedDict({site: 2 for site in sites})\n",
    "\n",
    "perm_C4 = {'a': 'b', 'b': 'd', 'd': 'c', 'c': 'a'}\n",
    "onsite_C4 = {site: qsymm.groups.spin_rotation(2*np.pi * np.array([0, 0, 1/4]), S) for site in sites}\n",
    "C4 = qsymm.groups.symmetry_from_permutation(\n",
    "                qsymm.groups.spin_rotation(2*np.pi * np.array([1/4]), L, roundint=True), \n",
    "                perm_C4, norbs, onsite_C4)\n",
    "\n",
    "# Fermionic TR\n",
    "time_reversal = qsymm.PointGroupElement(np.eye(2), True, False, \n",
    "                np.kron(np.eye(4), qsymm.groups.spin_rotation(2*np.pi * np.array([0, 1/2, 0]), S)))\n",
    "\n",
    "# define strange PH symmetry\n",
    "particle_hole = qsymm.PointGroupElement(np.eye(2), True, True, np.eye(8))\n",
    "\n",
    "gens = {C4, time_reversal, particle_hole}\n",
    "\n",
    "sg = qsymm.groups.generate_group(gens)\n",
    "len(sg)"
   ]
  },
  {
   "cell_type": "code",
   "execution_count": 74,
   "metadata": {},
   "outputs": [
    {
     "name": "stdout",
     "output_type": "stream",
     "text": [
      "2 [4, 4]\n"
     ]
    },
    {
     "data": {
      "image/png": "[encoded data removed]",
      "text/latex": [
       "$$\\left[\\begin{matrix}0 & 0 & - i e^{- i k_{x}} & 0 & i e^{i k_{y}} & 0 & 0 & 0\\\\0 & 0 & 0 & i e^{- i k_{x}} & 0 & - i e^{i k_{y}} & 0 & 0\\\\i e^{i k_{x}} & 0 & 0 & 0 & 0 & 0 & - i e^{i k_{y}} & 0\\\\0 & - i e^{i k_{x}} & 0 & 0 & 0 & 0 & 0 & i e^{i k_{y}}\\\\- i e^{- i k_{y}} & 0 & 0 & 0 & 0 & 0 & i e^{- i k_{x}} & 0\\\\0 & i e^{- i k_{y}} & 0 & 0 & 0 & 0 & 0 & - i e^{- i k_{x}}\\\\0 & 0 & i e^{- i k_{y}} & 0 & - i e^{i k_{x}} & 0 & 0 & 0\\\\0 & 0 & 0 & - i e^{- i k_{y}} & 0 & i e^{i k_{x}} & 0 & 0\\end{matrix}\\right]$$"
      ],
      "text/plain": [
       "⎡                           -ⅈ⋅kₓ                 ⅈ⋅k_y                       \n",
       "⎢    0           0      -ⅈ⋅e           0       ⅈ⋅e           0          0     \n",
       "⎢                                                                             \n",
       "⎢                                      -ⅈ⋅kₓ                 ⅈ⋅k_y            \n",
       "⎢    0           0          0       ⅈ⋅e           0      -ⅈ⋅e           0     \n",
       "⎢                                                                             \n",
       "⎢    ⅈ⋅kₓ                                                               ⅈ⋅k_y \n",
       "⎢ ⅈ⋅e            0          0          0          0          0      -ⅈ⋅e      \n",
       "⎢                                                                             \n",
       "⎢                ⅈ⋅kₓ                                                         \n",
       "⎢    0       -ⅈ⋅e           0          0          0          0          0     \n",
       "⎢                                                                             \n",
       "⎢    -ⅈ⋅k_y                                                            -ⅈ⋅kₓ  \n",
       "⎢-ⅈ⋅e            0          0          0          0          0      ⅈ⋅e       \n",
       "⎢                                                                             \n",
       "⎢               -ⅈ⋅k_y                                                        \n",
       "⎢    0       ⅈ⋅e            0          0          0          0          0     \n",
       "⎢                                                                             \n",
       "⎢                          -ⅈ⋅k_y                  ⅈ⋅kₓ                       \n",
       "⎢    0           0      ⅈ⋅e            0       -ⅈ⋅e          0          0     \n",
       "⎢                                                                             \n",
       "⎢                                      -ⅈ⋅k_y                ⅈ⋅kₓ             \n",
       "⎣    0           0          0      -ⅈ⋅e           0       ⅈ⋅e           0     \n",
       "\n",
       "          ⎤\n",
       "     0    ⎥\n",
       "          ⎥\n",
       "          ⎥\n",
       "     0    ⎥\n",
       "          ⎥\n",
       "          ⎥\n",
       "     0    ⎥\n",
       "          ⎥\n",
       "    ⅈ⋅k_y ⎥\n",
       " ⅈ⋅e      ⎥\n",
       "          ⎥\n",
       "          ⎥\n",
       "     0    ⎥\n",
       "          ⎥\n",
       "     -ⅈ⋅kₓ⎥\n",
       " -ⅈ⋅e     ⎥\n",
       "          ⎥\n",
       "          ⎥\n",
       "     0    ⎥\n",
       "          ⎥\n",
       "          ⎥\n",
       "     0    ⎦"
      ]
     },
     "metadata": {},
     "output_type": "display_data"
    },
    {
     "data": {
      "image/png": "[encoded data removed]",
      "text/latex": [
       "$$\\left[\\begin{matrix}0 & 0 & i e^{i k_{x}} & 0 & - i e^{- i k_{y}} & 0 & 0 & 0\\\\0 & 0 & 0 & - i e^{i k_{x}} & 0 & i e^{- i k_{y}} & 0 & 0\\\\- i e^{- i k_{x}} & 0 & 0 & 0 & 0 & 0 & i e^{- i k_{y}} & 0\\\\0 & i e^{- i k_{x}} & 0 & 0 & 0 & 0 & 0 & - i e^{- i k_{y}}\\\\i e^{i k_{y}} & 0 & 0 & 0 & 0 & 0 & - i e^{i k_{x}} & 0\\\\0 & - i e^{i k_{y}} & 0 & 0 & 0 & 0 & 0 & i e^{i k_{x}}\\\\0 & 0 & - i e^{i k_{y}} & 0 & i e^{- i k_{x}} & 0 & 0 & 0\\\\0 & 0 & 0 & i e^{i k_{y}} & 0 & - i e^{- i k_{x}} & 0 & 0\\end{matrix}\\right]$$"
      ],
      "text/plain": [
       "⎡                          ⅈ⋅kₓ                 -ⅈ⋅k_y                        \n",
       "⎢    0          0       ⅈ⋅e          0      -ⅈ⋅e            0          0      \n",
       "⎢                                                                             \n",
       "⎢                                     ⅈ⋅kₓ                 -ⅈ⋅k_y             \n",
       "⎢    0          0          0      -ⅈ⋅e          0       ⅈ⋅e            0      \n",
       "⎢                                                                             \n",
       "⎢    -ⅈ⋅kₓ                                                            -ⅈ⋅k_y  \n",
       "⎢-ⅈ⋅e           0          0         0          0           0      ⅈ⋅e        \n",
       "⎢                                                                             \n",
       "⎢              -ⅈ⋅kₓ                                                          \n",
       "⎢    0      ⅈ⋅e            0         0          0           0          0      \n",
       "⎢                                                                             \n",
       "⎢   ⅈ⋅k_y                                                              ⅈ⋅kₓ   \n",
       "⎢ⅈ⋅e            0          0         0          0           0      -ⅈ⋅e       \n",
       "⎢                                                                             \n",
       "⎢               ⅈ⋅k_y                                                         \n",
       "⎢    0      -ⅈ⋅e           0         0          0           0          0      \n",
       "⎢                                                                             \n",
       "⎢                          ⅈ⋅k_y                -ⅈ⋅kₓ                         \n",
       "⎢    0          0      -ⅈ⋅e          0       ⅈ⋅e            0          0      \n",
       "⎢                                                                             \n",
       "⎢                                    ⅈ⋅k_y                  -ⅈ⋅kₓ             \n",
       "⎣    0          0          0      ⅈ⋅e           0       -ⅈ⋅e           0      \n",
       "\n",
       "          ⎤\n",
       "    0     ⎥\n",
       "          ⎥\n",
       "          ⎥\n",
       "    0     ⎥\n",
       "          ⎥\n",
       "          ⎥\n",
       "    0     ⎥\n",
       "          ⎥\n",
       "    -ⅈ⋅k_y⎥\n",
       "-ⅈ⋅e      ⎥\n",
       "          ⎥\n",
       "          ⎥\n",
       "    0     ⎥\n",
       "          ⎥\n",
       "    ⅈ⋅kₓ  ⎥\n",
       " ⅈ⋅e      ⎥\n",
       "          ⎥\n",
       "          ⎥\n",
       "    0     ⎥\n",
       "          ⎥\n",
       "          ⎥\n",
       "    0     ⎦"
      ]
     },
     "metadata": {},
     "output_type": "display_data"
    }
   ],
   "source": [
    "family = qsymm.bloch_family(hopping_vectors, gens, norbs=norbs)\n",
    "print(len(family), [len(fam) for fam in family])\n",
    "qsymm.display_family(family)"
   ]
  }
 ],
 "metadata": {
  "kernelspec": {
   "display_name": "new_dev",
   "language": "python",
   "name": "new_dev"
  },
  "language_info": {
   "codemirror_mode": {
    "name": "ipython",
    "version": 3
   },
   "file_extension": ".py",
   "mimetype": "text/x-python",
   "name": "python",
   "nbconvert_exporter": "python",
   "pygments_lexer": "ipython3",
   "version": "3.6.7"
  }
 },
 "nbformat": 4,
 "nbformat_minor": 2
}
